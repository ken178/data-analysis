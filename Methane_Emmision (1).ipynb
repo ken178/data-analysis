{
  "cells": [
    {
      "cell_type": "markdown",
      "metadata": {
        "id": "Fr8KmlBOQtjA"
      },
      "source": [
        "##**STEP 1: IMPORTING LIBRARIES (Necessary)**"
      ]
    },
    {
      "cell_type": "code",
      "execution_count": 1,
      "metadata": {},
      "outputs": [],
      "source": [
        "#data manipulation and cleaning\n",
        "import pandas as pd\n",
        "import numpy as np\n",
        "import matplotlib.pyplot as plt\n",
        "\n",
        "#Preprocessing Libraries\n",
        "from sklearn.preprocessing import StandardScaler, MinMaxScaler, LabelEncoder, OneHotEncoder\n",
        "\n",
        "# handling missing values libraries\n",
        "from sklearn.impute import SimpleImputer  # For imputation\n",
        "\n",
        "# feature selection\n",
        "from sklearn.feature_selection import SelectKBest, f_classif\n",
        "\n",
        "# Time and timing libraries\n",
        "import datetime\n",
        "import time"
      ]
    },
    {
      "cell_type": "code",
      "execution_count": 3,
      "metadata": {
        "id": "i8Esu959QFpc"
      },
      "outputs": [],
      "source": [
        "\n",
        "def time_execution(code_block):\n",
        "    start_time = time.time()\n",
        "    code_block()\n",
        "    end_time = time.time()\n",
        "    execution_time = end_time - start_time\n",
        "    print(f\"Execution time: {execution_time:.2f} seconds\")\n"
      ]
    },
    {
      "cell_type": "markdown",
      "metadata": {
        "id": "t4qKdWHTSxaG"
      },
      "source": [
        "## **STEP 2: LOADING THE DATASET (Raw)**"
      ]
    },
    {
      "cell_type": "code",
      "execution_count": 4,
      "metadata": {
        "colab": {
          "base_uri": "https://localhost:8080/",
          "height": 585
        },
        "id": "h-6yts3FHydP",
        "outputId": "31dd6961-51e2-4d15-ce25-a03f354de34e"
      },
      "outputs": [
        {
          "data": {
            "text/html": [
              "<div>\n",
              "<style scoped>\n",
              "    .dataframe tbody tr th:only-of-type {\n",
              "        vertical-align: middle;\n",
              "    }\n",
              "\n",
              "    .dataframe tbody tr th {\n",
              "        vertical-align: top;\n",
              "    }\n",
              "\n",
              "    .dataframe thead th {\n",
              "        text-align: right;\n",
              "    }\n",
              "</style>\n",
              "<table border=\"1\" class=\"dataframe\">\n",
              "  <thead>\n",
              "    <tr style=\"text-align: right;\">\n",
              "      <th></th>\n",
              "      <th>Reference Number</th>\n",
              "      <th>Publication Title</th>\n",
              "      <th>Publication Authors</th>\n",
              "      <th>Publication Journal</th>\n",
              "      <th>Publication Volume</th>\n",
              "      <th>Publication Pages</th>\n",
              "      <th>Publication Year</th>\n",
              "      <th>Study Location</th>\n",
              "      <th>Experimental Design</th>\n",
              "      <th>Treatment Description</th>\n",
              "      <th>...</th>\n",
              "      <th>H2/DMI, g/kg SED</th>\n",
              "      <th>H2/DMI g/kg SD</th>\n",
              "      <th>CO2, g/d</th>\n",
              "      <th>CO2 SEM</th>\n",
              "      <th>CO2 SED</th>\n",
              "      <th>CO2 SD</th>\n",
              "      <th>CO2/DMI, g/kg</th>\n",
              "      <th>CO2/DMI, g/kg SEM</th>\n",
              "      <th>CO2/DMI, g/kg SED</th>\n",
              "      <th>CO2/DMI, g/kg SD</th>\n",
              "    </tr>\n",
              "  </thead>\n",
              "  <tbody>\n",
              "    <tr>\n",
              "      <th>0</th>\n",
              "      <td>1</td>\n",
              "      <td>Effects of lauric and myristic acids on rumina...</td>\n",
              "      <td>Hristov et al.</td>\n",
              "      <td>Journal of Dairy Science</td>\n",
              "      <td>94.0</td>\n",
              "      <td>382-395</td>\n",
              "      <td>2011</td>\n",
              "      <td>United States</td>\n",
              "      <td>Latin Square</td>\n",
              "      <td>stearic (control) 240 g/cow</td>\n",
              "      <td>...</td>\n",
              "      <td>NaN</td>\n",
              "      <td>NaN</td>\n",
              "      <td>NaN</td>\n",
              "      <td>NaN</td>\n",
              "      <td>NaN</td>\n",
              "      <td>NaN</td>\n",
              "      <td>NaN</td>\n",
              "      <td>NaN</td>\n",
              "      <td>NaN</td>\n",
              "      <td>NaN</td>\n",
              "    </tr>\n",
              "    <tr>\n",
              "      <th>1</th>\n",
              "      <td>1</td>\n",
              "      <td>Effects of lauric and myristic acids on rumina...</td>\n",
              "      <td>Hristov et al.</td>\n",
              "      <td>Journal of Dairy Science</td>\n",
              "      <td>94.0</td>\n",
              "      <td>382-395</td>\n",
              "      <td>2011</td>\n",
              "      <td>United States</td>\n",
              "      <td>Latin Square</td>\n",
              "      <td>lauric acid 240 g/cow</td>\n",
              "      <td>...</td>\n",
              "      <td>NaN</td>\n",
              "      <td>NaN</td>\n",
              "      <td>NaN</td>\n",
              "      <td>NaN</td>\n",
              "      <td>NaN</td>\n",
              "      <td>NaN</td>\n",
              "      <td>NaN</td>\n",
              "      <td>NaN</td>\n",
              "      <td>NaN</td>\n",
              "      <td>NaN</td>\n",
              "    </tr>\n",
              "    <tr>\n",
              "      <th>2</th>\n",
              "      <td>1</td>\n",
              "      <td>Effects of lauric and myristic acids on rumina...</td>\n",
              "      <td>Hristov et al.</td>\n",
              "      <td>Journal of Dairy Science</td>\n",
              "      <td>94.0</td>\n",
              "      <td>382-395</td>\n",
              "      <td>2011</td>\n",
              "      <td>United States</td>\n",
              "      <td>Latin Square</td>\n",
              "      <td>myristic acid 240 g/cow</td>\n",
              "      <td>...</td>\n",
              "      <td>NaN</td>\n",
              "      <td>NaN</td>\n",
              "      <td>NaN</td>\n",
              "      <td>NaN</td>\n",
              "      <td>NaN</td>\n",
              "      <td>NaN</td>\n",
              "      <td>NaN</td>\n",
              "      <td>NaN</td>\n",
              "      <td>NaN</td>\n",
              "      <td>NaN</td>\n",
              "    </tr>\n",
              "    <tr>\n",
              "      <th>3</th>\n",
              "      <td>4</td>\n",
              "      <td>Rumen fermentation and production effects of O...</td>\n",
              "      <td>Tekippe, J. A., Hristov, A. N., Heyler, K. S.,...</td>\n",
              "      <td>Journal of Dairy Science</td>\n",
              "      <td>94.0</td>\n",
              "      <td>5065-5079</td>\n",
              "      <td>2011</td>\n",
              "      <td>United States</td>\n",
              "      <td>Crossover</td>\n",
              "      <td>Control</td>\n",
              "      <td>...</td>\n",
              "      <td>NaN</td>\n",
              "      <td>NaN</td>\n",
              "      <td>NaN</td>\n",
              "      <td>NaN</td>\n",
              "      <td>NaN</td>\n",
              "      <td>NaN</td>\n",
              "      <td>NaN</td>\n",
              "      <td>NaN</td>\n",
              "      <td>NaN</td>\n",
              "      <td>NaN</td>\n",
              "    </tr>\n",
              "    <tr>\n",
              "      <th>4</th>\n",
              "      <td>4</td>\n",
              "      <td>Rumen fermentation and production effects of O...</td>\n",
              "      <td>Tekippe, J. A., Hristov, A. N., Heyler, K. S.,...</td>\n",
              "      <td>Journal of Dairy Science</td>\n",
              "      <td>94.0</td>\n",
              "      <td>5065-5079</td>\n",
              "      <td>2011</td>\n",
              "      <td>United States</td>\n",
              "      <td>Crossover</td>\n",
              "      <td>Origanum vulgare L. leaves</td>\n",
              "      <td>...</td>\n",
              "      <td>NaN</td>\n",
              "      <td>NaN</td>\n",
              "      <td>NaN</td>\n",
              "      <td>NaN</td>\n",
              "      <td>NaN</td>\n",
              "      <td>NaN</td>\n",
              "      <td>NaN</td>\n",
              "      <td>NaN</td>\n",
              "      <td>NaN</td>\n",
              "      <td>NaN</td>\n",
              "    </tr>\n",
              "  </tbody>\n",
              "</table>\n",
              "<p>5 rows × 188 columns</p>\n",
              "</div>"
            ],
            "text/plain": [
              "   Reference Number                                  Publication Title  \\\n",
              "0                 1  Effects of lauric and myristic acids on rumina...   \n",
              "1                 1  Effects of lauric and myristic acids on rumina...   \n",
              "2                 1  Effects of lauric and myristic acids on rumina...   \n",
              "3                 4  Rumen fermentation and production effects of O...   \n",
              "4                 4  Rumen fermentation and production effects of O...   \n",
              "\n",
              "                                 Publication Authors  \\\n",
              "0                                     Hristov et al.   \n",
              "1                                     Hristov et al.   \n",
              "2                                     Hristov et al.   \n",
              "3  Tekippe, J. A., Hristov, A. N., Heyler, K. S.,...   \n",
              "4  Tekippe, J. A., Hristov, A. N., Heyler, K. S.,...   \n",
              "\n",
              "        Publication Journal  Publication Volume Publication Pages  \\\n",
              "0  Journal of Dairy Science                94.0           382-395   \n",
              "1  Journal of Dairy Science                94.0           382-395   \n",
              "2  Journal of Dairy Science                94.0           382-395   \n",
              "3  Journal of Dairy Science                94.0         5065-5079   \n",
              "4  Journal of Dairy Science                94.0         5065-5079   \n",
              "\n",
              "   Publication Year Study Location Experimental Design  \\\n",
              "0              2011  United States        Latin Square   \n",
              "1              2011  United States        Latin Square   \n",
              "2              2011  United States        Latin Square   \n",
              "3              2011  United States           Crossover   \n",
              "4              2011  United States           Crossover   \n",
              "\n",
              "         Treatment Description  ... H2/DMI, g/kg SED H2/DMI g/kg SD  \\\n",
              "0  stearic (control) 240 g/cow  ...              NaN            NaN   \n",
              "1        lauric acid 240 g/cow  ...              NaN            NaN   \n",
              "2      myristic acid 240 g/cow  ...              NaN            NaN   \n",
              "3                      Control  ...              NaN            NaN   \n",
              "4  Origanum vulgare L. leaves   ...              NaN            NaN   \n",
              "\n",
              "   CO2, g/d  CO2 SEM CO2 SED CO2 SD CO2/DMI, g/kg CO2/DMI, g/kg SEM  \\\n",
              "0        NaN     NaN     NaN    NaN           NaN               NaN   \n",
              "1        NaN     NaN     NaN    NaN           NaN               NaN   \n",
              "2        NaN     NaN     NaN    NaN           NaN               NaN   \n",
              "3        NaN     NaN     NaN    NaN           NaN               NaN   \n",
              "4        NaN     NaN     NaN    NaN           NaN               NaN   \n",
              "\n",
              "  CO2/DMI, g/kg SED  CO2/DMI, g/kg SD  \n",
              "0               NaN               NaN  \n",
              "1               NaN               NaN  \n",
              "2               NaN               NaN  \n",
              "3               NaN               NaN  \n",
              "4               NaN               NaN  \n",
              "\n",
              "[5 rows x 188 columns]"
            ]
          },
          "execution_count": 4,
          "metadata": {},
          "output_type": "execute_result"
        }
      ],
      "source": [
        "df=pd.read_csv('Methane.csv')\n",
        "df.head()\n",
        "\n",
        "\n"
      ]
    },
    {
      "cell_type": "code",
      "execution_count": 5,
      "metadata": {
        "colab": {
          "base_uri": "https://localhost:8080/"
        },
        "id": "_EOiz47WZIYd",
        "outputId": "321cd718-13a4-4c1a-c9ba-a0a5207923d0"
      },
      "outputs": [
        {
          "data": {
            "text/plain": [
              "(797, 188)"
            ]
          },
          "execution_count": 5,
          "metadata": {},
          "output_type": "execute_result"
        }
      ],
      "source": [
        "df.shape"
      ]
    },
    {
      "cell_type": "code",
      "execution_count": 6,
      "metadata": {
        "colab": {
          "base_uri": "https://localhost:8080/"
        },
        "id": "TglGd3V7Iuyf",
        "outputId": "461b02d2-569a-481d-f7fe-62882ac27b00"
      },
      "outputs": [
        {
          "data": {
            "text/plain": [
              "Index(['Reference Number', 'Publication Title', 'Publication Authors',\n",
              "       'Publication Journal', 'Publication Volume', 'Publication Pages',\n",
              "       'Publication Year', 'Study Location', 'Experimental Design',\n",
              "       'Treatment Description',\n",
              "       ...\n",
              "       'H2/DMI, g/kg SED', 'H2/DMI g/kg SD', 'CO2, g/d ', 'CO2 SEM', 'CO2 SED',\n",
              "       'CO2 SD', 'CO2/DMI, g/kg', 'CO2/DMI, g/kg SEM', 'CO2/DMI, g/kg SED',\n",
              "       'CO2/DMI, g/kg SD'],\n",
              "      dtype='object', length=188)"
            ]
          },
          "execution_count": 6,
          "metadata": {},
          "output_type": "execute_result"
        }
      ],
      "source": [
        "df.columns"
      ]
    },
    {
      "cell_type": "code",
      "execution_count": 7,
      "metadata": {
        "colab": {
          "base_uri": "https://localhost:8080/"
        },
        "id": "r65RU9jCZoRD",
        "outputId": "24cab85c-790f-4443-e6bd-1098e85ab8a2"
      },
      "outputs": [
        {
          "name": "stdout",
          "output_type": "stream",
          "text": [
            "<class 'pandas.core.frame.DataFrame'>\n",
            "RangeIndex: 797 entries, 0 to 796\n",
            "Columns: 188 entries, Reference Number to CO2/DMI, g/kg SD\n",
            "dtypes: float64(143), int64(4), object(41)\n",
            "memory usage: 1.1+ MB\n"
          ]
        }
      ],
      "source": [
        "df.info()"
      ]
    },
    {
      "cell_type": "code",
      "execution_count": 8,
      "metadata": {
        "colab": {
          "base_uri": "https://localhost:8080/",
          "height": 402
        },
        "id": "hm9gzeqdZrcA",
        "outputId": "5dd61f0f-1d91-4843-9f69-248e838020da"
      },
      "outputs": [
        {
          "data": {
            "text/html": [
              "<div>\n",
              "<style scoped>\n",
              "    .dataframe tbody tr th:only-of-type {\n",
              "        vertical-align: middle;\n",
              "    }\n",
              "\n",
              "    .dataframe tbody tr th {\n",
              "        vertical-align: top;\n",
              "    }\n",
              "\n",
              "    .dataframe thead th {\n",
              "        text-align: right;\n",
              "    }\n",
              "</style>\n",
              "<table border=\"1\" class=\"dataframe\">\n",
              "  <thead>\n",
              "    <tr style=\"text-align: right;\">\n",
              "      <th></th>\n",
              "      <th>Reference Number</th>\n",
              "      <th>Publication Volume</th>\n",
              "      <th>Publication Year</th>\n",
              "      <th>Animals per Treatment</th>\n",
              "      <th>Diet Acclimation Days</th>\n",
              "      <th>Data Collection Days</th>\n",
              "      <th>Total Treatment Days</th>\n",
              "      <th>Animal sex: 1 = Male; 2= Female</th>\n",
              "      <th>ADG SEM</th>\n",
              "      <th>ADG SD</th>\n",
              "      <th>...</th>\n",
              "      <th>H2/DMI, g/kg SED</th>\n",
              "      <th>H2/DMI g/kg SD</th>\n",
              "      <th>CO2, g/d</th>\n",
              "      <th>CO2 SEM</th>\n",
              "      <th>CO2 SED</th>\n",
              "      <th>CO2 SD</th>\n",
              "      <th>CO2/DMI, g/kg</th>\n",
              "      <th>CO2/DMI, g/kg SEM</th>\n",
              "      <th>CO2/DMI, g/kg SED</th>\n",
              "      <th>CO2/DMI, g/kg SD</th>\n",
              "    </tr>\n",
              "  </thead>\n",
              "  <tbody>\n",
              "    <tr>\n",
              "      <th>count</th>\n",
              "      <td>797.000000</td>\n",
              "      <td>777.000000</td>\n",
              "      <td>797.000000</td>\n",
              "      <td>797.000000</td>\n",
              "      <td>784.000000</td>\n",
              "      <td>788.000000</td>\n",
              "      <td>790.000000</td>\n",
              "      <td>797.000000</td>\n",
              "      <td>47.000000</td>\n",
              "      <td>0.0</td>\n",
              "      <td>...</td>\n",
              "      <td>4.000000</td>\n",
              "      <td>3.00</td>\n",
              "      <td>173.000000</td>\n",
              "      <td>166.000000</td>\n",
              "      <td>4.000000</td>\n",
              "      <td>3.0</td>\n",
              "      <td>88.000000</td>\n",
              "      <td>77.000000</td>\n",
              "      <td>8.000000</td>\n",
              "      <td>3.0</td>\n",
              "    </tr>\n",
              "    <tr>\n",
              "      <th>mean</th>\n",
              "      <td>436.289837</td>\n",
              "      <td>92.821107</td>\n",
              "      <td>2013.180678</td>\n",
              "      <td>8.711418</td>\n",
              "      <td>21.883929</td>\n",
              "      <td>13.687817</td>\n",
              "      <td>35.420253</td>\n",
              "      <td>1.987453</td>\n",
              "      <td>0.132464</td>\n",
              "      <td>NaN</td>\n",
              "      <td>...</td>\n",
              "      <td>0.030000</td>\n",
              "      <td>0.02</td>\n",
              "      <td>10509.985549</td>\n",
              "      <td>319.591566</td>\n",
              "      <td>362.750000</td>\n",
              "      <td>1000.0</td>\n",
              "      <td>625.170909</td>\n",
              "      <td>17.137143</td>\n",
              "      <td>34.845000</td>\n",
              "      <td>75.0</td>\n",
              "    </tr>\n",
              "    <tr>\n",
              "      <th>std</th>\n",
              "      <td>263.486629</td>\n",
              "      <td>57.299720</td>\n",
              "      <td>8.863991</td>\n",
              "      <td>4.940046</td>\n",
              "      <td>30.897400</td>\n",
              "      <td>24.782695</td>\n",
              "      <td>39.610948</td>\n",
              "      <td>0.111379</td>\n",
              "      <td>0.094659</td>\n",
              "      <td>NaN</td>\n",
              "      <td>...</td>\n",
              "      <td>0.023094</td>\n",
              "      <td>0.00</td>\n",
              "      <td>4375.025855</td>\n",
              "      <td>180.691362</td>\n",
              "      <td>55.829771</td>\n",
              "      <td>0.0</td>\n",
              "      <td>158.114365</td>\n",
              "      <td>9.095514</td>\n",
              "      <td>12.872754</td>\n",
              "      <td>0.0</td>\n",
              "    </tr>\n",
              "    <tr>\n",
              "      <th>min</th>\n",
              "      <td>1.000000</td>\n",
              "      <td>1.000000</td>\n",
              "      <td>1971.000000</td>\n",
              "      <td>2.000000</td>\n",
              "      <td>1.000000</td>\n",
              "      <td>1.000000</td>\n",
              "      <td>2.000000</td>\n",
              "      <td>1.000000</td>\n",
              "      <td>0.015400</td>\n",
              "      <td>NaN</td>\n",
              "      <td>...</td>\n",
              "      <td>0.010000</td>\n",
              "      <td>0.02</td>\n",
              "      <td>2295.000000</td>\n",
              "      <td>44.270000</td>\n",
              "      <td>314.400000</td>\n",
              "      <td>1000.0</td>\n",
              "      <td>138.000000</td>\n",
              "      <td>3.090000</td>\n",
              "      <td>22.530000</td>\n",
              "      <td>75.0</td>\n",
              "    </tr>\n",
              "    <tr>\n",
              "      <th>25%</th>\n",
              "      <td>238.000000</td>\n",
              "      <td>65.000000</td>\n",
              "      <td>2011.000000</td>\n",
              "      <td>5.000000</td>\n",
              "      <td>14.000000</td>\n",
              "      <td>5.000000</td>\n",
              "      <td>21.000000</td>\n",
              "      <td>2.000000</td>\n",
              "      <td>0.071200</td>\n",
              "      <td>NaN</td>\n",
              "      <td>...</td>\n",
              "      <td>0.010000</td>\n",
              "      <td>0.02</td>\n",
              "      <td>6938.000000</td>\n",
              "      <td>203.000000</td>\n",
              "      <td>314.400000</td>\n",
              "      <td>1000.0</td>\n",
              "      <td>569.500000</td>\n",
              "      <td>10.500000</td>\n",
              "      <td>26.182500</td>\n",
              "      <td>75.0</td>\n",
              "    </tr>\n",
              "    <tr>\n",
              "      <th>50%</th>\n",
              "      <td>372.000000</td>\n",
              "      <td>96.000000</td>\n",
              "      <td>2016.000000</td>\n",
              "      <td>8.000000</td>\n",
              "      <td>15.000000</td>\n",
              "      <td>7.000000</td>\n",
              "      <td>28.000000</td>\n",
              "      <td>2.000000</td>\n",
              "      <td>0.123000</td>\n",
              "      <td>NaN</td>\n",
              "      <td>...</td>\n",
              "      <td>0.030000</td>\n",
              "      <td>0.02</td>\n",
              "      <td>11700.000000</td>\n",
              "      <td>272.000000</td>\n",
              "      <td>362.750000</td>\n",
              "      <td>1000.0</td>\n",
              "      <td>598.800000</td>\n",
              "      <td>16.100000</td>\n",
              "      <td>31.350000</td>\n",
              "      <td>75.0</td>\n",
              "    </tr>\n",
              "    <tr>\n",
              "      <th>75%</th>\n",
              "      <td>704.000000</td>\n",
              "      <td>102.000000</td>\n",
              "      <td>2018.000000</td>\n",
              "      <td>11.000000</td>\n",
              "      <td>21.000000</td>\n",
              "      <td>12.000000</td>\n",
              "      <td>34.000000</td>\n",
              "      <td>2.000000</td>\n",
              "      <td>0.170000</td>\n",
              "      <td>NaN</td>\n",
              "      <td>...</td>\n",
              "      <td>0.050000</td>\n",
              "      <td>0.02</td>\n",
              "      <td>13332.000000</td>\n",
              "      <td>406.000000</td>\n",
              "      <td>411.100000</td>\n",
              "      <td>1000.0</td>\n",
              "      <td>685.400000</td>\n",
              "      <td>18.250000</td>\n",
              "      <td>40.012500</td>\n",
              "      <td>75.0</td>\n",
              "    </tr>\n",
              "    <tr>\n",
              "      <th>max</th>\n",
              "      <td>909.000000</td>\n",
              "      <td>636.000000</td>\n",
              "      <td>2022.000000</td>\n",
              "      <td>32.000000</td>\n",
              "      <td>450.000000</td>\n",
              "      <td>291.000000</td>\n",
              "      <td>455.000000</td>\n",
              "      <td>2.000000</td>\n",
              "      <td>0.360000</td>\n",
              "      <td>NaN</td>\n",
              "      <td>...</td>\n",
              "      <td>0.050000</td>\n",
              "      <td>0.02</td>\n",
              "      <td>22279.000000</td>\n",
              "      <td>804.000000</td>\n",
              "      <td>411.100000</td>\n",
              "      <td>1000.0</td>\n",
              "      <td>1043.500000</td>\n",
              "      <td>40.560000</td>\n",
              "      <td>54.150000</td>\n",
              "      <td>75.0</td>\n",
              "    </tr>\n",
              "  </tbody>\n",
              "</table>\n",
              "<p>8 rows × 147 columns</p>\n",
              "</div>"
            ],
            "text/plain": [
              "       Reference Number  Publication Volume  Publication Year  \\\n",
              "count        797.000000          777.000000        797.000000   \n",
              "mean         436.289837           92.821107       2013.180678   \n",
              "std          263.486629           57.299720          8.863991   \n",
              "min            1.000000            1.000000       1971.000000   \n",
              "25%          238.000000           65.000000       2011.000000   \n",
              "50%          372.000000           96.000000       2016.000000   \n",
              "75%          704.000000          102.000000       2018.000000   \n",
              "max          909.000000          636.000000       2022.000000   \n",
              "\n",
              "       Animals per Treatment  Diet Acclimation Days  Data Collection Days  \\\n",
              "count             797.000000             784.000000            788.000000   \n",
              "mean                8.711418              21.883929             13.687817   \n",
              "std                 4.940046              30.897400             24.782695   \n",
              "min                 2.000000               1.000000              1.000000   \n",
              "25%                 5.000000              14.000000              5.000000   \n",
              "50%                 8.000000              15.000000              7.000000   \n",
              "75%                11.000000              21.000000             12.000000   \n",
              "max                32.000000             450.000000            291.000000   \n",
              "\n",
              "       Total Treatment Days  Animal sex: 1 = Male; 2= Female    ADG SEM  \\\n",
              "count            790.000000                       797.000000  47.000000   \n",
              "mean              35.420253                         1.987453   0.132464   \n",
              "std               39.610948                         0.111379   0.094659   \n",
              "min                2.000000                         1.000000   0.015400   \n",
              "25%               21.000000                         2.000000   0.071200   \n",
              "50%               28.000000                         2.000000   0.123000   \n",
              "75%               34.000000                         2.000000   0.170000   \n",
              "max              455.000000                         2.000000   0.360000   \n",
              "\n",
              "       ADG SD  ...  H2/DMI, g/kg SED  H2/DMI g/kg SD     CO2, g/d   \\\n",
              "count     0.0  ...          4.000000            3.00    173.000000   \n",
              "mean      NaN  ...          0.030000            0.02  10509.985549   \n",
              "std       NaN  ...          0.023094            0.00   4375.025855   \n",
              "min       NaN  ...          0.010000            0.02   2295.000000   \n",
              "25%       NaN  ...          0.010000            0.02   6938.000000   \n",
              "50%       NaN  ...          0.030000            0.02  11700.000000   \n",
              "75%       NaN  ...          0.050000            0.02  13332.000000   \n",
              "max       NaN  ...          0.050000            0.02  22279.000000   \n",
              "\n",
              "          CO2 SEM     CO2 SED  CO2 SD  CO2/DMI, g/kg  CO2/DMI, g/kg SEM  \\\n",
              "count  166.000000    4.000000     3.0      88.000000          77.000000   \n",
              "mean   319.591566  362.750000  1000.0     625.170909          17.137143   \n",
              "std    180.691362   55.829771     0.0     158.114365           9.095514   \n",
              "min     44.270000  314.400000  1000.0     138.000000           3.090000   \n",
              "25%    203.000000  314.400000  1000.0     569.500000          10.500000   \n",
              "50%    272.000000  362.750000  1000.0     598.800000          16.100000   \n",
              "75%    406.000000  411.100000  1000.0     685.400000          18.250000   \n",
              "max    804.000000  411.100000  1000.0    1043.500000          40.560000   \n",
              "\n",
              "       CO2/DMI, g/kg SED  CO2/DMI, g/kg SD  \n",
              "count           8.000000               3.0  \n",
              "mean           34.845000              75.0  \n",
              "std            12.872754               0.0  \n",
              "min            22.530000              75.0  \n",
              "25%            26.182500              75.0  \n",
              "50%            31.350000              75.0  \n",
              "75%            40.012500              75.0  \n",
              "max            54.150000              75.0  \n",
              "\n",
              "[8 rows x 147 columns]"
            ]
          },
          "execution_count": 8,
          "metadata": {},
          "output_type": "execute_result"
        }
      ],
      "source": [
        "df.describe()"
      ]
    },
    {
      "cell_type": "code",
      "execution_count": 7,
      "metadata": {
        "colab": {
          "base_uri": "https://localhost:8080/",
          "height": 458
        },
        "id": "3rg1tR16Z6qp",
        "outputId": "45268847-d820-4c07-ec11-8b09a2e6ed43"
      },
      "outputs": [
        {
          "data": {
            "text/plain": [
              "Reference Number         0\n",
              "Publication Title        0\n",
              "Publication Authors      0\n",
              "Publication Journal      0\n",
              "Publication Volume      20\n",
              "                      ... \n",
              "CO2 SD                 794\n",
              "CO2/DMI, g/kg          709\n",
              "CO2/DMI, g/kg SEM      720\n",
              "CO2/DMI, g/kg SED      789\n",
              "CO2/DMI, g/kg SD       794\n",
              "Length: 188, dtype: int64"
            ]
          },
          "execution_count": 7,
          "metadata": {},
          "output_type": "execute_result"
        }
      ],
      "source": [
        "df.isnull().sum()"
      ]
    },
    {
      "cell_type": "markdown",
      "metadata": {
        "id": "ugtI5zVB_OYX"
      },
      "source": [
        "## **STEP 3: PREPROCESSING (Dataset cleaning)**"
      ]
    },
    {
      "cell_type": "code",
      "execution_count": 8,
      "metadata": {
        "id": "gf3T8clyVao-"
      },
      "outputs": [],
      "source": [
        "#dropping various columns\n",
        "df.drop(['Reference Number', 'Publication Title', 'Publication Authors',\n",
        "       'Publication Journal', 'Publication Volume', 'Publication Pages',\n",
        "       'Publication Year', 'Experimental Design'], axis=1, inplace=True)"
      ]
    },
    {
      "cell_type": "code",
      "execution_count": 9,
      "metadata": {
        "id": "_mIESCRLafi0"
      },
      "outputs": [],
      "source": [
        "df.drop(['H2/DMI, g/kg SED', 'H2/DMI g/kg SD', 'CO2, g/d ', 'CO2 SEM', 'CO2 SED',\n",
        "       'CO2 SD', 'CO2/DMI, g/kg', 'CO2/DMI, g/kg SEM', 'CO2/DMI, g/kg SED',\n",
        "       'CO2/DMI, g/kg SD'], axis=1, inplace=True)"
      ]
    },
    {
      "cell_type": "code",
      "execution_count": 10,
      "metadata": {},
      "outputs": [
        {
          "data": {
            "text/plain": [
              "(797, 170)"
            ]
          },
          "execution_count": 10,
          "metadata": {},
          "output_type": "execute_result"
        }
      ],
      "source": [
        "df.shape"
      ]
    },
    {
      "cell_type": "code",
      "execution_count": 11,
      "metadata": {
        "colab": {
          "base_uri": "https://localhost:8080/"
        },
        "id": "L6qixoHoV6ZC",
        "outputId": "77ecbd76-6fba-402c-cfef-e03c890d56f8"
      },
      "outputs": [
        {
          "data": {
            "text/plain": [
              "Index(['Study Location', 'Treatment Description', 'Treatment Dosage',\n",
              "       'Treatment Dosage Units', 'Animals per Treatment', 'Treatment Code',\n",
              "       'Treatment Type', 'Animal Metabolic Status', 'Rumen Cannulation Status',\n",
              "       'Animal Housing Type',\n",
              "       ...\n",
              "       'CH4/ECM,SEM', 'CH4/ECM, SED', 'CH4/ECM, SD', 'CH4/BW Gain g/kg',\n",
              "       'CH4/BW Gain, g/kg SEM', 'H2, g/d', 'H2 SEM', 'H2 SD', 'H2/DMI g/kg',\n",
              "       'H2/DMI g/kg SEM'],\n",
              "      dtype='object', length=170)"
            ]
          },
          "execution_count": 11,
          "metadata": {},
          "output_type": "execute_result"
        }
      ],
      "source": [
        "df.columns"
      ]
    },
    {
      "cell_type": "code",
      "execution_count": 12,
      "metadata": {
        "id": "L8AtEiZaI0GC"
      },
      "outputs": [],
      "source": [
        "df.drop(['Treatment Description', 'Treatment Dosage', 'Treatment Dosage Units',\n",
        "       'Animals per Treatment', 'Treatment Code', 'Treatment Type','Rumen Cannulation Status',\n",
        "       'Animal Metabolic Status'], axis=1, inplace=True)"
      ]
    },
    {
      "cell_type": "code",
      "execution_count": 13,
      "metadata": {
        "id": "WeI9yl-QtTpU"
      },
      "outputs": [],
      "source": [
        "df.drop(['H2, g/d','H2 SEM','H2 SD','H2/DMI g/kg','H2/DMI g/kg SEM'] ,axis=1, inplace=True)"
      ]
    },
    {
      "cell_type": "code",
      "execution_count": 16,
      "metadata": {
        "id": "6-yhVIXkwR3e"
      },
      "outputs": [
        {
          "ename": "KeyError",
          "evalue": "\"['TTDM dig, %', 'TTDM dig SEM', 'TTDM dig SED', 'TTDM dig SD', 'TTDM dig, %', 'TTOM dig SEM', 'TTOM dig SED', 'TTOM dig SD', 'TTCP dig, %', 'TTCP dig SEM', 'TTCP dig SED', 'TTCP dig SD', 'TTGE dig SEM', 'TTGE dig SED', 'TTGE dig SD', 'TTNDF dig, %', 'TTNDF dig SEM', 'TTNDF dig SED', 'TTNDF dig SD', 'TTADF dig, %', 'TTADF dig SEM', 'TTADF dig SED', 'TTADF dig SD', 'TTStarch dig, %', 'TTStarch dig SEM', 'TTStarch dig SED', 'Fecal N, g/d', 'Fecal N SEM', 'Fecal N SED', 'Fecal N SD', 'Urine N, g/d', 'Urine N SEM', 'Urine N SED', 'Urine N SD', 'Milk N, g/d', 'Milk N SEM', 'Milk N SED', 'Milk, kg/d', 'Milk SEM', 'Milk SED', 'Milk SD', 'Milk Fat, %', 'Milk Fat SEM', 'Milk Fat SED', 'Milk Fat SD', 'Milk CP, %', 'Milk CP SEM', 'Milk CP SED', 'Milk CP SD', 'Milk TP, %', 'Milk TP SEM', 'Milk TP SED', 'Milk TP SD', 'Milk Lactose, %', 'Milk Lactose SEM', 'Milk Lactose SED', 'Milk Lactose SD', 'ECM, kg/d', 'ECM SEM', 'ECM SED', 'ECM SD', 'FCM 3.5%, kg/d', 'FCM 3.5% SEM', 'FCM 4%, kg', 'FCM 4% SEM', 'SCM, kg/d', 'SCM, SEM', 'FPCM, kg/d', 'FPCM SEM', 'FPCM SED', 'FPCM SD', 'MUN, mg/dL', 'MUN SEM', 'MUN SD'] not found in axis\"",
          "output_type": "error",
          "traceback": [
            "\u001b[1;31m---------------------------------------------------------------------------\u001b[0m",
            "\u001b[1;31mKeyError\u001b[0m                                  Traceback (most recent call last)",
            "Cell \u001b[1;32mIn[16], line 1\u001b[0m\n\u001b[1;32m----> 1\u001b[0m \u001b[43mdf\u001b[49m\u001b[38;5;241;43m.\u001b[39;49m\u001b[43mdrop\u001b[49m\u001b[43m(\u001b[49m\u001b[43m[\u001b[49m\u001b[38;5;124;43m'\u001b[39;49m\u001b[38;5;124;43mTTDM dig, \u001b[39;49m\u001b[38;5;124;43m%\u001b[39;49m\u001b[38;5;124;43m'\u001b[39;49m\u001b[43m,\u001b[49m\u001b[43m \u001b[49m\u001b[38;5;124;43m'\u001b[39;49m\u001b[38;5;124;43mTTDM dig SEM\u001b[39;49m\u001b[38;5;124;43m'\u001b[39;49m\u001b[43m,\u001b[49m\u001b[43m \u001b[49m\u001b[38;5;124;43m'\u001b[39;49m\u001b[38;5;124;43mTTDM dig SED\u001b[39;49m\u001b[38;5;124;43m'\u001b[39;49m\u001b[43m,\u001b[49m\u001b[43m \u001b[49m\u001b[38;5;124;43m'\u001b[39;49m\u001b[38;5;124;43mTTDM dig SD\u001b[39;49m\u001b[38;5;124;43m'\u001b[39;49m\u001b[43m,\u001b[49m\u001b[38;5;124;43m'\u001b[39;49m\u001b[38;5;124;43mTTDM dig, \u001b[39;49m\u001b[38;5;124;43m%\u001b[39;49m\u001b[38;5;124;43m'\u001b[39;49m\u001b[43m,\u001b[49m\u001b[43m \u001b[49m\u001b[38;5;124;43m'\u001b[39;49m\u001b[38;5;124;43mTTOM dig SEM\u001b[39;49m\u001b[38;5;124;43m'\u001b[39;49m\u001b[43m,\u001b[49m\u001b[43m \u001b[49m\u001b[38;5;124;43m'\u001b[39;49m\u001b[38;5;124;43mTTOM dig SED\u001b[39;49m\u001b[38;5;124;43m'\u001b[39;49m\u001b[43m,\u001b[49m\u001b[43m \u001b[49m\u001b[38;5;124;43m'\u001b[39;49m\u001b[38;5;124;43mTTOM dig SD\u001b[39;49m\u001b[38;5;124;43m'\u001b[39;49m\u001b[43m,\u001b[49m\u001b[38;5;124;43m'\u001b[39;49m\u001b[38;5;124;43mTTCP dig, \u001b[39;49m\u001b[38;5;124;43m%\u001b[39;49m\u001b[38;5;124;43m'\u001b[39;49m\u001b[43m,\u001b[49m\u001b[43m \u001b[49m\u001b[38;5;124;43m'\u001b[39;49m\u001b[38;5;124;43mTTCP dig SEM\u001b[39;49m\u001b[38;5;124;43m'\u001b[39;49m\u001b[43m,\u001b[49m\u001b[43m \u001b[49m\u001b[38;5;124;43m'\u001b[39;49m\u001b[38;5;124;43mTTCP dig SED\u001b[39;49m\u001b[38;5;124;43m'\u001b[39;49m\u001b[43m,\u001b[49m\u001b[43m \u001b[49m\u001b[38;5;124;43m'\u001b[39;49m\u001b[38;5;124;43mTTCP dig SD\u001b[39;49m\u001b[38;5;124;43m'\u001b[39;49m\u001b[43m,\u001b[49m\u001b[43m \u001b[49m\u001b[38;5;124;43m'\u001b[39;49m\u001b[38;5;124;43mTTGE dig SEM\u001b[39;49m\u001b[38;5;124;43m'\u001b[39;49m\u001b[43m,\u001b[49m\u001b[43m \u001b[49m\u001b[38;5;124;43m'\u001b[39;49m\u001b[38;5;124;43mTTGE dig SED\u001b[39;49m\u001b[38;5;124;43m'\u001b[39;49m\u001b[43m,\u001b[49m\u001b[43m \u001b[49m\u001b[38;5;124;43m'\u001b[39;49m\u001b[38;5;124;43mTTGE dig SD\u001b[39;49m\u001b[38;5;124;43m'\u001b[39;49m\u001b[43m,\u001b[49m\u001b[38;5;124;43m'\u001b[39;49m\u001b[38;5;124;43mTTNDF dig, \u001b[39;49m\u001b[38;5;124;43m%\u001b[39;49m\u001b[38;5;124;43m'\u001b[39;49m\u001b[43m,\u001b[49m\u001b[43m \u001b[49m\u001b[38;5;124;43m'\u001b[39;49m\u001b[38;5;124;43mTTNDF dig SEM\u001b[39;49m\u001b[38;5;124;43m'\u001b[39;49m\u001b[43m,\u001b[49m\u001b[43m \u001b[49m\u001b[38;5;124;43m'\u001b[39;49m\u001b[38;5;124;43mTTNDF dig SED\u001b[39;49m\u001b[38;5;124;43m'\u001b[39;49m\u001b[43m,\u001b[49m\u001b[43m \u001b[49m\u001b[38;5;124;43m'\u001b[39;49m\u001b[38;5;124;43mTTNDF dig SD\u001b[39;49m\u001b[38;5;124;43m'\u001b[39;49m\u001b[43m,\u001b[49m\u001b[38;5;124;43m'\u001b[39;49m\u001b[38;5;124;43mTTADF dig, \u001b[39;49m\u001b[38;5;124;43m%\u001b[39;49m\u001b[38;5;124;43m'\u001b[39;49m\u001b[43m,\u001b[49m\u001b[43m \u001b[49m\u001b[38;5;124;43m'\u001b[39;49m\u001b[38;5;124;43mTTADF dig SEM\u001b[39;49m\u001b[38;5;124;43m'\u001b[39;49m\u001b[43m,\u001b[49m\u001b[43m \u001b[49m\u001b[38;5;124;43m'\u001b[39;49m\u001b[38;5;124;43mTTADF dig SED\u001b[39;49m\u001b[38;5;124;43m'\u001b[39;49m\u001b[43m,\u001b[49m\u001b[43m \u001b[49m\u001b[38;5;124;43m'\u001b[39;49m\u001b[38;5;124;43mTTADF dig SD\u001b[39;49m\u001b[38;5;124;43m'\u001b[39;49m\u001b[43m,\u001b[49m\u001b[38;5;124;43m'\u001b[39;49m\u001b[38;5;124;43mTTStarch dig, \u001b[39;49m\u001b[38;5;124;43m%\u001b[39;49m\u001b[38;5;124;43m'\u001b[39;49m\u001b[43m,\u001b[49m\u001b[43m \u001b[49m\u001b[38;5;124;43m'\u001b[39;49m\u001b[38;5;124;43mTTStarch dig SEM\u001b[39;49m\u001b[38;5;124;43m'\u001b[39;49m\u001b[43m,\u001b[49m\u001b[43m \u001b[49m\u001b[38;5;124;43m'\u001b[39;49m\u001b[38;5;124;43mTTStarch dig SED\u001b[39;49m\u001b[38;5;124;43m'\u001b[39;49m\u001b[43m,\u001b[49m\u001b[43m \u001b[49m\u001b[38;5;124;43m'\u001b[39;49m\u001b[38;5;124;43mFecal N, g/d\u001b[39;49m\u001b[38;5;124;43m'\u001b[39;49m\u001b[43m,\u001b[49m\u001b[38;5;124;43m'\u001b[39;49m\u001b[38;5;124;43mFecal N SEM\u001b[39;49m\u001b[38;5;124;43m'\u001b[39;49m\u001b[43m,\u001b[49m\u001b[43m \u001b[49m\u001b[38;5;124;43m'\u001b[39;49m\u001b[38;5;124;43mFecal N SED\u001b[39;49m\u001b[38;5;124;43m'\u001b[39;49m\u001b[43m,\u001b[49m\u001b[43m \u001b[49m\u001b[38;5;124;43m'\u001b[39;49m\u001b[38;5;124;43mFecal N SD\u001b[39;49m\u001b[38;5;124;43m'\u001b[39;49m\u001b[43m,\u001b[49m\u001b[43m \u001b[49m\u001b[38;5;124;43m'\u001b[39;49m\u001b[38;5;124;43mUrine N, g/d\u001b[39;49m\u001b[38;5;124;43m'\u001b[39;49m\u001b[43m,\u001b[49m\u001b[43m \u001b[49m\u001b[38;5;124;43m'\u001b[39;49m\u001b[38;5;124;43mUrine N SEM\u001b[39;49m\u001b[38;5;124;43m'\u001b[39;49m\u001b[43m,\u001b[49m\u001b[38;5;124;43m'\u001b[39;49m\u001b[38;5;124;43mUrine N SED\u001b[39;49m\u001b[38;5;124;43m'\u001b[39;49m\u001b[43m,\u001b[49m\u001b[43m \u001b[49m\u001b[38;5;124;43m'\u001b[39;49m\u001b[38;5;124;43mUrine N SD\u001b[39;49m\u001b[38;5;124;43m'\u001b[39;49m\u001b[43m,\u001b[49m\u001b[43m \u001b[49m\u001b[38;5;124;43m'\u001b[39;49m\u001b[38;5;124;43mMilk N, g/d\u001b[39;49m\u001b[38;5;124;43m'\u001b[39;49m\u001b[43m,\u001b[49m\u001b[43m \u001b[49m\u001b[38;5;124;43m'\u001b[39;49m\u001b[38;5;124;43mMilk N SEM\u001b[39;49m\u001b[38;5;124;43m'\u001b[39;49m\u001b[43m,\u001b[49m\u001b[43m \u001b[49m\u001b[38;5;124;43m'\u001b[39;49m\u001b[38;5;124;43mMilk N SED\u001b[39;49m\u001b[38;5;124;43m'\u001b[39;49m\u001b[43m,\u001b[49m\u001b[38;5;124;43m'\u001b[39;49m\u001b[38;5;124;43mMilk, kg/d\u001b[39;49m\u001b[38;5;124;43m'\u001b[39;49m\u001b[43m,\u001b[49m\u001b[43m \u001b[49m\u001b[38;5;124;43m'\u001b[39;49m\u001b[38;5;124;43mMilk SEM\u001b[39;49m\u001b[38;5;124;43m'\u001b[39;49m\u001b[43m,\u001b[49m\u001b[43m \u001b[49m\u001b[38;5;124;43m'\u001b[39;49m\u001b[38;5;124;43mMilk SED\u001b[39;49m\u001b[38;5;124;43m'\u001b[39;49m\u001b[43m,\u001b[49m\u001b[43m \u001b[49m\u001b[38;5;124;43m'\u001b[39;49m\u001b[38;5;124;43mMilk SD\u001b[39;49m\u001b[38;5;124;43m'\u001b[39;49m\u001b[43m,\u001b[49m\u001b[43m \u001b[49m\u001b[38;5;124;43m'\u001b[39;49m\u001b[38;5;124;43mMilk Fat, \u001b[39;49m\u001b[38;5;124;43m%\u001b[39;49m\u001b[38;5;124;43m'\u001b[39;49m\u001b[43m,\u001b[49m\u001b[43m \u001b[49m\u001b[38;5;124;43m'\u001b[39;49m\u001b[38;5;124;43mMilk Fat SEM\u001b[39;49m\u001b[38;5;124;43m'\u001b[39;49m\u001b[43m,\u001b[49m\u001b[38;5;124;43m'\u001b[39;49m\u001b[38;5;124;43mMilk Fat SED\u001b[39;49m\u001b[38;5;124;43m'\u001b[39;49m\u001b[43m,\u001b[49m\u001b[43m \u001b[49m\u001b[38;5;124;43m'\u001b[39;49m\u001b[38;5;124;43mMilk Fat SD\u001b[39;49m\u001b[38;5;124;43m'\u001b[39;49m\u001b[43m,\u001b[49m\u001b[43m \u001b[49m\u001b[38;5;124;43m'\u001b[39;49m\u001b[38;5;124;43mMilk CP, \u001b[39;49m\u001b[38;5;124;43m%\u001b[39;49m\u001b[38;5;124;43m'\u001b[39;49m\u001b[43m,\u001b[49m\u001b[43m \u001b[49m\u001b[38;5;124;43m'\u001b[39;49m\u001b[38;5;124;43mMilk CP SEM\u001b[39;49m\u001b[38;5;124;43m'\u001b[39;49m\u001b[43m,\u001b[49m\u001b[43m \u001b[49m\u001b[38;5;124;43m'\u001b[39;49m\u001b[38;5;124;43mMilk CP SED\u001b[39;49m\u001b[38;5;124;43m'\u001b[39;49m\u001b[43m,\u001b[49m\u001b[38;5;124;43m'\u001b[39;49m\u001b[38;5;124;43mMilk CP SD\u001b[39;49m\u001b[38;5;124;43m'\u001b[39;49m\u001b[43m,\u001b[49m\u001b[43m \u001b[49m\u001b[38;5;124;43m'\u001b[39;49m\u001b[38;5;124;43mMilk TP, \u001b[39;49m\u001b[38;5;124;43m%\u001b[39;49m\u001b[38;5;124;43m'\u001b[39;49m\u001b[43m,\u001b[49m\u001b[43m \u001b[49m\u001b[38;5;124;43m'\u001b[39;49m\u001b[38;5;124;43mMilk TP SEM\u001b[39;49m\u001b[38;5;124;43m'\u001b[39;49m\u001b[43m,\u001b[49m\u001b[43m \u001b[49m\u001b[38;5;124;43m'\u001b[39;49m\u001b[38;5;124;43mMilk TP SED\u001b[39;49m\u001b[38;5;124;43m'\u001b[39;49m\u001b[43m,\u001b[49m\u001b[43m \u001b[49m\u001b[38;5;124;43m'\u001b[39;49m\u001b[38;5;124;43mMilk TP SD\u001b[39;49m\u001b[38;5;124;43m'\u001b[39;49m\u001b[43m,\u001b[49m\u001b[38;5;124;43m'\u001b[39;49m\u001b[38;5;124;43mMilk Lactose, \u001b[39;49m\u001b[38;5;124;43m%\u001b[39;49m\u001b[38;5;124;43m'\u001b[39;49m\u001b[43m,\u001b[49m\u001b[43m \u001b[49m\u001b[38;5;124;43m'\u001b[39;49m\u001b[38;5;124;43mMilk Lactose SEM\u001b[39;49m\u001b[38;5;124;43m'\u001b[39;49m\u001b[43m,\u001b[49m\u001b[43m \u001b[49m\u001b[38;5;124;43m'\u001b[39;49m\u001b[38;5;124;43mMilk Lactose SED\u001b[39;49m\u001b[38;5;124;43m'\u001b[39;49m\u001b[43m,\u001b[49m\u001b[43m \u001b[49m\u001b[38;5;124;43m'\u001b[39;49m\u001b[38;5;124;43mMilk Lactose SD\u001b[39;49m\u001b[38;5;124;43m'\u001b[39;49m\u001b[43m,\u001b[49m\u001b[38;5;124;43m'\u001b[39;49m\u001b[38;5;124;43mECM, kg/d\u001b[39;49m\u001b[38;5;124;43m'\u001b[39;49m\u001b[43m,\u001b[49m\u001b[43m \u001b[49m\u001b[38;5;124;43m'\u001b[39;49m\u001b[38;5;124;43mECM SEM\u001b[39;49m\u001b[38;5;124;43m'\u001b[39;49m\u001b[43m,\u001b[49m\u001b[43m \u001b[49m\u001b[38;5;124;43m'\u001b[39;49m\u001b[38;5;124;43mECM SED\u001b[39;49m\u001b[38;5;124;43m'\u001b[39;49m\u001b[43m,\u001b[49m\u001b[43m \u001b[49m\u001b[38;5;124;43m'\u001b[39;49m\u001b[38;5;124;43mECM SD\u001b[39;49m\u001b[38;5;124;43m'\u001b[39;49m\u001b[43m,\u001b[49m\u001b[43m \u001b[49m\u001b[38;5;124;43m'\u001b[39;49m\u001b[38;5;124;43mFCM 3.5\u001b[39;49m\u001b[38;5;124;43m%\u001b[39;49m\u001b[38;5;124;43m, kg/d\u001b[39;49m\u001b[38;5;124;43m'\u001b[39;49m\u001b[43m,\u001b[49m\u001b[43m \u001b[49m\u001b[38;5;124;43m'\u001b[39;49m\u001b[38;5;124;43mFCM 3.5\u001b[39;49m\u001b[38;5;124;43m%\u001b[39;49m\u001b[38;5;124;43m SEM\u001b[39;49m\u001b[38;5;124;43m'\u001b[39;49m\u001b[43m,\u001b[49m\u001b[38;5;124;43m'\u001b[39;49m\u001b[38;5;124;43mFCM 4\u001b[39;49m\u001b[38;5;124;43m%\u001b[39;49m\u001b[38;5;124;43m, kg\u001b[39;49m\u001b[38;5;124;43m'\u001b[39;49m\u001b[43m,\u001b[49m\u001b[43m \u001b[49m\u001b[38;5;124;43m'\u001b[39;49m\u001b[38;5;124;43mFCM 4\u001b[39;49m\u001b[38;5;124;43m%\u001b[39;49m\u001b[38;5;124;43m SEM\u001b[39;49m\u001b[38;5;124;43m'\u001b[39;49m\u001b[43m,\u001b[49m\u001b[43m \u001b[49m\u001b[38;5;124;43m'\u001b[39;49m\u001b[38;5;124;43mSCM, kg/d\u001b[39;49m\u001b[38;5;124;43m'\u001b[39;49m\u001b[43m,\u001b[49m\u001b[43m \u001b[49m\u001b[38;5;124;43m'\u001b[39;49m\u001b[38;5;124;43mSCM, SEM\u001b[39;49m\u001b[38;5;124;43m'\u001b[39;49m\u001b[43m,\u001b[49m\u001b[43m \u001b[49m\u001b[38;5;124;43m'\u001b[39;49m\u001b[38;5;124;43mFPCM, kg/d\u001b[39;49m\u001b[38;5;124;43m'\u001b[39;49m\u001b[43m,\u001b[49m\n\u001b[0;32m      2\u001b[0m \u001b[43m                   \u001b[49m\u001b[38;5;124;43m'\u001b[39;49m\u001b[38;5;124;43mFPCM SEM\u001b[39;49m\u001b[38;5;124;43m'\u001b[39;49m\u001b[43m,\u001b[49m\u001b[38;5;124;43m'\u001b[39;49m\u001b[38;5;124;43mFPCM SED\u001b[39;49m\u001b[38;5;124;43m'\u001b[39;49m\u001b[43m,\u001b[49m\u001b[43m \u001b[49m\u001b[38;5;124;43m'\u001b[39;49m\u001b[38;5;124;43mFPCM SD\u001b[39;49m\u001b[38;5;124;43m'\u001b[39;49m\u001b[43m,\u001b[49m\u001b[43m \u001b[49m\u001b[38;5;124;43m'\u001b[39;49m\u001b[38;5;124;43mMUN, mg/dL\u001b[39;49m\u001b[38;5;124;43m'\u001b[39;49m\u001b[43m,\u001b[49m\u001b[43m \u001b[49m\u001b[38;5;124;43m'\u001b[39;49m\u001b[38;5;124;43mMUN SEM\u001b[39;49m\u001b[38;5;124;43m'\u001b[39;49m\u001b[43m,\u001b[49m\u001b[43m \u001b[49m\u001b[38;5;124;43m'\u001b[39;49m\u001b[38;5;124;43mMUN SD\u001b[39;49m\u001b[38;5;124;43m'\u001b[39;49m\u001b[43m]\u001b[49m\u001b[43m,\u001b[49m\u001b[43m \u001b[49m\u001b[43maxis\u001b[49m\u001b[38;5;241;43m=\u001b[39;49m\u001b[38;5;241;43m1\u001b[39;49m\u001b[43m,\u001b[49m\u001b[43m \u001b[49m\u001b[43minplace\u001b[49m\u001b[38;5;241;43m=\u001b[39;49m\u001b[38;5;28;43;01mTrue\u001b[39;49;00m\u001b[43m)\u001b[49m\n",
            "File \u001b[1;32mc:\\Users\\Admin\\AppData\\Local\\Programs\\Python\\Python310\\lib\\site-packages\\pandas\\core\\frame.py:5581\u001b[0m, in \u001b[0;36mDataFrame.drop\u001b[1;34m(self, labels, axis, index, columns, level, inplace, errors)\u001b[0m\n\u001b[0;32m   5433\u001b[0m \u001b[38;5;28;01mdef\u001b[39;00m \u001b[38;5;21mdrop\u001b[39m(\n\u001b[0;32m   5434\u001b[0m     \u001b[38;5;28mself\u001b[39m,\n\u001b[0;32m   5435\u001b[0m     labels: IndexLabel \u001b[38;5;241m|\u001b[39m \u001b[38;5;28;01mNone\u001b[39;00m \u001b[38;5;241m=\u001b[39m \u001b[38;5;28;01mNone\u001b[39;00m,\n\u001b[1;32m   (...)\u001b[0m\n\u001b[0;32m   5442\u001b[0m     errors: IgnoreRaise \u001b[38;5;241m=\u001b[39m \u001b[38;5;124m\"\u001b[39m\u001b[38;5;124mraise\u001b[39m\u001b[38;5;124m\"\u001b[39m,\n\u001b[0;32m   5443\u001b[0m ) \u001b[38;5;241m-\u001b[39m\u001b[38;5;241m>\u001b[39m DataFrame \u001b[38;5;241m|\u001b[39m \u001b[38;5;28;01mNone\u001b[39;00m:\n\u001b[0;32m   5444\u001b[0m \u001b[38;5;250m    \u001b[39m\u001b[38;5;124;03m\"\"\"\u001b[39;00m\n\u001b[0;32m   5445\u001b[0m \u001b[38;5;124;03m    Drop specified labels from rows or columns.\u001b[39;00m\n\u001b[0;32m   5446\u001b[0m \n\u001b[1;32m   (...)\u001b[0m\n\u001b[0;32m   5579\u001b[0m \u001b[38;5;124;03m            weight  1.0     0.8\u001b[39;00m\n\u001b[0;32m   5580\u001b[0m \u001b[38;5;124;03m    \"\"\"\u001b[39;00m\n\u001b[1;32m-> 5581\u001b[0m     \u001b[38;5;28;01mreturn\u001b[39;00m \u001b[38;5;28;43msuper\u001b[39;49m\u001b[43m(\u001b[49m\u001b[43m)\u001b[49m\u001b[38;5;241;43m.\u001b[39;49m\u001b[43mdrop\u001b[49m\u001b[43m(\u001b[49m\n\u001b[0;32m   5582\u001b[0m \u001b[43m        \u001b[49m\u001b[43mlabels\u001b[49m\u001b[38;5;241;43m=\u001b[39;49m\u001b[43mlabels\u001b[49m\u001b[43m,\u001b[49m\n\u001b[0;32m   5583\u001b[0m \u001b[43m        \u001b[49m\u001b[43maxis\u001b[49m\u001b[38;5;241;43m=\u001b[39;49m\u001b[43maxis\u001b[49m\u001b[43m,\u001b[49m\n\u001b[0;32m   5584\u001b[0m \u001b[43m        \u001b[49m\u001b[43mindex\u001b[49m\u001b[38;5;241;43m=\u001b[39;49m\u001b[43mindex\u001b[49m\u001b[43m,\u001b[49m\n\u001b[0;32m   5585\u001b[0m \u001b[43m        \u001b[49m\u001b[43mcolumns\u001b[49m\u001b[38;5;241;43m=\u001b[39;49m\u001b[43mcolumns\u001b[49m\u001b[43m,\u001b[49m\n\u001b[0;32m   5586\u001b[0m \u001b[43m        \u001b[49m\u001b[43mlevel\u001b[49m\u001b[38;5;241;43m=\u001b[39;49m\u001b[43mlevel\u001b[49m\u001b[43m,\u001b[49m\n\u001b[0;32m   5587\u001b[0m \u001b[43m        \u001b[49m\u001b[43minplace\u001b[49m\u001b[38;5;241;43m=\u001b[39;49m\u001b[43minplace\u001b[49m\u001b[43m,\u001b[49m\n\u001b[0;32m   5588\u001b[0m \u001b[43m        \u001b[49m\u001b[43merrors\u001b[49m\u001b[38;5;241;43m=\u001b[39;49m\u001b[43merrors\u001b[49m\u001b[43m,\u001b[49m\n\u001b[0;32m   5589\u001b[0m \u001b[43m    \u001b[49m\u001b[43m)\u001b[49m\n",
            "File \u001b[1;32mc:\\Users\\Admin\\AppData\\Local\\Programs\\Python\\Python310\\lib\\site-packages\\pandas\\core\\generic.py:4788\u001b[0m, in \u001b[0;36mNDFrame.drop\u001b[1;34m(self, labels, axis, index, columns, level, inplace, errors)\u001b[0m\n\u001b[0;32m   4786\u001b[0m \u001b[38;5;28;01mfor\u001b[39;00m axis, labels \u001b[38;5;129;01min\u001b[39;00m axes\u001b[38;5;241m.\u001b[39mitems():\n\u001b[0;32m   4787\u001b[0m     \u001b[38;5;28;01mif\u001b[39;00m labels \u001b[38;5;129;01mis\u001b[39;00m \u001b[38;5;129;01mnot\u001b[39;00m \u001b[38;5;28;01mNone\u001b[39;00m:\n\u001b[1;32m-> 4788\u001b[0m         obj \u001b[38;5;241m=\u001b[39m \u001b[43mobj\u001b[49m\u001b[38;5;241;43m.\u001b[39;49m\u001b[43m_drop_axis\u001b[49m\u001b[43m(\u001b[49m\u001b[43mlabels\u001b[49m\u001b[43m,\u001b[49m\u001b[43m \u001b[49m\u001b[43maxis\u001b[49m\u001b[43m,\u001b[49m\u001b[43m \u001b[49m\u001b[43mlevel\u001b[49m\u001b[38;5;241;43m=\u001b[39;49m\u001b[43mlevel\u001b[49m\u001b[43m,\u001b[49m\u001b[43m \u001b[49m\u001b[43merrors\u001b[49m\u001b[38;5;241;43m=\u001b[39;49m\u001b[43merrors\u001b[49m\u001b[43m)\u001b[49m\n\u001b[0;32m   4790\u001b[0m \u001b[38;5;28;01mif\u001b[39;00m inplace:\n\u001b[0;32m   4791\u001b[0m     \u001b[38;5;28mself\u001b[39m\u001b[38;5;241m.\u001b[39m_update_inplace(obj)\n",
            "File \u001b[1;32mc:\\Users\\Admin\\AppData\\Local\\Programs\\Python\\Python310\\lib\\site-packages\\pandas\\core\\generic.py:4830\u001b[0m, in \u001b[0;36mNDFrame._drop_axis\u001b[1;34m(self, labels, axis, level, errors, only_slice)\u001b[0m\n\u001b[0;32m   4828\u001b[0m         new_axis \u001b[38;5;241m=\u001b[39m axis\u001b[38;5;241m.\u001b[39mdrop(labels, level\u001b[38;5;241m=\u001b[39mlevel, errors\u001b[38;5;241m=\u001b[39merrors)\n\u001b[0;32m   4829\u001b[0m     \u001b[38;5;28;01melse\u001b[39;00m:\n\u001b[1;32m-> 4830\u001b[0m         new_axis \u001b[38;5;241m=\u001b[39m \u001b[43maxis\u001b[49m\u001b[38;5;241;43m.\u001b[39;49m\u001b[43mdrop\u001b[49m\u001b[43m(\u001b[49m\u001b[43mlabels\u001b[49m\u001b[43m,\u001b[49m\u001b[43m \u001b[49m\u001b[43merrors\u001b[49m\u001b[38;5;241;43m=\u001b[39;49m\u001b[43merrors\u001b[49m\u001b[43m)\u001b[49m\n\u001b[0;32m   4831\u001b[0m     indexer \u001b[38;5;241m=\u001b[39m axis\u001b[38;5;241m.\u001b[39mget_indexer(new_axis)\n\u001b[0;32m   4833\u001b[0m \u001b[38;5;66;03m# Case for non-unique axis\u001b[39;00m\n\u001b[0;32m   4834\u001b[0m \u001b[38;5;28;01melse\u001b[39;00m:\n",
            "File \u001b[1;32mc:\\Users\\Admin\\AppData\\Local\\Programs\\Python\\Python310\\lib\\site-packages\\pandas\\core\\indexes\\base.py:7070\u001b[0m, in \u001b[0;36mIndex.drop\u001b[1;34m(self, labels, errors)\u001b[0m\n\u001b[0;32m   7068\u001b[0m \u001b[38;5;28;01mif\u001b[39;00m mask\u001b[38;5;241m.\u001b[39many():\n\u001b[0;32m   7069\u001b[0m     \u001b[38;5;28;01mif\u001b[39;00m errors \u001b[38;5;241m!=\u001b[39m \u001b[38;5;124m\"\u001b[39m\u001b[38;5;124mignore\u001b[39m\u001b[38;5;124m\"\u001b[39m:\n\u001b[1;32m-> 7070\u001b[0m         \u001b[38;5;28;01mraise\u001b[39;00m \u001b[38;5;167;01mKeyError\u001b[39;00m(\u001b[38;5;124mf\u001b[39m\u001b[38;5;124m\"\u001b[39m\u001b[38;5;132;01m{\u001b[39;00mlabels[mask]\u001b[38;5;241m.\u001b[39mtolist()\u001b[38;5;132;01m}\u001b[39;00m\u001b[38;5;124m not found in axis\u001b[39m\u001b[38;5;124m\"\u001b[39m)\n\u001b[0;32m   7071\u001b[0m     indexer \u001b[38;5;241m=\u001b[39m indexer[\u001b[38;5;241m~\u001b[39mmask]\n\u001b[0;32m   7072\u001b[0m \u001b[38;5;28;01mreturn\u001b[39;00m \u001b[38;5;28mself\u001b[39m\u001b[38;5;241m.\u001b[39mdelete(indexer)\n",
            "\u001b[1;31mKeyError\u001b[0m: \"['TTDM dig, %', 'TTDM dig SEM', 'TTDM dig SED', 'TTDM dig SD', 'TTDM dig, %', 'TTOM dig SEM', 'TTOM dig SED', 'TTOM dig SD', 'TTCP dig, %', 'TTCP dig SEM', 'TTCP dig SED', 'TTCP dig SD', 'TTGE dig SEM', 'TTGE dig SED', 'TTGE dig SD', 'TTNDF dig, %', 'TTNDF dig SEM', 'TTNDF dig SED', 'TTNDF dig SD', 'TTADF dig, %', 'TTADF dig SEM', 'TTADF dig SED', 'TTADF dig SD', 'TTStarch dig, %', 'TTStarch dig SEM', 'TTStarch dig SED', 'Fecal N, g/d', 'Fecal N SEM', 'Fecal N SED', 'Fecal N SD', 'Urine N, g/d', 'Urine N SEM', 'Urine N SED', 'Urine N SD', 'Milk N, g/d', 'Milk N SEM', 'Milk N SED', 'Milk, kg/d', 'Milk SEM', 'Milk SED', 'Milk SD', 'Milk Fat, %', 'Milk Fat SEM', 'Milk Fat SED', 'Milk Fat SD', 'Milk CP, %', 'Milk CP SEM', 'Milk CP SED', 'Milk CP SD', 'Milk TP, %', 'Milk TP SEM', 'Milk TP SED', 'Milk TP SD', 'Milk Lactose, %', 'Milk Lactose SEM', 'Milk Lactose SED', 'Milk Lactose SD', 'ECM, kg/d', 'ECM SEM', 'ECM SED', 'ECM SD', 'FCM 3.5%, kg/d', 'FCM 3.5% SEM', 'FCM 4%, kg', 'FCM 4% SEM', 'SCM, kg/d', 'SCM, SEM', 'FPCM, kg/d', 'FPCM SEM', 'FPCM SED', 'FPCM SD', 'MUN, mg/dL', 'MUN SEM', 'MUN SD'] not found in axis\""
          ]
        }
      ],
      "source": [
        "df.drop(['TTDM dig, %', 'TTDM dig SEM', 'TTDM dig SED', 'TTDM dig SD','TTDM dig, %', 'TTOM dig SEM', 'TTOM dig SED', 'TTOM dig SD','TTCP dig, %', 'TTCP dig SEM', 'TTCP dig SED', 'TTCP dig SD', 'TTGE dig SEM', 'TTGE dig SED', 'TTGE dig SD','TTNDF dig, %', 'TTNDF dig SEM', 'TTNDF dig SED', 'TTNDF dig SD','TTADF dig, %', 'TTADF dig SEM', 'TTADF dig SED', 'TTADF dig SD','TTStarch dig, %', 'TTStarch dig SEM', 'TTStarch dig SED', 'Fecal N, g/d','Fecal N SEM', 'Fecal N SED', 'Fecal N SD', 'Urine N, g/d', 'Urine N SEM','Urine N SED', 'Urine N SD', 'Milk N, g/d', 'Milk N SEM', 'Milk N SED','Milk, kg/d', 'Milk SEM', 'Milk SED', 'Milk SD', 'Milk Fat, %', 'Milk Fat SEM','Milk Fat SED', 'Milk Fat SD', 'Milk CP, %', 'Milk CP SEM', 'Milk CP SED','Milk CP SD', 'Milk TP, %', 'Milk TP SEM', 'Milk TP SED', 'Milk TP SD','Milk Lactose, %', 'Milk Lactose SEM', 'Milk Lactose SED', 'Milk Lactose SD','ECM, kg/d', 'ECM SEM', 'ECM SED', 'ECM SD', 'FCM 3.5%, kg/d', 'FCM 3.5% SEM','FCM 4%, kg', 'FCM 4% SEM', 'SCM, kg/d', 'SCM, SEM', 'FPCM, kg/d',\n",
        "                   'FPCM SEM','FPCM SED', 'FPCM SD', 'MUN, mg/dL', 'MUN SEM', 'MUN SD'], axis=1, inplace=True)"
      ]
    },
    {
      "cell_type": "code",
      "execution_count": 17,
      "metadata": {
        "id": "8MdDeKEOwR85"
      },
      "outputs": [
        {
          "ename": "KeyError",
          "evalue": "\"['Animal Housing Type', 'Animal Feeding Type', 'Diet Acclimation Days', 'Data Collection Days', 'Total Treatment Days', 'Feed Analysis Method', 'Intake strategy', 'Diet Forage #1', 'Diet Forage #1, % Diet DM', 'Diet Forage #2', 'Diet forage #2, % Diet DM', 'Diet Forage, %DM', 'ADG SEM', 'ADG SD', 'Rumen Sampling Method'] not found in axis\"",
          "output_type": "error",
          "traceback": [
            "\u001b[1;31m---------------------------------------------------------------------------\u001b[0m",
            "\u001b[1;31mKeyError\u001b[0m                                  Traceback (most recent call last)",
            "Cell \u001b[1;32mIn[17], line 1\u001b[0m\n\u001b[1;32m----> 1\u001b[0m \u001b[43mdf\u001b[49m\u001b[38;5;241;43m.\u001b[39;49m\u001b[43mdrop\u001b[49m\u001b[43m(\u001b[49m\u001b[43m[\u001b[49m\u001b[38;5;124;43m'\u001b[39;49m\u001b[38;5;124;43mAnimal Housing Type\u001b[39;49m\u001b[38;5;124;43m'\u001b[39;49m\u001b[43m,\u001b[49m\u001b[43m \u001b[49m\u001b[38;5;124;43m'\u001b[39;49m\u001b[38;5;124;43mAnimal Feeding Type\u001b[39;49m\u001b[38;5;124;43m'\u001b[39;49m\u001b[43m,\u001b[49m\u001b[43m \u001b[49m\u001b[38;5;124;43m'\u001b[39;49m\u001b[38;5;124;43mDiet Acclimation Days\u001b[39;49m\u001b[38;5;124;43m'\u001b[39;49m\u001b[43m,\u001b[49m\u001b[38;5;124;43m'\u001b[39;49m\u001b[38;5;124;43mData Collection Days\u001b[39;49m\u001b[38;5;124;43m'\u001b[39;49m\u001b[43m,\u001b[49m\u001b[43m \u001b[49m\u001b[38;5;124;43m'\u001b[39;49m\u001b[38;5;124;43mTotal Treatment Days\u001b[39;49m\u001b[38;5;124;43m'\u001b[39;49m\u001b[43m,\u001b[49m\u001b[43m \u001b[49m\u001b[38;5;124;43m'\u001b[39;49m\u001b[38;5;124;43mFeed Analysis Method\u001b[39;49m\u001b[38;5;124;43m'\u001b[39;49m\u001b[43m,\u001b[49m\u001b[38;5;124;43m'\u001b[39;49m\u001b[38;5;124;43mIntake strategy\u001b[39;49m\u001b[38;5;124;43m'\u001b[39;49m\u001b[43m,\u001b[49m\u001b[43m \u001b[49m\u001b[38;5;124;43m'\u001b[39;49m\u001b[38;5;124;43mDiet Forage #1\u001b[39;49m\u001b[38;5;124;43m'\u001b[39;49m\u001b[43m,\u001b[49m\u001b[43m \u001b[49m\u001b[38;5;124;43m'\u001b[39;49m\u001b[38;5;124;43mDiet Forage #1, \u001b[39;49m\u001b[38;5;124;43m%\u001b[39;49m\u001b[38;5;124;43m Diet DM\u001b[39;49m\u001b[38;5;124;43m'\u001b[39;49m\u001b[43m,\u001b[49m\u001b[38;5;124;43m'\u001b[39;49m\u001b[38;5;124;43mDiet Forage #2\u001b[39;49m\u001b[38;5;124;43m'\u001b[39;49m\u001b[43m,\u001b[49m\u001b[43m \u001b[49m\u001b[38;5;124;43m'\u001b[39;49m\u001b[38;5;124;43mDiet forage #2, \u001b[39;49m\u001b[38;5;124;43m%\u001b[39;49m\u001b[38;5;124;43m Diet DM\u001b[39;49m\u001b[38;5;124;43m'\u001b[39;49m\u001b[43m,\u001b[49m\u001b[43m \u001b[49m\u001b[38;5;124;43m'\u001b[39;49m\u001b[38;5;124;43mDiet Forage, \u001b[39;49m\u001b[38;5;124;43m%\u001b[39;49m\u001b[38;5;124;43mDM\u001b[39;49m\u001b[38;5;124;43m'\u001b[39;49m\u001b[43m,\u001b[49m\u001b[38;5;124;43m'\u001b[39;49m\u001b[38;5;124;43mADG SEM\u001b[39;49m\u001b[38;5;124;43m'\u001b[39;49m\u001b[43m,\u001b[49m\u001b[43m \u001b[49m\u001b[38;5;124;43m'\u001b[39;49m\u001b[38;5;124;43mADG SD\u001b[39;49m\u001b[38;5;124;43m'\u001b[39;49m\u001b[43m,\u001b[49m\u001b[43m \u001b[49m\u001b[38;5;124;43m'\u001b[39;49m\u001b[38;5;124;43mRumen Sampling Method\u001b[39;49m\u001b[38;5;124;43m'\u001b[39;49m\n\u001b[0;32m      2\u001b[0m \u001b[43m]\u001b[49m\u001b[43m,\u001b[49m\u001b[43m \u001b[49m\u001b[43maxis\u001b[49m\u001b[38;5;241;43m=\u001b[39;49m\u001b[38;5;241;43m1\u001b[39;49m\u001b[43m,\u001b[49m\u001b[43m \u001b[49m\u001b[43minplace\u001b[49m\u001b[38;5;241;43m=\u001b[39;49m\u001b[38;5;28;43;01mTrue\u001b[39;49;00m\u001b[43m)\u001b[49m\n",
            "File \u001b[1;32mc:\\Users\\Admin\\AppData\\Local\\Programs\\Python\\Python310\\lib\\site-packages\\pandas\\core\\frame.py:5581\u001b[0m, in \u001b[0;36mDataFrame.drop\u001b[1;34m(self, labels, axis, index, columns, level, inplace, errors)\u001b[0m\n\u001b[0;32m   5433\u001b[0m \u001b[38;5;28;01mdef\u001b[39;00m \u001b[38;5;21mdrop\u001b[39m(\n\u001b[0;32m   5434\u001b[0m     \u001b[38;5;28mself\u001b[39m,\n\u001b[0;32m   5435\u001b[0m     labels: IndexLabel \u001b[38;5;241m|\u001b[39m \u001b[38;5;28;01mNone\u001b[39;00m \u001b[38;5;241m=\u001b[39m \u001b[38;5;28;01mNone\u001b[39;00m,\n\u001b[1;32m   (...)\u001b[0m\n\u001b[0;32m   5442\u001b[0m     errors: IgnoreRaise \u001b[38;5;241m=\u001b[39m \u001b[38;5;124m\"\u001b[39m\u001b[38;5;124mraise\u001b[39m\u001b[38;5;124m\"\u001b[39m,\n\u001b[0;32m   5443\u001b[0m ) \u001b[38;5;241m-\u001b[39m\u001b[38;5;241m>\u001b[39m DataFrame \u001b[38;5;241m|\u001b[39m \u001b[38;5;28;01mNone\u001b[39;00m:\n\u001b[0;32m   5444\u001b[0m \u001b[38;5;250m    \u001b[39m\u001b[38;5;124;03m\"\"\"\u001b[39;00m\n\u001b[0;32m   5445\u001b[0m \u001b[38;5;124;03m    Drop specified labels from rows or columns.\u001b[39;00m\n\u001b[0;32m   5446\u001b[0m \n\u001b[1;32m   (...)\u001b[0m\n\u001b[0;32m   5579\u001b[0m \u001b[38;5;124;03m            weight  1.0     0.8\u001b[39;00m\n\u001b[0;32m   5580\u001b[0m \u001b[38;5;124;03m    \"\"\"\u001b[39;00m\n\u001b[1;32m-> 5581\u001b[0m     \u001b[38;5;28;01mreturn\u001b[39;00m \u001b[38;5;28;43msuper\u001b[39;49m\u001b[43m(\u001b[49m\u001b[43m)\u001b[49m\u001b[38;5;241;43m.\u001b[39;49m\u001b[43mdrop\u001b[49m\u001b[43m(\u001b[49m\n\u001b[0;32m   5582\u001b[0m \u001b[43m        \u001b[49m\u001b[43mlabels\u001b[49m\u001b[38;5;241;43m=\u001b[39;49m\u001b[43mlabels\u001b[49m\u001b[43m,\u001b[49m\n\u001b[0;32m   5583\u001b[0m \u001b[43m        \u001b[49m\u001b[43maxis\u001b[49m\u001b[38;5;241;43m=\u001b[39;49m\u001b[43maxis\u001b[49m\u001b[43m,\u001b[49m\n\u001b[0;32m   5584\u001b[0m \u001b[43m        \u001b[49m\u001b[43mindex\u001b[49m\u001b[38;5;241;43m=\u001b[39;49m\u001b[43mindex\u001b[49m\u001b[43m,\u001b[49m\n\u001b[0;32m   5585\u001b[0m \u001b[43m        \u001b[49m\u001b[43mcolumns\u001b[49m\u001b[38;5;241;43m=\u001b[39;49m\u001b[43mcolumns\u001b[49m\u001b[43m,\u001b[49m\n\u001b[0;32m   5586\u001b[0m \u001b[43m        \u001b[49m\u001b[43mlevel\u001b[49m\u001b[38;5;241;43m=\u001b[39;49m\u001b[43mlevel\u001b[49m\u001b[43m,\u001b[49m\n\u001b[0;32m   5587\u001b[0m \u001b[43m        \u001b[49m\u001b[43minplace\u001b[49m\u001b[38;5;241;43m=\u001b[39;49m\u001b[43minplace\u001b[49m\u001b[43m,\u001b[49m\n\u001b[0;32m   5588\u001b[0m \u001b[43m        \u001b[49m\u001b[43merrors\u001b[49m\u001b[38;5;241;43m=\u001b[39;49m\u001b[43merrors\u001b[49m\u001b[43m,\u001b[49m\n\u001b[0;32m   5589\u001b[0m \u001b[43m    \u001b[49m\u001b[43m)\u001b[49m\n",
            "File \u001b[1;32mc:\\Users\\Admin\\AppData\\Local\\Programs\\Python\\Python310\\lib\\site-packages\\pandas\\core\\generic.py:4788\u001b[0m, in \u001b[0;36mNDFrame.drop\u001b[1;34m(self, labels, axis, index, columns, level, inplace, errors)\u001b[0m\n\u001b[0;32m   4786\u001b[0m \u001b[38;5;28;01mfor\u001b[39;00m axis, labels \u001b[38;5;129;01min\u001b[39;00m axes\u001b[38;5;241m.\u001b[39mitems():\n\u001b[0;32m   4787\u001b[0m     \u001b[38;5;28;01mif\u001b[39;00m labels \u001b[38;5;129;01mis\u001b[39;00m \u001b[38;5;129;01mnot\u001b[39;00m \u001b[38;5;28;01mNone\u001b[39;00m:\n\u001b[1;32m-> 4788\u001b[0m         obj \u001b[38;5;241m=\u001b[39m \u001b[43mobj\u001b[49m\u001b[38;5;241;43m.\u001b[39;49m\u001b[43m_drop_axis\u001b[49m\u001b[43m(\u001b[49m\u001b[43mlabels\u001b[49m\u001b[43m,\u001b[49m\u001b[43m \u001b[49m\u001b[43maxis\u001b[49m\u001b[43m,\u001b[49m\u001b[43m \u001b[49m\u001b[43mlevel\u001b[49m\u001b[38;5;241;43m=\u001b[39;49m\u001b[43mlevel\u001b[49m\u001b[43m,\u001b[49m\u001b[43m \u001b[49m\u001b[43merrors\u001b[49m\u001b[38;5;241;43m=\u001b[39;49m\u001b[43merrors\u001b[49m\u001b[43m)\u001b[49m\n\u001b[0;32m   4790\u001b[0m \u001b[38;5;28;01mif\u001b[39;00m inplace:\n\u001b[0;32m   4791\u001b[0m     \u001b[38;5;28mself\u001b[39m\u001b[38;5;241m.\u001b[39m_update_inplace(obj)\n",
            "File \u001b[1;32mc:\\Users\\Admin\\AppData\\Local\\Programs\\Python\\Python310\\lib\\site-packages\\pandas\\core\\generic.py:4830\u001b[0m, in \u001b[0;36mNDFrame._drop_axis\u001b[1;34m(self, labels, axis, level, errors, only_slice)\u001b[0m\n\u001b[0;32m   4828\u001b[0m         new_axis \u001b[38;5;241m=\u001b[39m axis\u001b[38;5;241m.\u001b[39mdrop(labels, level\u001b[38;5;241m=\u001b[39mlevel, errors\u001b[38;5;241m=\u001b[39merrors)\n\u001b[0;32m   4829\u001b[0m     \u001b[38;5;28;01melse\u001b[39;00m:\n\u001b[1;32m-> 4830\u001b[0m         new_axis \u001b[38;5;241m=\u001b[39m \u001b[43maxis\u001b[49m\u001b[38;5;241;43m.\u001b[39;49m\u001b[43mdrop\u001b[49m\u001b[43m(\u001b[49m\u001b[43mlabels\u001b[49m\u001b[43m,\u001b[49m\u001b[43m \u001b[49m\u001b[43merrors\u001b[49m\u001b[38;5;241;43m=\u001b[39;49m\u001b[43merrors\u001b[49m\u001b[43m)\u001b[49m\n\u001b[0;32m   4831\u001b[0m     indexer \u001b[38;5;241m=\u001b[39m axis\u001b[38;5;241m.\u001b[39mget_indexer(new_axis)\n\u001b[0;32m   4833\u001b[0m \u001b[38;5;66;03m# Case for non-unique axis\u001b[39;00m\n\u001b[0;32m   4834\u001b[0m \u001b[38;5;28;01melse\u001b[39;00m:\n",
            "File \u001b[1;32mc:\\Users\\Admin\\AppData\\Local\\Programs\\Python\\Python310\\lib\\site-packages\\pandas\\core\\indexes\\base.py:7070\u001b[0m, in \u001b[0;36mIndex.drop\u001b[1;34m(self, labels, errors)\u001b[0m\n\u001b[0;32m   7068\u001b[0m \u001b[38;5;28;01mif\u001b[39;00m mask\u001b[38;5;241m.\u001b[39many():\n\u001b[0;32m   7069\u001b[0m     \u001b[38;5;28;01mif\u001b[39;00m errors \u001b[38;5;241m!=\u001b[39m \u001b[38;5;124m\"\u001b[39m\u001b[38;5;124mignore\u001b[39m\u001b[38;5;124m\"\u001b[39m:\n\u001b[1;32m-> 7070\u001b[0m         \u001b[38;5;28;01mraise\u001b[39;00m \u001b[38;5;167;01mKeyError\u001b[39;00m(\u001b[38;5;124mf\u001b[39m\u001b[38;5;124m\"\u001b[39m\u001b[38;5;132;01m{\u001b[39;00mlabels[mask]\u001b[38;5;241m.\u001b[39mtolist()\u001b[38;5;132;01m}\u001b[39;00m\u001b[38;5;124m not found in axis\u001b[39m\u001b[38;5;124m\"\u001b[39m)\n\u001b[0;32m   7071\u001b[0m     indexer \u001b[38;5;241m=\u001b[39m indexer[\u001b[38;5;241m~\u001b[39mmask]\n\u001b[0;32m   7072\u001b[0m \u001b[38;5;28;01mreturn\u001b[39;00m \u001b[38;5;28mself\u001b[39m\u001b[38;5;241m.\u001b[39mdelete(indexer)\n",
            "\u001b[1;31mKeyError\u001b[0m: \"['Animal Housing Type', 'Animal Feeding Type', 'Diet Acclimation Days', 'Data Collection Days', 'Total Treatment Days', 'Feed Analysis Method', 'Intake strategy', 'Diet Forage #1', 'Diet Forage #1, % Diet DM', 'Diet Forage #2', 'Diet forage #2, % Diet DM', 'Diet Forage, %DM', 'ADG SEM', 'ADG SD', 'Rumen Sampling Method'] not found in axis\""
          ]
        }
      ],
      "source": [
        "df.drop(['Animal Housing Type', 'Animal Feeding Type', 'Diet Acclimation Days','Data Collection Days', 'Total Treatment Days', 'Feed Analysis Method','Intake strategy', 'Diet Forage #1', 'Diet Forage #1, % Diet DM','Diet Forage #2', 'Diet forage #2, % Diet DM', 'Diet Forage, %DM','ADG SEM', 'ADG SD', 'Rumen Sampling Method'\n",
        "], axis=1, inplace=True)"
      ]
    },
    {
      "cell_type": "code",
      "execution_count": 18,
      "metadata": {
        "id": "m3tMmjtO2Cm0"
      },
      "outputs": [],
      "source": [
        "df.drop(['Rumen pH SEM', 'Rumen pH SED','Rumen pH SD',  'Rumen Ammonia SEM','Rumen Ammonia SED', 'Rumen Ammonia SD', 'Rumen VFA, mM','Rumen VFA SEM', 'Rumen VFA SD','Rumen Acetate SEM', 'Rumen Acetate SED ','Rumen Acetate SD ','Rumen Propionate SEM', 'Rumen Propionate SED', 'Rumen Propionate  SD','Rumen Butyrate SEM','Rumen Butyrate SED', 'Rumen Butyrate SD'], axis=1, inplace=True)\n"
      ]
    },
    {
      "cell_type": "code",
      "execution_count": 19,
      "metadata": {
        "colab": {
          "base_uri": "https://localhost:8080/"
        },
        "id": "m54kvppxwSAk",
        "outputId": "890de1f1-87af-46fd-956d-88899e73d362"
      },
      "outputs": [
        {
          "data": {
            "text/plain": [
              "(797, 51)"
            ]
          },
          "execution_count": 19,
          "metadata": {},
          "output_type": "execute_result"
        }
      ],
      "source": [
        "df.shape"
      ]
    },
    {
      "cell_type": "code",
      "execution_count": 20,
      "metadata": {},
      "outputs": [
        {
          "data": {
            "text/plain": [
              "Index(['Study Location', 'Animal sex: 1 = Male; 2= Female',\n",
              "       'Animal Age (months)', 'Animal BW, kg', 'Methane Measurement Method',\n",
              "       'DIM', 'ADG, kg/d ', 'Supplemental Feed Ingredients', 'DMI, kg/d',\n",
              "       'DMI SEM', 'DMI SED', 'DMI SD', 'Diet GE, Mcal/kg DM', 'Diet CP, %DM',\n",
              "       'Diet Fatty Acids, %DM', 'Diet EE, %DM', 'Diet Ash, %DM',\n",
              "       'Diet NDF, %DM', 'Diet ADF, %DM', 'Diet Lignin, %DM',\n",
              "       'Diet Starch, %DM', 'Rumen pH', 'Rumen Ammonia, mM', 'Rumen VFA SED',\n",
              "       'Rumen Acetate, mol/100 mol', 'Rumen Propionate, mol/100 mol',\n",
              "       'Rumen Butyrate, mol/100 mol', 'TTOM dig, % ', 'TTGE dig, %',\n",
              "       'CH4, g/d ', 'CH4 SEM', 'CH4 SED', 'CH4 SD', 'CH4/DMI, g/kg',\n",
              "       'CH4/DMI, SEM', 'CH4/DMI, SED', 'CH4/DMI, SD', 'CH4, %GEI',\n",
              "       'CH4, %GEI SEM', 'CH4, %GEI SED', 'CH4, %GEI SD', 'CH4/Milk, g/kg',\n",
              "       'CH4/Milk,SEM', 'CH4/Milk, SED', 'CH4/Milk, SD', 'CH4/ECM, g/kg',\n",
              "       'CH4/ECM,SEM', 'CH4/ECM, SED', 'CH4/ECM, SD', 'CH4/BW Gain g/kg',\n",
              "       'CH4/BW Gain, g/kg SEM'],\n",
              "      dtype='object')"
            ]
          },
          "execution_count": 20,
          "metadata": {},
          "output_type": "execute_result"
        }
      ],
      "source": [
        "df.columns"
      ]
    },
    {
      "cell_type": "code",
      "execution_count": 31,
      "metadata": {},
      "outputs": [
        {
          "data": {
            "text/plain": [
              "(797, 34)"
            ]
          },
          "execution_count": 31,
          "metadata": {},
          "output_type": "execute_result"
        }
      ],
      "source": [
        "df.shape"
      ]
    },
    {
      "cell_type": "code",
      "execution_count": 22,
      "metadata": {
        "colab": {
          "base_uri": "https://localhost:8080/"
        },
        "id": "neE0Dfg6wSE6",
        "outputId": "f8e81d96-f261-4b45-fcd3-685cafc4d63b"
      },
      "outputs": [
        {
          "name": "stdout",
          "output_type": "stream",
          "text": [
            "Dataset saved successfully!\n"
          ]
        }
      ],
      "source": [
        "df.to_csv('DairyMethane Dataset.csv', index=False)\n",
        "\n",
        "print(\"Dataset saved successfully!\")"
      ]
    },
    {
      "cell_type": "markdown",
      "metadata": {
        "id": "3HLR4LRV3lnA"
      },
      "source": [
        "## filling null columns"
      ]
    },
    {
      "cell_type": "code",
      "execution_count": 23,
      "metadata": {
        "colab": {
          "base_uri": "https://localhost:8080/",
          "height": 603
        },
        "id": "7n6ET1anwSL_",
        "outputId": "a340c1fd-33e9-4ede-eae5-867bad52630e"
      },
      "outputs": [
        {
          "data": {
            "text/html": [
              "<div>\n",
              "<style scoped>\n",
              "    .dataframe tbody tr th:only-of-type {\n",
              "        vertical-align: middle;\n",
              "    }\n",
              "\n",
              "    .dataframe tbody tr th {\n",
              "        vertical-align: top;\n",
              "    }\n",
              "\n",
              "    .dataframe thead th {\n",
              "        text-align: right;\n",
              "    }\n",
              "</style>\n",
              "<table border=\"1\" class=\"dataframe\">\n",
              "  <thead>\n",
              "    <tr style=\"text-align: right;\">\n",
              "      <th></th>\n",
              "      <th>Study Location</th>\n",
              "      <th>Animal sex: 1 = Male; 2= Female</th>\n",
              "      <th>Animal Age (months)</th>\n",
              "      <th>Animal BW, kg</th>\n",
              "      <th>Methane Measurement Method</th>\n",
              "      <th>DIM</th>\n",
              "      <th>ADG, kg/d</th>\n",
              "      <th>Supplemental Feed Ingredients</th>\n",
              "      <th>DMI, kg/d</th>\n",
              "      <th>DMI SEM</th>\n",
              "      <th>...</th>\n",
              "      <th>CH4/Milk, g/kg</th>\n",
              "      <th>CH4/Milk,SEM</th>\n",
              "      <th>CH4/Milk, SED</th>\n",
              "      <th>CH4/Milk, SD</th>\n",
              "      <th>CH4/ECM, g/kg</th>\n",
              "      <th>CH4/ECM,SEM</th>\n",
              "      <th>CH4/ECM, SED</th>\n",
              "      <th>CH4/ECM, SD</th>\n",
              "      <th>CH4/BW Gain g/kg</th>\n",
              "      <th>CH4/BW Gain, g/kg SEM</th>\n",
              "    </tr>\n",
              "  </thead>\n",
              "  <tbody>\n",
              "    <tr>\n",
              "      <th>0</th>\n",
              "      <td>United States</td>\n",
              "      <td>2</td>\n",
              "      <td>NaN</td>\n",
              "      <td>672</td>\n",
              "      <td>Sulfur Hexafluoride (SF6) tracer technique</td>\n",
              "      <td>95</td>\n",
              "      <td>NaN</td>\n",
              "      <td>Corn, Canola, Whole Soybeans, Cookie, Cottonse...</td>\n",
              "      <td>26.9</td>\n",
              "      <td>0.84</td>\n",
              "      <td>...</td>\n",
              "      <td>NaN</td>\n",
              "      <td>NaN</td>\n",
              "      <td>NaN</td>\n",
              "      <td>NaN</td>\n",
              "      <td>NaN</td>\n",
              "      <td>NaN</td>\n",
              "      <td>NaN</td>\n",
              "      <td>NaN</td>\n",
              "      <td>NaN</td>\n",
              "      <td>NaN</td>\n",
              "    </tr>\n",
              "    <tr>\n",
              "      <th>1</th>\n",
              "      <td>United States</td>\n",
              "      <td>2</td>\n",
              "      <td>NaN</td>\n",
              "      <td>665</td>\n",
              "      <td>Sulfur Hexafluoride (SF6) tracer technique</td>\n",
              "      <td>95</td>\n",
              "      <td>NaN</td>\n",
              "      <td>Corn, Canola, Whole Soybeans, Cookie, Cottonse...</td>\n",
              "      <td>20.0</td>\n",
              "      <td>0.84</td>\n",
              "      <td>...</td>\n",
              "      <td>NaN</td>\n",
              "      <td>NaN</td>\n",
              "      <td>NaN</td>\n",
              "      <td>NaN</td>\n",
              "      <td>NaN</td>\n",
              "      <td>NaN</td>\n",
              "      <td>NaN</td>\n",
              "      <td>NaN</td>\n",
              "      <td>NaN</td>\n",
              "      <td>NaN</td>\n",
              "    </tr>\n",
              "    <tr>\n",
              "      <th>2</th>\n",
              "      <td>United States</td>\n",
              "      <td>2</td>\n",
              "      <td>NaN</td>\n",
              "      <td>661</td>\n",
              "      <td>Sulfur Hexafluoride (SF6) tracer technique</td>\n",
              "      <td>95</td>\n",
              "      <td>NaN</td>\n",
              "      <td>Corn, Canola, Whole Soybeans, Cookie, Cottonse...</td>\n",
              "      <td>25.7</td>\n",
              "      <td>0.84</td>\n",
              "      <td>...</td>\n",
              "      <td>NaN</td>\n",
              "      <td>NaN</td>\n",
              "      <td>NaN</td>\n",
              "      <td>NaN</td>\n",
              "      <td>NaN</td>\n",
              "      <td>NaN</td>\n",
              "      <td>NaN</td>\n",
              "      <td>NaN</td>\n",
              "      <td>NaN</td>\n",
              "      <td>NaN</td>\n",
              "    </tr>\n",
              "    <tr>\n",
              "      <th>3</th>\n",
              "      <td>United States</td>\n",
              "      <td>2</td>\n",
              "      <td>49</td>\n",
              "      <td>640</td>\n",
              "      <td>Sulfur Hexafluoride (SF6) tracer technique</td>\n",
              "      <td>80</td>\n",
              "      <td>NaN</td>\n",
              "      <td>corn ground/canola meal/Bakery/Cottonseed Hull...</td>\n",
              "      <td>26.7</td>\n",
              "      <td>3.01</td>\n",
              "      <td>...</td>\n",
              "      <td>NaN</td>\n",
              "      <td>NaN</td>\n",
              "      <td>NaN</td>\n",
              "      <td>NaN</td>\n",
              "      <td>NaN</td>\n",
              "      <td>NaN</td>\n",
              "      <td>NaN</td>\n",
              "      <td>NaN</td>\n",
              "      <td>NaN</td>\n",
              "      <td>NaN</td>\n",
              "    </tr>\n",
              "    <tr>\n",
              "      <th>4</th>\n",
              "      <td>United States</td>\n",
              "      <td>2</td>\n",
              "      <td>49</td>\n",
              "      <td>640</td>\n",
              "      <td>Sulfur Hexafluoride (SF6) tracer technique</td>\n",
              "      <td>80</td>\n",
              "      <td>NaN</td>\n",
              "      <td>corn ground/canola meal/Bakery/Cottonseed Hull...</td>\n",
              "      <td>26.0</td>\n",
              "      <td>3.01</td>\n",
              "      <td>...</td>\n",
              "      <td>NaN</td>\n",
              "      <td>NaN</td>\n",
              "      <td>NaN</td>\n",
              "      <td>NaN</td>\n",
              "      <td>NaN</td>\n",
              "      <td>NaN</td>\n",
              "      <td>NaN</td>\n",
              "      <td>NaN</td>\n",
              "      <td>NaN</td>\n",
              "      <td>NaN</td>\n",
              "    </tr>\n",
              "  </tbody>\n",
              "</table>\n",
              "<p>5 rows × 51 columns</p>\n",
              "</div>"
            ],
            "text/plain": [
              "  Study Location  Animal sex: 1 = Male; 2= Female Animal Age (months)  \\\n",
              "0  United States                                2                 NaN   \n",
              "1  United States                                2                 NaN   \n",
              "2  United States                                2                 NaN   \n",
              "3  United States                                2                  49   \n",
              "4  United States                                2                  49   \n",
              "\n",
              "  Animal BW, kg                  Methane Measurement Method DIM ADG, kg/d   \\\n",
              "0           672  Sulfur Hexafluoride (SF6) tracer technique  95        NaN   \n",
              "1           665  Sulfur Hexafluoride (SF6) tracer technique  95        NaN   \n",
              "2           661  Sulfur Hexafluoride (SF6) tracer technique  95        NaN   \n",
              "3           640  Sulfur Hexafluoride (SF6) tracer technique  80        NaN   \n",
              "4           640  Sulfur Hexafluoride (SF6) tracer technique  80        NaN   \n",
              "\n",
              "                       Supplemental Feed Ingredients  DMI, kg/d DMI SEM  ...  \\\n",
              "0  Corn, Canola, Whole Soybeans, Cookie, Cottonse...       26.9    0.84  ...   \n",
              "1  Corn, Canola, Whole Soybeans, Cookie, Cottonse...       20.0    0.84  ...   \n",
              "2  Corn, Canola, Whole Soybeans, Cookie, Cottonse...       25.7    0.84  ...   \n",
              "3  corn ground/canola meal/Bakery/Cottonseed Hull...       26.7    3.01  ...   \n",
              "4  corn ground/canola meal/Bakery/Cottonseed Hull...       26.0    3.01  ...   \n",
              "\n",
              "   CH4/Milk, g/kg  CH4/Milk,SEM  CH4/Milk, SED  CH4/Milk, SD  CH4/ECM, g/kg  \\\n",
              "0             NaN           NaN            NaN           NaN            NaN   \n",
              "1             NaN           NaN            NaN           NaN            NaN   \n",
              "2             NaN           NaN            NaN           NaN            NaN   \n",
              "3             NaN           NaN            NaN           NaN            NaN   \n",
              "4             NaN           NaN            NaN           NaN            NaN   \n",
              "\n",
              "   CH4/ECM,SEM  CH4/ECM, SED  CH4/ECM, SD  CH4/BW Gain g/kg  \\\n",
              "0          NaN           NaN          NaN               NaN   \n",
              "1          NaN           NaN          NaN               NaN   \n",
              "2          NaN           NaN          NaN               NaN   \n",
              "3          NaN           NaN          NaN               NaN   \n",
              "4          NaN           NaN          NaN               NaN   \n",
              "\n",
              "   CH4/BW Gain, g/kg SEM  \n",
              "0                    NaN  \n",
              "1                    NaN  \n",
              "2                    NaN  \n",
              "3                    NaN  \n",
              "4                    NaN  \n",
              "\n",
              "[5 rows x 51 columns]"
            ]
          },
          "execution_count": 23,
          "metadata": {},
          "output_type": "execute_result"
        }
      ],
      "source": [
        "df=pd.read_csv('DairyMethane Dataset.csv')\n",
        "df.head()"
      ]
    },
    {
      "cell_type": "code",
      "execution_count": 24,
      "metadata": {
        "colab": {
          "base_uri": "https://localhost:8080/"
        },
        "id": "jIDmbg2D5DjU",
        "outputId": "406b2c91-86a2-4f79-a5ad-56219cc70ba7"
      },
      "outputs": [
        {
          "data": {
            "text/plain": [
              "(797, 51)"
            ]
          },
          "execution_count": 24,
          "metadata": {},
          "output_type": "execute_result"
        }
      ],
      "source": [
        "df.shape"
      ]
    },
    {
      "cell_type": "code",
      "execution_count": 25,
      "metadata": {
        "colab": {
          "base_uri": "https://localhost:8080/",
          "height": 1000
        },
        "id": "W1-vqYNR5LXd",
        "outputId": "060fc2ec-7cc7-438c-ae21-71d2a95a5462"
      },
      "outputs": [
        {
          "data": {
            "text/plain": [
              "Study Location                       0\n",
              "Animal sex: 1 = Male; 2= Female      0\n",
              "Animal Age (months)                654\n",
              "Animal BW, kg                      114\n",
              "Methane Measurement Method           0\n",
              "DIM                                211\n",
              "ADG, kg/d                          746\n",
              "Supplemental Feed Ingredients      111\n",
              "DMI, kg/d                            0\n",
              "DMI SEM                            113\n",
              "DMI SED                            724\n",
              "DMI SD                             755\n",
              "Diet GE, Mcal/kg DM                427\n",
              "Diet CP, %DM                        94\n",
              "Diet Fatty Acids, %DM              775\n",
              "Diet EE, %DM                       253\n",
              "Diet Ash, %DM                      251\n",
              "Diet NDF, %DM                      117\n",
              "Diet ADF, %DM                      359\n",
              "Diet Lignin, %DM                   671\n",
              "Diet Starch, %DM                   397\n",
              "Rumen pH                           496\n",
              "Rumen Ammonia, mM                  524\n",
              "Rumen VFA SED                      772\n",
              "Rumen Acetate, mol/100 mol         467\n",
              "Rumen Propionate, mol/100 mol      467\n",
              "Rumen Butyrate, mol/100 mol        468\n",
              "TTOM dig, %                        388\n",
              "TTGE dig, %                        634\n",
              "CH4, g/d                            10\n",
              "CH4 SEM                            136\n",
              "CH4 SED                            717\n",
              "CH4 SD                             765\n",
              "CH4/DMI, g/kg                      127\n",
              "CH4/DMI, SEM                       234\n",
              "CH4/DMI, SED                       717\n",
              "CH4/DMI, SD                        772\n",
              "CH4, %GEI                          353\n",
              "CH4, %GEI SEM                      413\n",
              "CH4, %GEI SED                      750\n",
              "CH4, %GEI SD                       787\n",
              "CH4/Milk, g/kg                     435\n",
              "CH4/Milk,SEM                       494\n",
              "CH4/Milk, SED                      759\n",
              "CH4/Milk, SD                       786\n",
              "CH4/ECM, g/kg                      517\n",
              "CH4/ECM,SEM                        539\n",
              "CH4/ECM, SED                       781\n",
              "CH4/ECM, SD                        791\n",
              "CH4/BW Gain g/kg                   786\n",
              "CH4/BW Gain, g/kg SEM              787\n",
              "dtype: int64"
            ]
          },
          "execution_count": 25,
          "metadata": {},
          "output_type": "execute_result"
        }
      ],
      "source": [
        "df.isnull().sum()"
      ]
    },
    {
      "cell_type": "code",
      "execution_count": 26,
      "metadata": {
        "id": "KGnSfWSL5Ubs"
      },
      "outputs": [],
      "source": [
        "df.drop(['Diet Fatty Acids, %DM','CH4/ECM, SED','CH4/BW Gain, g/kg SEM','CH4/BW Gain g/kg','CH4/ECM, SD','CH4/ECM, SED','CH4/ECM,SEM'], axis=1, inplace=True)"
      ]
    },
    {
      "cell_type": "code",
      "execution_count": 27,
      "metadata": {},
      "outputs": [],
      "source": [
        "df.drop(['CH4/ECM, g/kg','CH4/Milk, SD','CH4/Milk, SED','CH4/Milk,SEM','CH4, %GEI SD','CH4, %GEI SED','CH4/DMI, SD','CH4/DMI, SED','CH4/DMI, SEM','CH4 SD'], axis=1, inplace=True)"
      ]
    },
    {
      "cell_type": "code",
      "execution_count": 28,
      "metadata": {
        "colab": {
          "base_uri": "https://localhost:8080/"
        },
        "id": "PFCWzx7v5z5b",
        "outputId": "cb1b5f97-83f1-4f84-9742-7aa7b0211992"
      },
      "outputs": [],
      "source": [
        "df.drop(['CH4 SED'], axis=1, inplace=True)"
      ]
    },
    {
      "cell_type": "code",
      "execution_count": 32,
      "metadata": {},
      "outputs": [
        {
          "data": {
            "text/plain": [
              "Index(['Study Location', 'Animal sex: 1 = Male; 2= Female',\n",
              "       'Animal Age (months)', 'Animal BW, kg', 'Methane Measurement Method',\n",
              "       'DIM', 'ADG, kg/d ', 'Supplemental Feed Ingredients', 'DMI, kg/d',\n",
              "       'DMI SEM', 'DMI SED', 'DMI SD', 'Diet GE, Mcal/kg DM', 'Diet CP, %DM',\n",
              "       'Diet EE, %DM', 'Diet Ash, %DM', 'Diet NDF, %DM', 'Diet ADF, %DM',\n",
              "       'Diet Lignin, %DM', 'Diet Starch, %DM', 'Rumen pH', 'Rumen Ammonia, mM',\n",
              "       'Rumen VFA SED', 'Rumen Acetate, mol/100 mol',\n",
              "       'Rumen Propionate, mol/100 mol', 'Rumen Butyrate, mol/100 mol',\n",
              "       'TTOM dig, % ', 'TTGE dig, %', 'CH4, g/d ', 'CH4 SEM', 'CH4/DMI, g/kg',\n",
              "       'CH4, %GEI', 'CH4, %GEI SEM', 'CH4/Milk, g/kg'],\n",
              "      dtype='object')"
            ]
          },
          "execution_count": 32,
          "metadata": {},
          "output_type": "execute_result"
        }
      ],
      "source": [
        "df.columns"
      ]
    },
    {
      "cell_type": "code",
      "execution_count": 33,
      "metadata": {
        "colab": {
          "base_uri": "https://localhost:8080/"
        },
        "id": "Mu9Mx1bT34iB",
        "outputId": "4e23d3a2-8e63-4bba-a797-4f10403f68f3"
      },
      "outputs": [
        {
          "name": "stdout",
          "output_type": "stream",
          "text": [
            "\n",
            "Numerical Columns:\n",
            "Index(['Animal sex: 1 = Male; 2= Female', 'DMI, kg/d', 'DMI SED', 'DMI SD',\n",
            "       'Diet GE, Mcal/kg DM', 'Diet CP, %DM', 'Diet EE, %DM', 'Diet Ash, %DM',\n",
            "       'Diet NDF, %DM', 'Diet ADF, %DM', 'Diet Lignin, %DM', 'Rumen pH',\n",
            "       'Rumen Ammonia, mM', 'Rumen VFA SED', 'Rumen Acetate, mol/100 mol',\n",
            "       'Rumen Propionate, mol/100 mol', 'Rumen Butyrate, mol/100 mol',\n",
            "       'TTOM dig, % ', 'TTGE dig, %', 'CH4, g/d ', 'CH4/DMI, g/kg',\n",
            "       'CH4, %GEI', 'CH4, %GEI SEM'],\n",
            "      dtype='object')\n"
          ]
        }
      ],
      "source": [
        "numerical_cols = df.select_dtypes(include=['int64', 'float64']).columns\n",
        "print(\"\\nNumerical Columns:\")\n",
        "print(numerical_cols)"
      ]
    },
    {
      "cell_type": "code",
      "execution_count": 34,
      "metadata": {
        "id": "wCO-2QwI34kO"
      },
      "outputs": [],
      "source": [
        "df[numerical_cols] = df[numerical_cols].fillna(df[numerical_cols].mean())"
      ]
    },
    {
      "cell_type": "code",
      "execution_count": 35,
      "metadata": {
        "colab": {
          "base_uri": "https://localhost:8080/"
        },
        "id": "J8j8ZSsI34mt",
        "outputId": "70b66d75-e33a-4e55-f31b-fe6115d85ee9"
      },
      "outputs": [
        {
          "name": "stdout",
          "output_type": "stream",
          "text": [
            "Categorical Columns:\n",
            "Index(['Study Location', 'Animal Age (months)', 'Animal BW, kg',\n",
            "       'Methane Measurement Method', 'DIM', 'ADG, kg/d ',\n",
            "       'Supplemental Feed Ingredients', 'DMI SEM', 'Diet Starch, %DM',\n",
            "       'CH4 SEM', 'CH4/Milk, g/kg'],\n",
            "      dtype='object')\n"
          ]
        }
      ],
      "source": [
        "# Identify and print categorical columns\n",
        "categorical_cols = df.select_dtypes(include=['object']).columns\n",
        "print(\"Categorical Columns:\")\n",
        "print(categorical_cols)"
      ]
    },
    {
      "cell_type": "code",
      "execution_count": 36,
      "metadata": {
        "id": "HX1VhNVI34op"
      },
      "outputs": [],
      "source": [
        "df[categorical_cols] = df[categorical_cols].fillna(df[categorical_cols].mode().iloc[0])"
      ]
    },
    {
      "cell_type": "code",
      "execution_count": 37,
      "metadata": {
        "colab": {
          "base_uri": "https://localhost:8080/"
        },
        "id": "hhVEda2F34uF",
        "outputId": "d0581e28-8979-45a5-bd92-8a6bd060c2f1"
      },
      "outputs": [
        {
          "data": {
            "text/plain": [
              "Study Location                   0\n",
              "Animal Age (months)              0\n",
              "Animal BW, kg                    0\n",
              "Methane Measurement Method       0\n",
              "DIM                              0\n",
              "ADG, kg/d                        0\n",
              "Supplemental Feed Ingredients    0\n",
              "DMI SEM                          0\n",
              "Diet Starch, %DM                 0\n",
              "CH4 SEM                          0\n",
              "CH4/Milk, g/kg                   0\n",
              "dtype: int64"
            ]
          },
          "execution_count": 37,
          "metadata": {},
          "output_type": "execute_result"
        }
      ],
      "source": [
        "df[categorical_cols].isnull().sum()"
      ]
    },
    {
      "cell_type": "code",
      "execution_count": 38,
      "metadata": {},
      "outputs": [
        {
          "data": {
            "text/plain": [
              "Animal sex: 1 = Male; 2= Female    0\n",
              "DMI, kg/d                          0\n",
              "DMI SED                            0\n",
              "DMI SD                             0\n",
              "Diet GE, Mcal/kg DM                0\n",
              "Diet CP, %DM                       0\n",
              "Diet EE, %DM                       0\n",
              "Diet Ash, %DM                      0\n",
              "Diet NDF, %DM                      0\n",
              "Diet ADF, %DM                      0\n",
              "Diet Lignin, %DM                   0\n",
              "Rumen pH                           0\n",
              "Rumen Ammonia, mM                  0\n",
              "Rumen VFA SED                      0\n",
              "Rumen Acetate, mol/100 mol         0\n",
              "Rumen Propionate, mol/100 mol      0\n",
              "Rumen Butyrate, mol/100 mol        0\n",
              "TTOM dig, %                        0\n",
              "TTGE dig, %                        0\n",
              "CH4, g/d                           0\n",
              "CH4/DMI, g/kg                      0\n",
              "CH4, %GEI                          0\n",
              "CH4, %GEI SEM                      0\n",
              "dtype: int64"
            ]
          },
          "execution_count": 38,
          "metadata": {},
          "output_type": "execute_result"
        }
      ],
      "source": [
        "df[numerical_cols].isnull().sum()"
      ]
    },
    {
      "cell_type": "code",
      "execution_count": 39,
      "metadata": {},
      "outputs": [],
      "source": [
        "\n",
        "df=df.dropna()"
      ]
    },
    {
      "cell_type": "code",
      "execution_count": 40,
      "metadata": {},
      "outputs": [
        {
          "data": {
            "text/plain": [
              "(797, 34)"
            ]
          },
          "execution_count": 40,
          "metadata": {},
          "output_type": "execute_result"
        }
      ],
      "source": [
        "df.shape"
      ]
    },
    {
      "cell_type": "code",
      "execution_count": 41,
      "metadata": {},
      "outputs": [
        {
          "data": {
            "text/plain": [
              "Index(['Study Location', 'Animal sex: 1 = Male; 2= Female',\n",
              "       'Animal Age (months)', 'Animal BW, kg', 'Methane Measurement Method',\n",
              "       'DIM', 'ADG, kg/d ', 'Supplemental Feed Ingredients', 'DMI, kg/d',\n",
              "       'DMI SEM', 'DMI SED', 'DMI SD', 'Diet GE, Mcal/kg DM', 'Diet CP, %DM',\n",
              "       'Diet EE, %DM', 'Diet Ash, %DM', 'Diet NDF, %DM', 'Diet ADF, %DM',\n",
              "       'Diet Lignin, %DM', 'Diet Starch, %DM', 'Rumen pH', 'Rumen Ammonia, mM',\n",
              "       'Rumen VFA SED', 'Rumen Acetate, mol/100 mol',\n",
              "       'Rumen Propionate, mol/100 mol', 'Rumen Butyrate, mol/100 mol',\n",
              "       'TTOM dig, % ', 'TTGE dig, %', 'CH4, g/d ', 'CH4 SEM', 'CH4/DMI, g/kg',\n",
              "       'CH4, %GEI', 'CH4, %GEI SEM', 'CH4/Milk, g/kg'],\n",
              "      dtype='object')"
            ]
          },
          "execution_count": 41,
          "metadata": {},
          "output_type": "execute_result"
        }
      ],
      "source": [
        "df.columns"
      ]
    },
    {
      "cell_type": "code",
      "execution_count": 42,
      "metadata": {},
      "outputs": [],
      "source": [
        "for col in numerical_cols:\n",
        "    df[col] = pd.to_numeric(df[col], errors='coerce')"
      ]
    },
    {
      "cell_type": "code",
      "execution_count": 44,
      "metadata": {
        "colab": {
          "base_uri": "https://localhost:8080/"
        },
        "id": "0aMCkd9d-TN4",
        "outputId": "02954de5-d3ee-482d-c272-4db8901ad3fa"
      },
      "outputs": [
        {
          "name": "stdout",
          "output_type": "stream",
          "text": [
            "Indices of outliers based on IQR:\n",
            "Index([  0,   1,   2,   3,   4,   5,   6,   7,   8,   9,\n",
            "       ...\n",
            "       785, 786, 787, 788, 789, 790, 791, 792, 793, 794],\n",
            "      dtype='int64', length=747)\n"
          ]
        }
      ],
      "source": [
        "# Calculate Q1 (25th percentile) and Q3 (75th percentile)\n",
        "# Select only numerical columns for quantile calculation\n",
        "numerical_df = df.select_dtypes(include=['number'])\n",
        "Q1 = numerical_df.quantile(0.25)\n",
        "Q3 = numerical_df.quantile(0.75)\n",
        "\n",
        "# Calculate IQR\n",
        "IQR = Q3 - Q1\n",
        "\n",
        "# Identify outliers only in numerical columns\n",
        "outliers_iqr = ((numerical_df < (Q1 - 1.5 * IQR)) | (numerical_df > (Q3 + 1.5 * IQR)))\n",
        "\n",
        "# Get outlier indices from the original DataFrame\n",
        "outlier_indices_iqr = df.index[outliers_iqr.any(axis=1)]\n",
        "print(f\"Indices of outliers based on IQR:\\n{outlier_indices_iqr}\")\n",
        "\n",
        "\n",
        "\n"
      ]
    },
    {
      "cell_type": "code",
      "execution_count": 45,
      "metadata": {
        "colab": {
          "base_uri": "https://localhost:8080/"
        },
        "id": "t8wQlv9l_mz1",
        "outputId": "a7e849bc-27a1-4782-c33d-841eb207d8cb"
      },
      "outputs": [
        {
          "data": {
            "text/plain": [
              "(797, 34)"
            ]
          },
          "execution_count": 45,
          "metadata": {},
          "output_type": "execute_result"
        }
      ],
      "source": [
        "df.shape"
      ]
    },
    {
      "cell_type": "code",
      "execution_count": 50,
      "metadata": {
        "colab": {
          "base_uri": "https://localhost:8080/",
          "height": 1000
        },
        "id": "eDzAZSrj_xNV",
        "outputId": "b95fa8ab-0c49-451a-d782-070e11166b75"
      },
      "outputs": [
        {
          "data": {
            "text/plain": [
              "Rumen Cannulation Status           0\n",
              "Animal sex: 1 = Male; 2= Female    0\n",
              "Animal Age (months)                0\n",
              "Animal BW, kg                      0\n",
              "Methane Measurement Method         0\n",
              "DIM                                0\n",
              "ADG, kg/d                          0\n",
              "Supplemental Feed Ingredients      0\n",
              "DMI, kg/d                          0\n",
              "DMI SEM                            0\n",
              "DMI SED                            0\n",
              "DMI SD                             0\n",
              "Diet GE, Mcal/kg DM                0\n",
              "Diet CP, %DM                       0\n",
              "Diet EE, %DM                       0\n",
              "Diet Ash, %DM                      0\n",
              "Diet NDF, %DM                      0\n",
              "Diet ADF, %DM                      0\n",
              "Diet Lignin, %DM                   0\n",
              "Diet Starch, %DM                   0\n",
              "Rumen pH                           0\n",
              "Rumen Ammonia, mM                  0\n",
              "Rumen VFA SED                      0\n",
              "Rumen Acetate, mol/100 mol         0\n",
              "Rumen Propionate, mol/100 mol      0\n",
              "Rumen Butyrate, mol/100 mol        0\n",
              "TTOM dig, %                        0\n",
              "TTGE dig, %                        0\n",
              "CH4, g/d                           0\n",
              "CH4 SEM                            0\n",
              "CH4/DMI, g/kg                      0\n",
              "CH4, %GEI                          0\n",
              "CH4, %GEI SEM                      0\n",
              "CH4/Milk, g/kg                     0\n",
              "dtype: int64"
            ]
          },
          "execution_count": 50,
          "metadata": {},
          "output_type": "execute_result"
        }
      ],
      "source": [
        "df.isna().sum()"
      ]
    },
    {
      "cell_type": "code",
      "execution_count": 47,
      "metadata": {
        "colab": {
          "base_uri": "https://localhost:8080/",
          "height": 603
        },
        "id": "3NDQDyuP_0La",
        "outputId": "845ccbf0-754d-4d22-85e1-3be0ae8b07d8"
      },
      "outputs": [
        {
          "data": {
            "text/html": [
              "<div>\n",
              "<style scoped>\n",
              "    .dataframe tbody tr th:only-of-type {\n",
              "        vertical-align: middle;\n",
              "    }\n",
              "\n",
              "    .dataframe tbody tr th {\n",
              "        vertical-align: top;\n",
              "    }\n",
              "\n",
              "    .dataframe thead th {\n",
              "        text-align: right;\n",
              "    }\n",
              "</style>\n",
              "<table border=\"1\" class=\"dataframe\">\n",
              "  <thead>\n",
              "    <tr style=\"text-align: right;\">\n",
              "      <th></th>\n",
              "      <th>Animal ID</th>\n",
              "      <th>Study Location</th>\n",
              "      <th>Animal sex: 1 = Male; 2= Female</th>\n",
              "      <th>Animal Age (months)</th>\n",
              "      <th>Animal BW, kg</th>\n",
              "      <th>Methane Measurement Method</th>\n",
              "      <th>DIM</th>\n",
              "      <th>ADG, kg/d</th>\n",
              "      <th>Supplemental Feed Ingredients</th>\n",
              "      <th>DMI, kg/d</th>\n",
              "      <th>...</th>\n",
              "      <th>Rumen Propionate, mol/100 mol</th>\n",
              "      <th>Rumen Butyrate, mol/100 mol</th>\n",
              "      <th>TTOM dig, %</th>\n",
              "      <th>TTGE dig, %</th>\n",
              "      <th>CH4, g/d</th>\n",
              "      <th>CH4 SEM</th>\n",
              "      <th>CH4/DMI, g/kg</th>\n",
              "      <th>CH4, %GEI</th>\n",
              "      <th>CH4, %GEI SEM</th>\n",
              "      <th>CH4/Milk, g/kg</th>\n",
              "    </tr>\n",
              "  </thead>\n",
              "  <tbody>\n",
              "    <tr>\n",
              "      <th>0</th>\n",
              "      <td>001</td>\n",
              "      <td>United States</td>\n",
              "      <td>2</td>\n",
              "      <td></td>\n",
              "      <td>672</td>\n",
              "      <td>Sulfur Hexafluoride (SF6) tracer technique</td>\n",
              "      <td>95</td>\n",
              "      <td></td>\n",
              "      <td>Corn, Canola, Whole Soybeans, Cookie, Cottonse...</td>\n",
              "      <td>26.9</td>\n",
              "      <td>...</td>\n",
              "      <td>24.47</td>\n",
              "      <td>11.05</td>\n",
              "      <td>66.5</td>\n",
              "      <td>69.519632</td>\n",
              "      <td>300.0</td>\n",
              "      <td>33.12</td>\n",
              "      <td>20.113528</td>\n",
              "      <td>6.069369</td>\n",
              "      <td>0.302333</td>\n",
              "      <td></td>\n",
              "    </tr>\n",
              "    <tr>\n",
              "      <th>1</th>\n",
              "      <td>002</td>\n",
              "      <td>United States</td>\n",
              "      <td>2</td>\n",
              "      <td></td>\n",
              "      <td>665</td>\n",
              "      <td>Sulfur Hexafluoride (SF6) tracer technique</td>\n",
              "      <td>95</td>\n",
              "      <td></td>\n",
              "      <td>Corn, Canola, Whole Soybeans, Cookie, Cottonse...</td>\n",
              "      <td>20.0</td>\n",
              "      <td>...</td>\n",
              "      <td>25.91</td>\n",
              "      <td>11.95</td>\n",
              "      <td>68.6</td>\n",
              "      <td>69.519632</td>\n",
              "      <td>290.4</td>\n",
              "      <td>33.12</td>\n",
              "      <td>20.113528</td>\n",
              "      <td>6.069369</td>\n",
              "      <td>0.302333</td>\n",
              "      <td></td>\n",
              "    </tr>\n",
              "    <tr>\n",
              "      <th>2</th>\n",
              "      <td>003</td>\n",
              "      <td>United States</td>\n",
              "      <td>2</td>\n",
              "      <td></td>\n",
              "      <td>661</td>\n",
              "      <td>Sulfur Hexafluoride (SF6) tracer technique</td>\n",
              "      <td>95</td>\n",
              "      <td></td>\n",
              "      <td>Corn, Canola, Whole Soybeans, Cookie, Cottonse...</td>\n",
              "      <td>25.7</td>\n",
              "      <td>...</td>\n",
              "      <td>24.98</td>\n",
              "      <td>11.75</td>\n",
              "      <td>68.4</td>\n",
              "      <td>69.519632</td>\n",
              "      <td>312.0</td>\n",
              "      <td>33.12</td>\n",
              "      <td>20.113528</td>\n",
              "      <td>6.069369</td>\n",
              "      <td>0.302333</td>\n",
              "      <td></td>\n",
              "    </tr>\n",
              "    <tr>\n",
              "      <th>3</th>\n",
              "      <td>004</td>\n",
              "      <td>United States</td>\n",
              "      <td>2</td>\n",
              "      <td>49</td>\n",
              "      <td>640</td>\n",
              "      <td>Sulfur Hexafluoride (SF6) tracer technique</td>\n",
              "      <td>80</td>\n",
              "      <td></td>\n",
              "      <td>corn ground/canola meal/Bakery/Cottonseed Hull...</td>\n",
              "      <td>26.7</td>\n",
              "      <td>...</td>\n",
              "      <td>23.07</td>\n",
              "      <td>10.74</td>\n",
              "      <td>64.0</td>\n",
              "      <td>69.519632</td>\n",
              "      <td>748.8</td>\n",
              "      <td>197.04</td>\n",
              "      <td>20.113528</td>\n",
              "      <td>6.069369</td>\n",
              "      <td>0.302333</td>\n",
              "      <td></td>\n",
              "    </tr>\n",
              "    <tr>\n",
              "      <th>4</th>\n",
              "      <td>005</td>\n",
              "      <td>United States</td>\n",
              "      <td>2</td>\n",
              "      <td>49</td>\n",
              "      <td>640</td>\n",
              "      <td>Sulfur Hexafluoride (SF6) tracer technique</td>\n",
              "      <td>80</td>\n",
              "      <td></td>\n",
              "      <td>corn ground/canola meal/Bakery/Cottonseed Hull...</td>\n",
              "      <td>26.0</td>\n",
              "      <td>...</td>\n",
              "      <td>22.03</td>\n",
              "      <td>11.25</td>\n",
              "      <td>64.0</td>\n",
              "      <td>69.519632</td>\n",
              "      <td>451.2</td>\n",
              "      <td>197.04</td>\n",
              "      <td>20.113528</td>\n",
              "      <td>6.069369</td>\n",
              "      <td>0.302333</td>\n",
              "      <td></td>\n",
              "    </tr>\n",
              "  </tbody>\n",
              "</table>\n",
              "<p>5 rows × 35 columns</p>\n",
              "</div>"
            ],
            "text/plain": [
              "  Animal ID Study Location  Animal sex: 1 = Male; 2= Female  \\\n",
              "0       001  United States                                2   \n",
              "1       002  United States                                2   \n",
              "2       003  United States                                2   \n",
              "3       004  United States                                2   \n",
              "4       005  United States                                2   \n",
              "\n",
              "  Animal Age (months) Animal BW, kg  \\\n",
              "0                               672   \n",
              "1                               665   \n",
              "2                               661   \n",
              "3                  49           640   \n",
              "4                  49           640   \n",
              "\n",
              "                   Methane Measurement Method DIM ADG, kg/d   \\\n",
              "0  Sulfur Hexafluoride (SF6) tracer technique  95              \n",
              "1  Sulfur Hexafluoride (SF6) tracer technique  95              \n",
              "2  Sulfur Hexafluoride (SF6) tracer technique  95              \n",
              "3  Sulfur Hexafluoride (SF6) tracer technique  80              \n",
              "4  Sulfur Hexafluoride (SF6) tracer technique  80              \n",
              "\n",
              "                       Supplemental Feed Ingredients  DMI, kg/d  ...  \\\n",
              "0  Corn, Canola, Whole Soybeans, Cookie, Cottonse...       26.9  ...   \n",
              "1  Corn, Canola, Whole Soybeans, Cookie, Cottonse...       20.0  ...   \n",
              "2  Corn, Canola, Whole Soybeans, Cookie, Cottonse...       25.7  ...   \n",
              "3  corn ground/canola meal/Bakery/Cottonseed Hull...       26.7  ...   \n",
              "4  corn ground/canola meal/Bakery/Cottonseed Hull...       26.0  ...   \n",
              "\n",
              "  Rumen Propionate, mol/100 mol  Rumen Butyrate, mol/100 mol  TTOM dig, %   \\\n",
              "0                         24.47                        11.05          66.5   \n",
              "1                         25.91                        11.95          68.6   \n",
              "2                         24.98                        11.75          68.4   \n",
              "3                         23.07                        10.74          64.0   \n",
              "4                         22.03                        11.25          64.0   \n",
              "\n",
              "   TTGE dig, %  CH4, g/d   CH4 SEM  CH4/DMI, g/kg  CH4, %GEI  CH4, %GEI SEM  \\\n",
              "0    69.519632      300.0    33.12      20.113528   6.069369       0.302333   \n",
              "1    69.519632      290.4    33.12      20.113528   6.069369       0.302333   \n",
              "2    69.519632      312.0    33.12      20.113528   6.069369       0.302333   \n",
              "3    69.519632      748.8   197.04      20.113528   6.069369       0.302333   \n",
              "4    69.519632      451.2   197.04      20.113528   6.069369       0.302333   \n",
              "\n",
              "   CH4/Milk, g/kg  \n",
              "0                  \n",
              "1                  \n",
              "2                  \n",
              "3                  \n",
              "4                  \n",
              "\n",
              "[5 rows x 35 columns]"
            ]
          },
          "execution_count": 47,
          "metadata": {},
          "output_type": "execute_result"
        }
      ],
      "source": [
        "num_rows = len(df)\n",
        "df['Animal ID'] = [f\"{i:03d}\" for i in range(1, num_rows + 1)]\n",
        "\n",
        "# Step 2: Reorder the DataFrame to have 'Animal ID' as the first column\n",
        "df = df[['Animal ID'] + [col for col in df.columns if col != 'Animal ID']]\n",
        "\n",
        "# Display the updated DataFrame\n",
        "df.head()"
      ]
    },
    {
      "cell_type": "code",
      "execution_count": 48,
      "metadata": {
        "colab": {
          "base_uri": "https://localhost:8080/"
        },
        "id": "q-wesa9bIX5h",
        "outputId": "d6cca744-cd06-42a2-9ecc-13d2270272f4"
      },
      "outputs": [
        {
          "name": "stdout",
          "output_type": "stream",
          "text": [
            "                               DMI, kg/d       DMI SED        DMI SD  \\\n",
            "DMI, kg/d                       1.000000  9.232221e-02  6.289774e-02   \n",
            "DMI SED                         0.092322  1.000000e+00  4.358354e-16   \n",
            "DMI SD                          0.062898  4.358354e-16  1.000000e+00   \n",
            "Diet GE, Mcal/kg DM            -0.044053  2.857235e-02 -1.174336e-02   \n",
            "Diet CP, %DM                    0.113604  6.795070e-02 -1.569720e-02   \n",
            "Diet EE, %DM                   -0.000531  1.625750e-02 -7.166107e-03   \n",
            "Diet Ash, %DM                  -0.107878 -2.097972e-02 -6.610620e-04   \n",
            "Diet NDF, %DM                  -0.482916 -2.889597e-02 -4.478368e-02   \n",
            "Diet ADF, %DM                  -0.300414 -1.325780e-01 -8.767189e-02   \n",
            "Diet Lignin, %DM               -0.169238  1.944577e-02 -7.505142e-02   \n",
            "Rumen pH                       -0.214561 -1.062422e-01  7.601126e-02   \n",
            "Rumen Ammonia, mM              -0.145515  6.821650e-02 -2.649484e-02   \n",
            "Rumen VFA SED                   0.089267  9.784760e-02  6.179952e-17   \n",
            "Rumen Acetate, mol/100 mol     -0.109081 -1.998056e-02 -1.294231e-01   \n",
            "Rumen Propionate, mol/100 mol   0.140348  2.931864e-02  4.594588e-02   \n",
            "Rumen Butyrate, mol/100 mol    -0.037628  7.233655e-02  1.105969e-01   \n",
            "TTOM dig, %                    -0.024474  3.198301e-02  1.174235e-02   \n",
            "TTGE dig, %                    -0.011442  1.775680e-02 -6.483935e-16   \n",
            "CH4, g/d                        0.667640  7.996519e-02  1.360099e-03   \n",
            "CH4/DMI, g/kg                  -0.282140 -1.469278e-02 -3.380255e-02   \n",
            "CH4, %GEI                      -0.141436 -2.957149e-02 -2.464923e-02   \n",
            "CH4, %GEI SEM                  -0.025044  4.294288e-03  2.156558e-04   \n",
            "\n",
            "                               Diet GE, Mcal/kg DM  Diet CP, %DM  \\\n",
            "DMI, kg/d                                -0.044053      0.113604   \n",
            "DMI SED                                   0.028572      0.067951   \n",
            "DMI SD                                   -0.011743     -0.015697   \n",
            "Diet GE, Mcal/kg DM                       1.000000      0.069235   \n",
            "Diet CP, %DM                              0.069235      1.000000   \n",
            "Diet EE, %DM                              0.339025      0.139200   \n",
            "Diet Ash, %DM                            -0.218301      0.121121   \n",
            "Diet NDF, %DM                             0.017530     -0.200907   \n",
            "Diet ADF, %DM                            -0.000076     -0.060629   \n",
            "Diet Lignin, %DM                          0.142424      0.024404   \n",
            "Rumen pH                                  0.013306     -0.056722   \n",
            "Rumen Ammonia, mM                        -0.082161      0.082256   \n",
            "Rumen VFA SED                            -0.009012      0.083200   \n",
            "Rumen Acetate, mol/100 mol               -0.078256     -0.042673   \n",
            "Rumen Propionate, mol/100 mol             0.072360      0.000482   \n",
            "Rumen Butyrate, mol/100 mol              -0.019117      0.043352   \n",
            "TTOM dig, %                              -0.047370      0.235308   \n",
            "TTGE dig, %                              -0.021315      0.091776   \n",
            "CH4, g/d                                 -0.015569      0.133775   \n",
            "CH4/DMI, g/kg                             0.029992     -0.056501   \n",
            "CH4, %GEI                                -0.105026      0.014065   \n",
            "CH4, %GEI SEM                            -0.066044     -0.051022   \n",
            "\n",
            "                               Diet EE, %DM  Diet Ash, %DM  Diet NDF, %DM  \\\n",
            "DMI, kg/d                         -0.000531      -0.107878      -0.482916   \n",
            "DMI SED                            0.016257      -0.020980      -0.028896   \n",
            "DMI SD                            -0.007166      -0.000661      -0.044784   \n",
            "Diet GE, Mcal/kg DM                0.339025      -0.218301       0.017530   \n",
            "Diet CP, %DM                       0.139200       0.121121      -0.200907   \n",
            "Diet EE, %DM                       1.000000      -0.103799      -0.089960   \n",
            "Diet Ash, %DM                     -0.103799       1.000000       0.314523   \n",
            "Diet NDF, %DM                     -0.089960       0.314523       1.000000   \n",
            "Diet ADF, %DM                     -0.052176       0.311797       0.550414   \n",
            "Diet Lignin, %DM                   0.084384       0.129326       0.170732   \n",
            "Rumen pH                          -0.032878       0.015527       0.209320   \n",
            "Rumen Ammonia, mM                 -0.005499      -0.104189       0.070885   \n",
            "Rumen VFA SED                      0.008773      -0.037032      -0.103766   \n",
            "Rumen Acetate, mol/100 mol        -0.043411       0.082779       0.173645   \n",
            "Rumen Propionate, mol/100 mol      0.093875      -0.075630      -0.173177   \n",
            "Rumen Butyrate, mol/100 mol       -0.084023      -0.076321      -0.037742   \n",
            "TTOM dig, %                        0.057744       0.020337      -0.174801   \n",
            "TTGE dig, %                        0.249864      -0.005287      -0.146065   \n",
            "CH4, g/d                          -0.056474      -0.071751      -0.292879   \n",
            "CH4/DMI, g/kg                     -0.099620       0.038102       0.213734   \n",
            "CH4, %GEI                         -0.087274       0.083304       0.199401   \n",
            "CH4, %GEI SEM                     -0.075302       0.023308      -0.001395   \n",
            "\n",
            "                               Diet ADF, %DM  Diet Lignin, %DM  ...  \\\n",
            "DMI, kg/d                          -0.300414         -0.169238  ...   \n",
            "DMI SED                            -0.132578          0.019446  ...   \n",
            "DMI SD                             -0.087672         -0.075051  ...   \n",
            "Diet GE, Mcal/kg DM                -0.000076          0.142424  ...   \n",
            "Diet CP, %DM                       -0.060629          0.024404  ...   \n",
            "Diet EE, %DM                       -0.052176          0.084384  ...   \n",
            "Diet Ash, %DM                       0.311797          0.129326  ...   \n",
            "Diet NDF, %DM                       0.550414          0.170732  ...   \n",
            "Diet ADF, %DM                       1.000000          0.362848  ...   \n",
            "Diet Lignin, %DM                    0.362848          1.000000  ...   \n",
            "Rumen pH                            0.100241         -0.060711  ...   \n",
            "Rumen Ammonia, mM                   0.003929          0.038439  ...   \n",
            "Rumen VFA SED                      -0.083326          0.041768  ...   \n",
            "Rumen Acetate, mol/100 mol          0.098672          0.009292  ...   \n",
            "Rumen Propionate, mol/100 mol      -0.088676          0.011808  ...   \n",
            "Rumen Butyrate, mol/100 mol        -0.036850         -0.058756  ...   \n",
            "TTOM dig, %                        -0.027787         -0.184022  ...   \n",
            "TTGE dig, %                         0.046560         -0.222858  ...   \n",
            "CH4, g/d                           -0.190499         -0.178448  ...   \n",
            "CH4/DMI, g/kg                       0.127497         -0.019213  ...   \n",
            "CH4, %GEI                           0.165077         -0.045663  ...   \n",
            "CH4, %GEI SEM                      -0.028940         -0.166609  ...   \n",
            "\n",
            "                               Rumen VFA SED  Rumen Acetate, mol/100 mol  \\\n",
            "DMI, kg/d                       8.926747e-02                   -0.109081   \n",
            "DMI SED                         9.784760e-02                   -0.019981   \n",
            "DMI SD                          6.179952e-17                   -0.129423   \n",
            "Diet GE, Mcal/kg DM            -9.011733e-03                   -0.078256   \n",
            "Diet CP, %DM                    8.319971e-02                   -0.042673   \n",
            "Diet EE, %DM                    8.773128e-03                   -0.043411   \n",
            "Diet Ash, %DM                  -3.703202e-02                    0.082779   \n",
            "Diet NDF, %DM                  -1.037658e-01                    0.173645   \n",
            "Diet ADF, %DM                  -8.332624e-02                    0.098672   \n",
            "Diet Lignin, %DM                4.176806e-02                    0.009292   \n",
            "Rumen pH                       -2.446966e-01                    0.337095   \n",
            "Rumen Ammonia, mM              -1.748909e-02                    0.162992   \n",
            "Rumen VFA SED                   1.000000e+00                   -0.247954   \n",
            "Rumen Acetate, mol/100 mol     -2.479539e-01                    1.000000   \n",
            "Rumen Propionate, mol/100 mol   2.205953e-01                   -0.779761   \n",
            "Rumen Butyrate, mol/100 mol    -2.856731e-02                   -0.476538   \n",
            "TTOM dig, %                     4.263896e-02                    0.049748   \n",
            "TTGE dig, %                     1.730437e-02                    0.022754   \n",
            "CH4, g/d                        4.096944e-02                    0.102649   \n",
            "CH4/DMI, g/kg                  -7.578406e-02                    0.205901   \n",
            "CH4, %GEI                      -2.447332e-02                    0.165954   \n",
            "CH4, %GEI SEM                  -4.732000e-03                    0.014248   \n",
            "\n",
            "                               Rumen Propionate, mol/100 mol  \\\n",
            "DMI, kg/d                                           0.140348   \n",
            "DMI SED                                             0.029319   \n",
            "DMI SD                                              0.045946   \n",
            "Diet GE, Mcal/kg DM                                 0.072360   \n",
            "Diet CP, %DM                                        0.000482   \n",
            "Diet EE, %DM                                        0.093875   \n",
            "Diet Ash, %DM                                      -0.075630   \n",
            "Diet NDF, %DM                                      -0.173177   \n",
            "Diet ADF, %DM                                      -0.088676   \n",
            "Diet Lignin, %DM                                    0.011808   \n",
            "Rumen pH                                           -0.392008   \n",
            "Rumen Ammonia, mM                                  -0.184497   \n",
            "Rumen VFA SED                                       0.220595   \n",
            "Rumen Acetate, mol/100 mol                         -0.779761   \n",
            "Rumen Propionate, mol/100 mol                       1.000000   \n",
            "Rumen Butyrate, mol/100 mol                        -0.020413   \n",
            "TTOM dig, %                                        -0.109091   \n",
            "TTGE dig, %                                        -0.051074   \n",
            "CH4, g/d                                           -0.142487   \n",
            "CH4/DMI, g/kg                                      -0.299992   \n",
            "CH4, %GEI                                          -0.259105   \n",
            "CH4, %GEI SEM                                      -0.017354   \n",
            "\n",
            "                               Rumen Butyrate, mol/100 mol  TTOM dig, %   \\\n",
            "DMI, kg/d                                        -0.037628     -0.024474   \n",
            "DMI SED                                           0.072337      0.031983   \n",
            "DMI SD                                            0.110597      0.011742   \n",
            "Diet GE, Mcal/kg DM                              -0.019117     -0.047370   \n",
            "Diet CP, %DM                                      0.043352      0.235308   \n",
            "Diet EE, %DM                                     -0.084023      0.057744   \n",
            "Diet Ash, %DM                                    -0.076321      0.020337   \n",
            "Diet NDF, %DM                                    -0.037742     -0.174801   \n",
            "Diet ADF, %DM                                    -0.036850     -0.027787   \n",
            "Diet Lignin, %DM                                 -0.058756     -0.184022   \n",
            "Rumen pH                                          0.056391      0.046798   \n",
            "Rumen Ammonia, mM                                 0.006975      0.066841   \n",
            "Rumen VFA SED                                    -0.028567      0.042639   \n",
            "Rumen Acetate, mol/100 mol                       -0.476538      0.049748   \n",
            "Rumen Propionate, mol/100 mol                    -0.020413     -0.109091   \n",
            "Rumen Butyrate, mol/100 mol                       1.000000      0.146617   \n",
            "TTOM dig, %                                       0.146617      1.000000   \n",
            "TTGE dig, %                                       0.032734      0.501202   \n",
            "CH4, g/d                                          0.023815      0.098675   \n",
            "CH4/DMI, g/kg                                     0.080853      0.096238   \n",
            "CH4, %GEI                                         0.116390      0.157462   \n",
            "CH4, %GEI SEM                                    -0.056881     -0.061559   \n",
            "\n",
            "                                TTGE dig, %  CH4, g/d   CH4/DMI, g/kg  \\\n",
            "DMI, kg/d                     -1.144195e-02   0.667640      -0.282140   \n",
            "DMI SED                        1.775680e-02   0.079965      -0.014693   \n",
            "DMI SD                        -6.483935e-16   0.001360      -0.033803   \n",
            "Diet GE, Mcal/kg DM           -2.131544e-02  -0.015569       0.029992   \n",
            "Diet CP, %DM                   9.177555e-02   0.133775      -0.056501   \n",
            "Diet EE, %DM                   2.498639e-01  -0.056474      -0.099620   \n",
            "Diet Ash, %DM                 -5.286555e-03  -0.071751       0.038102   \n",
            "Diet NDF, %DM                 -1.460654e-01  -0.292879       0.213734   \n",
            "Diet ADF, %DM                  4.655982e-02  -0.190499       0.127497   \n",
            "Diet Lignin, %DM              -2.228580e-01  -0.178448      -0.019213   \n",
            "Rumen pH                       5.236556e-02  -0.023378       0.200623   \n",
            "Rumen Ammonia, mM              4.854127e-02  -0.027464       0.093286   \n",
            "Rumen VFA SED                  1.730437e-02   0.040969      -0.075784   \n",
            "Rumen Acetate, mol/100 mol     2.275404e-02   0.102649       0.205901   \n",
            "Rumen Propionate, mol/100 mol -5.107403e-02  -0.142487      -0.299992   \n",
            "Rumen Butyrate, mol/100 mol    3.273361e-02   0.023815       0.080853   \n",
            "TTOM dig, %                    5.012020e-01   0.098675       0.096238   \n",
            "TTGE dig, %                    1.000000e+00   0.007688       0.048218   \n",
            "CH4, g/d                       7.687808e-03   1.000000       0.324629   \n",
            "CH4/DMI, g/kg                  4.821791e-02   0.324629       1.000000   \n",
            "CH4, %GEI                      5.250655e-02   0.245613       0.575787   \n",
            "CH4, %GEI SEM                 -3.640097e-02  -0.036591      -0.024803   \n",
            "\n",
            "                               CH4, %GEI  CH4, %GEI SEM  \n",
            "DMI, kg/d                      -0.141436      -0.025044  \n",
            "DMI SED                        -0.029571       0.004294  \n",
            "DMI SD                         -0.024649       0.000216  \n",
            "Diet GE, Mcal/kg DM            -0.105026      -0.066044  \n",
            "Diet CP, %DM                    0.014065      -0.051022  \n",
            "Diet EE, %DM                   -0.087274      -0.075302  \n",
            "Diet Ash, %DM                   0.083304       0.023308  \n",
            "Diet NDF, %DM                   0.199401      -0.001395  \n",
            "Diet ADF, %DM                   0.165077      -0.028940  \n",
            "Diet Lignin, %DM               -0.045663      -0.166609  \n",
            "Rumen pH                        0.099611      -0.022412  \n",
            "Rumen Ammonia, mM               0.001522      -0.162045  \n",
            "Rumen VFA SED                  -0.024473      -0.004732  \n",
            "Rumen Acetate, mol/100 mol      0.165954       0.014248  \n",
            "Rumen Propionate, mol/100 mol  -0.259105      -0.017354  \n",
            "Rumen Butyrate, mol/100 mol     0.116390      -0.056881  \n",
            "TTOM dig, %                     0.157462      -0.061559  \n",
            "TTGE dig, %                     0.052507      -0.036401  \n",
            "CH4, g/d                        0.245613      -0.036591  \n",
            "CH4/DMI, g/kg                   0.575787      -0.024803  \n",
            "CH4, %GEI                       1.000000       0.042901  \n",
            "CH4, %GEI SEM                   0.042901       1.000000  \n",
            "\n",
            "[22 rows x 22 columns]\n"
          ]
        }
      ],
      "source": [
        "numerical_df = df.select_dtypes(include=['float64'])\n",
        "\n",
        "# Calculate the correlation matrix\n",
        "correlation_matrix = numerical_df.corr()\n",
        "\n",
        "# Display the correlation matrix\n",
        "print(correlation_matrix)"
      ]
    },
    {
      "cell_type": "code",
      "execution_count": 49,
      "metadata": {
        "colab": {
          "base_uri": "https://localhost:8080/",
          "height": 838
        },
        "id": "IxsXcUeeIrhQ",
        "outputId": "8c64853e-6b9b-4b22-ad7f-1023ec6b4d74"
      },
      "outputs": [
        {
          "data": {
            "image/png": "[encoded data removed]",
            "text/plain": [
              "<Figure size 2800x1200 with 2 Axes>"
            ]
          },
          "metadata": {},
          "output_type": "display_data"
        }
      ],
      "source": [
        "import seaborn as sns\n",
        "import matplotlib.pyplot as plt\n",
        "\n",
        "# Select only float64 columns\n",
        "numerical_df = df.select_dtypes(include=['float64'])\n",
        "\n",
        "# Calculate the correlation matrix\n",
        "correlation_matrix = numerical_df.corr()\n",
        "\n",
        "# Set up the matplotlib figure\n",
        "plt.figure(figsize=(28, 12))\n",
        "\n",
        "# Create a heatmap\n",
        "sns.heatmap(correlation_matrix, annot=True, fmt=\".2f\", cmap='coolwarm', square=True)\n",
        "\n",
        "# Set title\n",
        "plt.title('Correlation Matrix')\n",
        "\n",
        "# Show the plot\n",
        "plt.show()\n"
      ]
    },
    {
      "cell_type": "code",
      "execution_count": 50,
      "metadata": {},
      "outputs": [
        {
          "data": {
            "text/plain": [
              "Index(['Animal ID', 'Study Location', 'Animal sex: 1 = Male; 2= Female',\n",
              "       'Animal Age (months)', 'Animal BW, kg', 'Methane Measurement Method',\n",
              "       'DIM', 'ADG, kg/d ', 'Supplemental Feed Ingredients', 'DMI, kg/d',\n",
              "       'DMI SEM', 'DMI SED', 'DMI SD', 'Diet GE, Mcal/kg DM', 'Diet CP, %DM',\n",
              "       'Diet EE, %DM', 'Diet Ash, %DM', 'Diet NDF, %DM', 'Diet ADF, %DM',\n",
              "       'Diet Lignin, %DM', 'Diet Starch, %DM', 'Rumen pH', 'Rumen Ammonia, mM',\n",
              "       'Rumen VFA SED', 'Rumen Acetate, mol/100 mol',\n",
              "       'Rumen Propionate, mol/100 mol', 'Rumen Butyrate, mol/100 mol',\n",
              "       'TTOM dig, % ', 'TTGE dig, %', 'CH4, g/d ', 'CH4 SEM', 'CH4/DMI, g/kg',\n",
              "       'CH4, %GEI', 'CH4, %GEI SEM', 'CH4/Milk, g/kg'],\n",
              "      dtype='object')"
            ]
          },
          "execution_count": 50,
          "metadata": {},
          "output_type": "execute_result"
        }
      ],
      "source": [
        "df.columns"
      ]
    },
    {
      "cell_type": "code",
      "execution_count": 51,
      "metadata": {
        "colab": {
          "base_uri": "https://localhost:8080/"
        },
        "id": "idDMSMGfJsI8",
        "outputId": "fa03947d-f14a-45a3-deb3-e352750f28b0"
      },
      "outputs": [
        {
          "name": "stdout",
          "output_type": "stream",
          "text": [
            "Dataset saved successfully!\n"
          ]
        }
      ],
      "source": [
        "df.to_csv('DairyMethane cleaned Dataset.csv', index=False)\n",
        "\n",
        "print(\"Dataset saved successfully!\")"
      ]
    },
    {
      "cell_type": "markdown",
      "metadata": {
        "id": "mu7J58SbKfnf"
      },
      "source": [
        "**## STEP 4: LOADING THE CLEANED DATASET**"
      ]
    },
    {
      "cell_type": "code",
      "execution_count": 52,
      "metadata": {
        "colab": {
          "base_uri": "https://localhost:8080/",
          "height": 603
        },
        "id": "S1tZW0tFKqg_",
        "outputId": "12144e80-70dd-4eb8-a030-42fafbd78500"
      },
      "outputs": [
        {
          "data": {
            "text/html": [
              "<div>\n",
              "<style scoped>\n",
              "    .dataframe tbody tr th:only-of-type {\n",
              "        vertical-align: middle;\n",
              "    }\n",
              "\n",
              "    .dataframe tbody tr th {\n",
              "        vertical-align: top;\n",
              "    }\n",
              "\n",
              "    .dataframe thead th {\n",
              "        text-align: right;\n",
              "    }\n",
              "</style>\n",
              "<table border=\"1\" class=\"dataframe\">\n",
              "  <thead>\n",
              "    <tr style=\"text-align: right;\">\n",
              "      <th></th>\n",
              "      <th>Animal ID</th>\n",
              "      <th>Study Location</th>\n",
              "      <th>Animal sex: 1 = Male; 2= Female</th>\n",
              "      <th>Animal Age (months)</th>\n",
              "      <th>Animal BW, kg</th>\n",
              "      <th>Methane Measurement Method</th>\n",
              "      <th>DIM</th>\n",
              "      <th>ADG, kg/d</th>\n",
              "      <th>Supplemental Feed Ingredients</th>\n",
              "      <th>DMI, kg/d</th>\n",
              "      <th>...</th>\n",
              "      <th>Rumen Propionate, mol/100 mol</th>\n",
              "      <th>Rumen Butyrate, mol/100 mol</th>\n",
              "      <th>TTOM dig, %</th>\n",
              "      <th>TTGE dig, %</th>\n",
              "      <th>CH4, g/d</th>\n",
              "      <th>CH4 SEM</th>\n",
              "      <th>CH4/DMI, g/kg</th>\n",
              "      <th>CH4, %GEI</th>\n",
              "      <th>CH4, %GEI SEM</th>\n",
              "      <th>CH4/Milk, g/kg</th>\n",
              "    </tr>\n",
              "  </thead>\n",
              "  <tbody>\n",
              "    <tr>\n",
              "      <th>0</th>\n",
              "      <td>1</td>\n",
              "      <td>United States</td>\n",
              "      <td>2</td>\n",
              "      <td></td>\n",
              "      <td>672</td>\n",
              "      <td>Sulfur Hexafluoride (SF6) tracer technique</td>\n",
              "      <td>95</td>\n",
              "      <td></td>\n",
              "      <td>Corn, Canola, Whole Soybeans, Cookie, Cottonse...</td>\n",
              "      <td>26.9</td>\n",
              "      <td>...</td>\n",
              "      <td>24.47</td>\n",
              "      <td>11.05</td>\n",
              "      <td>66.5</td>\n",
              "      <td>69.519632</td>\n",
              "      <td>300.0</td>\n",
              "      <td>33.12</td>\n",
              "      <td>20.113528</td>\n",
              "      <td>6.069369</td>\n",
              "      <td>0.302333</td>\n",
              "      <td></td>\n",
              "    </tr>\n",
              "    <tr>\n",
              "      <th>1</th>\n",
              "      <td>2</td>\n",
              "      <td>United States</td>\n",
              "      <td>2</td>\n",
              "      <td></td>\n",
              "      <td>665</td>\n",
              "      <td>Sulfur Hexafluoride (SF6) tracer technique</td>\n",
              "      <td>95</td>\n",
              "      <td></td>\n",
              "      <td>Corn, Canola, Whole Soybeans, Cookie, Cottonse...</td>\n",
              "      <td>20.0</td>\n",
              "      <td>...</td>\n",
              "      <td>25.91</td>\n",
              "      <td>11.95</td>\n",
              "      <td>68.6</td>\n",
              "      <td>69.519632</td>\n",
              "      <td>290.4</td>\n",
              "      <td>33.12</td>\n",
              "      <td>20.113528</td>\n",
              "      <td>6.069369</td>\n",
              "      <td>0.302333</td>\n",
              "      <td></td>\n",
              "    </tr>\n",
              "    <tr>\n",
              "      <th>2</th>\n",
              "      <td>3</td>\n",
              "      <td>United States</td>\n",
              "      <td>2</td>\n",
              "      <td></td>\n",
              "      <td>661</td>\n",
              "      <td>Sulfur Hexafluoride (SF6) tracer technique</td>\n",
              "      <td>95</td>\n",
              "      <td></td>\n",
              "      <td>Corn, Canola, Whole Soybeans, Cookie, Cottonse...</td>\n",
              "      <td>25.7</td>\n",
              "      <td>...</td>\n",
              "      <td>24.98</td>\n",
              "      <td>11.75</td>\n",
              "      <td>68.4</td>\n",
              "      <td>69.519632</td>\n",
              "      <td>312.0</td>\n",
              "      <td>33.12</td>\n",
              "      <td>20.113528</td>\n",
              "      <td>6.069369</td>\n",
              "      <td>0.302333</td>\n",
              "      <td></td>\n",
              "    </tr>\n",
              "    <tr>\n",
              "      <th>3</th>\n",
              "      <td>4</td>\n",
              "      <td>United States</td>\n",
              "      <td>2</td>\n",
              "      <td>49</td>\n",
              "      <td>640</td>\n",
              "      <td>Sulfur Hexafluoride (SF6) tracer technique</td>\n",
              "      <td>80</td>\n",
              "      <td></td>\n",
              "      <td>corn ground/canola meal/Bakery/Cottonseed Hull...</td>\n",
              "      <td>26.7</td>\n",
              "      <td>...</td>\n",
              "      <td>23.07</td>\n",
              "      <td>10.74</td>\n",
              "      <td>64.0</td>\n",
              "      <td>69.519632</td>\n",
              "      <td>748.8</td>\n",
              "      <td>197.04</td>\n",
              "      <td>20.113528</td>\n",
              "      <td>6.069369</td>\n",
              "      <td>0.302333</td>\n",
              "      <td></td>\n",
              "    </tr>\n",
              "    <tr>\n",
              "      <th>4</th>\n",
              "      <td>5</td>\n",
              "      <td>United States</td>\n",
              "      <td>2</td>\n",
              "      <td>49</td>\n",
              "      <td>640</td>\n",
              "      <td>Sulfur Hexafluoride (SF6) tracer technique</td>\n",
              "      <td>80</td>\n",
              "      <td></td>\n",
              "      <td>corn ground/canola meal/Bakery/Cottonseed Hull...</td>\n",
              "      <td>26.0</td>\n",
              "      <td>...</td>\n",
              "      <td>22.03</td>\n",
              "      <td>11.25</td>\n",
              "      <td>64.0</td>\n",
              "      <td>69.519632</td>\n",
              "      <td>451.2</td>\n",
              "      <td>197.04</td>\n",
              "      <td>20.113528</td>\n",
              "      <td>6.069369</td>\n",
              "      <td>0.302333</td>\n",
              "      <td></td>\n",
              "    </tr>\n",
              "  </tbody>\n",
              "</table>\n",
              "<p>5 rows × 35 columns</p>\n",
              "</div>"
            ],
            "text/plain": [
              "   Animal ID Study Location  Animal sex: 1 = Male; 2= Female  \\\n",
              "0          1  United States                                2   \n",
              "1          2  United States                                2   \n",
              "2          3  United States                                2   \n",
              "3          4  United States                                2   \n",
              "4          5  United States                                2   \n",
              "\n",
              "  Animal Age (months) Animal BW, kg  \\\n",
              "0                               672   \n",
              "1                               665   \n",
              "2                               661   \n",
              "3                  49           640   \n",
              "4                  49           640   \n",
              "\n",
              "                   Methane Measurement Method DIM ADG, kg/d   \\\n",
              "0  Sulfur Hexafluoride (SF6) tracer technique  95              \n",
              "1  Sulfur Hexafluoride (SF6) tracer technique  95              \n",
              "2  Sulfur Hexafluoride (SF6) tracer technique  95              \n",
              "3  Sulfur Hexafluoride (SF6) tracer technique  80              \n",
              "4  Sulfur Hexafluoride (SF6) tracer technique  80              \n",
              "\n",
              "                       Supplemental Feed Ingredients  DMI, kg/d  ...  \\\n",
              "0  Corn, Canola, Whole Soybeans, Cookie, Cottonse...       26.9  ...   \n",
              "1  Corn, Canola, Whole Soybeans, Cookie, Cottonse...       20.0  ...   \n",
              "2  Corn, Canola, Whole Soybeans, Cookie, Cottonse...       25.7  ...   \n",
              "3  corn ground/canola meal/Bakery/Cottonseed Hull...       26.7  ...   \n",
              "4  corn ground/canola meal/Bakery/Cottonseed Hull...       26.0  ...   \n",
              "\n",
              "  Rumen Propionate, mol/100 mol  Rumen Butyrate, mol/100 mol  TTOM dig, %   \\\n",
              "0                         24.47                        11.05          66.5   \n",
              "1                         25.91                        11.95          68.6   \n",
              "2                         24.98                        11.75          68.4   \n",
              "3                         23.07                        10.74          64.0   \n",
              "4                         22.03                        11.25          64.0   \n",
              "\n",
              "   TTGE dig, %  CH4, g/d   CH4 SEM  CH4/DMI, g/kg  CH4, %GEI  CH4, %GEI SEM  \\\n",
              "0    69.519632      300.0    33.12      20.113528   6.069369       0.302333   \n",
              "1    69.519632      290.4    33.12      20.113528   6.069369       0.302333   \n",
              "2    69.519632      312.0    33.12      20.113528   6.069369       0.302333   \n",
              "3    69.519632      748.8   197.04      20.113528   6.069369       0.302333   \n",
              "4    69.519632      451.2   197.04      20.113528   6.069369       0.302333   \n",
              "\n",
              "   CH4/Milk, g/kg  \n",
              "0                  \n",
              "1                  \n",
              "2                  \n",
              "3                  \n",
              "4                  \n",
              "\n",
              "[5 rows x 35 columns]"
            ]
          },
          "execution_count": 52,
          "metadata": {},
          "output_type": "execute_result"
        }
      ],
      "source": [
        "df=pd.read_csv('DairyMethane cleaned Dataset.csv')\n",
        "df.head()"
      ]
    },
    {
      "cell_type": "markdown",
      "metadata": {
        "id": "EpRXNFObLnDi"
      },
      "source": [
        "## Merging the climate dataset with the cleaned methane emmision dataset"
      ]
    },
    {
      "cell_type": "code",
      "execution_count": 53,
      "metadata": {
        "id": "vIEX0GgqKtxI"
      },
      "outputs": [],
      "source": [
        "# Load your datasets\n",
        "df_climate = pd.read_csv('Climate-data.csv')  # Replace with your climate dataset path\n",
        "df_methane = pd.read_csv('DairyMethane cleaned Dataset.csv')  # Replace with your methane emission dataset path\n"
      ]
    },
    {
      "cell_type": "code",
      "execution_count": null,
      "metadata": {
        "id": "NOayhovEL-aL"
      },
      "outputs": [],
      "source": []
    },
    {
      "cell_type": "code",
      "execution_count": 54,
      "metadata": {
        "colab": {
          "base_uri": "https://localhost:8080/",
          "height": 603
        },
        "id": "HskUVQc4Luh0",
        "outputId": "dddc2638-2dca-4897-862e-37af7146e74a"
      },
      "outputs": [
        {
          "data": {
            "text/html": [
              "<div>\n",
              "<style scoped>\n",
              "    .dataframe tbody tr th:only-of-type {\n",
              "        vertical-align: middle;\n",
              "    }\n",
              "\n",
              "    .dataframe tbody tr th {\n",
              "        vertical-align: top;\n",
              "    }\n",
              "\n",
              "    .dataframe thead th {\n",
              "        text-align: right;\n",
              "    }\n",
              "</style>\n",
              "<table border=\"1\" class=\"dataframe\">\n",
              "  <thead>\n",
              "    <tr style=\"text-align: right;\">\n",
              "      <th></th>\n",
              "      <th>Animal ID</th>\n",
              "      <th>Study Location</th>\n",
              "      <th>Animal sex: 1 = Male; 2= Female</th>\n",
              "      <th>Animal Age (months)</th>\n",
              "      <th>Animal BW, kg</th>\n",
              "      <th>Methane Measurement Method</th>\n",
              "      <th>DIM</th>\n",
              "      <th>ADG, kg/d</th>\n",
              "      <th>Supplemental Feed Ingredients</th>\n",
              "      <th>DMI, kg/d</th>\n",
              "      <th>...</th>\n",
              "      <th>Rumen Propionate, mol/100 mol</th>\n",
              "      <th>Rumen Butyrate, mol/100 mol</th>\n",
              "      <th>TTOM dig, %</th>\n",
              "      <th>TTGE dig, %</th>\n",
              "      <th>CH4, g/d</th>\n",
              "      <th>CH4 SEM</th>\n",
              "      <th>CH4/DMI, g/kg</th>\n",
              "      <th>CH4, %GEI</th>\n",
              "      <th>CH4, %GEI SEM</th>\n",
              "      <th>CH4/Milk, g/kg</th>\n",
              "    </tr>\n",
              "  </thead>\n",
              "  <tbody>\n",
              "    <tr>\n",
              "      <th>0</th>\n",
              "      <td>1</td>\n",
              "      <td>United States</td>\n",
              "      <td>2</td>\n",
              "      <td></td>\n",
              "      <td>672</td>\n",
              "      <td>Sulfur Hexafluoride (SF6) tracer technique</td>\n",
              "      <td>95</td>\n",
              "      <td></td>\n",
              "      <td>Corn, Canola, Whole Soybeans, Cookie, Cottonse...</td>\n",
              "      <td>26.9</td>\n",
              "      <td>...</td>\n",
              "      <td>24.47</td>\n",
              "      <td>11.05</td>\n",
              "      <td>66.5</td>\n",
              "      <td>69.519632</td>\n",
              "      <td>300.0</td>\n",
              "      <td>33.12</td>\n",
              "      <td>20.113528</td>\n",
              "      <td>6.069369</td>\n",
              "      <td>0.302333</td>\n",
              "      <td></td>\n",
              "    </tr>\n",
              "    <tr>\n",
              "      <th>1</th>\n",
              "      <td>2</td>\n",
              "      <td>United States</td>\n",
              "      <td>2</td>\n",
              "      <td></td>\n",
              "      <td>665</td>\n",
              "      <td>Sulfur Hexafluoride (SF6) tracer technique</td>\n",
              "      <td>95</td>\n",
              "      <td></td>\n",
              "      <td>Corn, Canola, Whole Soybeans, Cookie, Cottonse...</td>\n",
              "      <td>20.0</td>\n",
              "      <td>...</td>\n",
              "      <td>25.91</td>\n",
              "      <td>11.95</td>\n",
              "      <td>68.6</td>\n",
              "      <td>69.519632</td>\n",
              "      <td>290.4</td>\n",
              "      <td>33.12</td>\n",
              "      <td>20.113528</td>\n",
              "      <td>6.069369</td>\n",
              "      <td>0.302333</td>\n",
              "      <td></td>\n",
              "    </tr>\n",
              "    <tr>\n",
              "      <th>2</th>\n",
              "      <td>3</td>\n",
              "      <td>United States</td>\n",
              "      <td>2</td>\n",
              "      <td></td>\n",
              "      <td>661</td>\n",
              "      <td>Sulfur Hexafluoride (SF6) tracer technique</td>\n",
              "      <td>95</td>\n",
              "      <td></td>\n",
              "      <td>Corn, Canola, Whole Soybeans, Cookie, Cottonse...</td>\n",
              "      <td>25.7</td>\n",
              "      <td>...</td>\n",
              "      <td>24.98</td>\n",
              "      <td>11.75</td>\n",
              "      <td>68.4</td>\n",
              "      <td>69.519632</td>\n",
              "      <td>312.0</td>\n",
              "      <td>33.12</td>\n",
              "      <td>20.113528</td>\n",
              "      <td>6.069369</td>\n",
              "      <td>0.302333</td>\n",
              "      <td></td>\n",
              "    </tr>\n",
              "    <tr>\n",
              "      <th>3</th>\n",
              "      <td>4</td>\n",
              "      <td>United States</td>\n",
              "      <td>2</td>\n",
              "      <td>49</td>\n",
              "      <td>640</td>\n",
              "      <td>Sulfur Hexafluoride (SF6) tracer technique</td>\n",
              "      <td>80</td>\n",
              "      <td></td>\n",
              "      <td>corn ground/canola meal/Bakery/Cottonseed Hull...</td>\n",
              "      <td>26.7</td>\n",
              "      <td>...</td>\n",
              "      <td>23.07</td>\n",
              "      <td>10.74</td>\n",
              "      <td>64.0</td>\n",
              "      <td>69.519632</td>\n",
              "      <td>748.8</td>\n",
              "      <td>197.04</td>\n",
              "      <td>20.113528</td>\n",
              "      <td>6.069369</td>\n",
              "      <td>0.302333</td>\n",
              "      <td></td>\n",
              "    </tr>\n",
              "    <tr>\n",
              "      <th>4</th>\n",
              "      <td>5</td>\n",
              "      <td>United States</td>\n",
              "      <td>2</td>\n",
              "      <td>49</td>\n",
              "      <td>640</td>\n",
              "      <td>Sulfur Hexafluoride (SF6) tracer technique</td>\n",
              "      <td>80</td>\n",
              "      <td></td>\n",
              "      <td>corn ground/canola meal/Bakery/Cottonseed Hull...</td>\n",
              "      <td>26.0</td>\n",
              "      <td>...</td>\n",
              "      <td>22.03</td>\n",
              "      <td>11.25</td>\n",
              "      <td>64.0</td>\n",
              "      <td>69.519632</td>\n",
              "      <td>451.2</td>\n",
              "      <td>197.04</td>\n",
              "      <td>20.113528</td>\n",
              "      <td>6.069369</td>\n",
              "      <td>0.302333</td>\n",
              "      <td></td>\n",
              "    </tr>\n",
              "  </tbody>\n",
              "</table>\n",
              "<p>5 rows × 35 columns</p>\n",
              "</div>"
            ],
            "text/plain": [
              "   Animal ID Study Location  Animal sex: 1 = Male; 2= Female  \\\n",
              "0          1  United States                                2   \n",
              "1          2  United States                                2   \n",
              "2          3  United States                                2   \n",
              "3          4  United States                                2   \n",
              "4          5  United States                                2   \n",
              "\n",
              "  Animal Age (months) Animal BW, kg  \\\n",
              "0                               672   \n",
              "1                               665   \n",
              "2                               661   \n",
              "3                  49           640   \n",
              "4                  49           640   \n",
              "\n",
              "                   Methane Measurement Method DIM ADG, kg/d   \\\n",
              "0  Sulfur Hexafluoride (SF6) tracer technique  95              \n",
              "1  Sulfur Hexafluoride (SF6) tracer technique  95              \n",
              "2  Sulfur Hexafluoride (SF6) tracer technique  95              \n",
              "3  Sulfur Hexafluoride (SF6) tracer technique  80              \n",
              "4  Sulfur Hexafluoride (SF6) tracer technique  80              \n",
              "\n",
              "                       Supplemental Feed Ingredients  DMI, kg/d  ...  \\\n",
              "0  Corn, Canola, Whole Soybeans, Cookie, Cottonse...       26.9  ...   \n",
              "1  Corn, Canola, Whole Soybeans, Cookie, Cottonse...       20.0  ...   \n",
              "2  Corn, Canola, Whole Soybeans, Cookie, Cottonse...       25.7  ...   \n",
              "3  corn ground/canola meal/Bakery/Cottonseed Hull...       26.7  ...   \n",
              "4  corn ground/canola meal/Bakery/Cottonseed Hull...       26.0  ...   \n",
              "\n",
              "  Rumen Propionate, mol/100 mol  Rumen Butyrate, mol/100 mol  TTOM dig, %   \\\n",
              "0                         24.47                        11.05          66.5   \n",
              "1                         25.91                        11.95          68.6   \n",
              "2                         24.98                        11.75          68.4   \n",
              "3                         23.07                        10.74          64.0   \n",
              "4                         22.03                        11.25          64.0   \n",
              "\n",
              "   TTGE dig, %  CH4, g/d   CH4 SEM  CH4/DMI, g/kg  CH4, %GEI  CH4, %GEI SEM  \\\n",
              "0    69.519632      300.0    33.12      20.113528   6.069369       0.302333   \n",
              "1    69.519632      290.4    33.12      20.113528   6.069369       0.302333   \n",
              "2    69.519632      312.0    33.12      20.113528   6.069369       0.302333   \n",
              "3    69.519632      748.8   197.04      20.113528   6.069369       0.302333   \n",
              "4    69.519632      451.2   197.04      20.113528   6.069369       0.302333   \n",
              "\n",
              "   CH4/Milk, g/kg  \n",
              "0                  \n",
              "1                  \n",
              "2                  \n",
              "3                  \n",
              "4                  \n",
              "\n",
              "[5 rows x 35 columns]"
            ]
          },
          "execution_count": 54,
          "metadata": {},
          "output_type": "execute_result"
        }
      ],
      "source": [
        "df_methane.head()\n"
      ]
    },
    {
      "cell_type": "code",
      "execution_count": 55,
      "metadata": {
        "colab": {
          "base_uri": "https://localhost:8080/",
          "height": 206
        },
        "id": "qZqssAz4MVv0",
        "outputId": "b9c22e2f-c440-42b3-c37e-a50716037aa5"
      },
      "outputs": [
        {
          "data": {
            "text/html": [
              "<div>\n",
              "<style scoped>\n",
              "    .dataframe tbody tr th:only-of-type {\n",
              "        vertical-align: middle;\n",
              "    }\n",
              "\n",
              "    .dataframe tbody tr th {\n",
              "        vertical-align: top;\n",
              "    }\n",
              "\n",
              "    .dataframe thead th {\n",
              "        text-align: right;\n",
              "    }\n",
              "</style>\n",
              "<table border=\"1\" class=\"dataframe\">\n",
              "  <thead>\n",
              "    <tr style=\"text-align: right;\">\n",
              "      <th></th>\n",
              "      <th>#</th>\n",
              "      <th>Name</th>\n",
              "      <th>Average Temperature (°C)</th>\n",
              "      <th>Humidity (%)</th>\n",
              "      <th>Wind Speed (km/h)</th>\n",
              "      <th>Rainfall (mm)</th>\n",
              "      <th>Pressure (hPa)</th>\n",
              "    </tr>\n",
              "  </thead>\n",
              "  <tbody>\n",
              "    <tr>\n",
              "      <th>0</th>\n",
              "      <td>1</td>\n",
              "      <td>United States</td>\n",
              "      <td>12.5</td>\n",
              "      <td>55</td>\n",
              "      <td>20.4</td>\n",
              "      <td>3.6</td>\n",
              "      <td>1015</td>\n",
              "    </tr>\n",
              "    <tr>\n",
              "      <th>1</th>\n",
              "      <td>2</td>\n",
              "      <td>Netherlands</td>\n",
              "      <td>9.5</td>\n",
              "      <td>78</td>\n",
              "      <td>15.1</td>\n",
              "      <td>4.8</td>\n",
              "      <td>1018</td>\n",
              "    </tr>\n",
              "    <tr>\n",
              "      <th>2</th>\n",
              "      <td>3</td>\n",
              "      <td>Canada</td>\n",
              "      <td>-5.6</td>\n",
              "      <td>65</td>\n",
              "      <td>18.2</td>\n",
              "      <td>2.2</td>\n",
              "      <td>1020</td>\n",
              "    </tr>\n",
              "    <tr>\n",
              "      <th>3</th>\n",
              "      <td>4</td>\n",
              "      <td>Italy</td>\n",
              "      <td>14.2</td>\n",
              "      <td>60</td>\n",
              "      <td>12.3</td>\n",
              "      <td>0.8</td>\n",
              "      <td>1012</td>\n",
              "    </tr>\n",
              "    <tr>\n",
              "      <th>4</th>\n",
              "      <td>5</td>\n",
              "      <td>Japan</td>\n",
              "      <td>15.5</td>\n",
              "      <td>70</td>\n",
              "      <td>25.5</td>\n",
              "      <td>5.6</td>\n",
              "      <td>1013</td>\n",
              "    </tr>\n",
              "  </tbody>\n",
              "</table>\n",
              "</div>"
            ],
            "text/plain": [
              "   #           Name  Average Temperature (°C)  Humidity (%)  \\\n",
              "0  1  United States                      12.5            55   \n",
              "1  2    Netherlands                       9.5            78   \n",
              "2  3         Canada                      -5.6            65   \n",
              "3  4          Italy                      14.2            60   \n",
              "4  5          Japan                      15.5            70   \n",
              "\n",
              "   Wind Speed (km/h)  Rainfall (mm)  Pressure (hPa)  \n",
              "0               20.4            3.6            1015  \n",
              "1               15.1            4.8            1018  \n",
              "2               18.2            2.2            1020  \n",
              "3               12.3            0.8            1012  \n",
              "4               25.5            5.6            1013  "
            ]
          },
          "execution_count": 55,
          "metadata": {},
          "output_type": "execute_result"
        }
      ],
      "source": [
        "df_climate.head()"
      ]
    },
    {
      "cell_type": "code",
      "execution_count": 56,
      "metadata": {
        "id": "r-ZA45p6MVyC"
      },
      "outputs": [],
      "source": [
        "# Merge the datasets on the 'Study Location' column\n",
        "merged_df = pd.merge(df_methane, df_climate, how='inner', left_on='Study Location', right_on='Name')\n",
        "\n",
        "\n"
      ]
    },
    {
      "cell_type": "code",
      "execution_count": 57,
      "metadata": {
        "colab": {
          "base_uri": "https://localhost:8080/",
          "height": 603
        },
        "id": "w_ecXOUMMV0n",
        "outputId": "8a392a2b-42dd-40de-fcde-364d44b0e15f"
      },
      "outputs": [
        {
          "data": {
            "text/html": [
              "<div>\n",
              "<style scoped>\n",
              "    .dataframe tbody tr th:only-of-type {\n",
              "        vertical-align: middle;\n",
              "    }\n",
              "\n",
              "    .dataframe tbody tr th {\n",
              "        vertical-align: top;\n",
              "    }\n",
              "\n",
              "    .dataframe thead th {\n",
              "        text-align: right;\n",
              "    }\n",
              "</style>\n",
              "<table border=\"1\" class=\"dataframe\">\n",
              "  <thead>\n",
              "    <tr style=\"text-align: right;\">\n",
              "      <th></th>\n",
              "      <th>Animal ID</th>\n",
              "      <th>Study Location</th>\n",
              "      <th>Animal sex: 1 = Male; 2= Female</th>\n",
              "      <th>Animal Age (months)</th>\n",
              "      <th>Animal BW, kg</th>\n",
              "      <th>Methane Measurement Method</th>\n",
              "      <th>DIM</th>\n",
              "      <th>ADG, kg/d</th>\n",
              "      <th>Supplemental Feed Ingredients</th>\n",
              "      <th>DMI, kg/d</th>\n",
              "      <th>...</th>\n",
              "      <th>Rumen Propionate, mol/100 mol</th>\n",
              "      <th>Rumen Butyrate, mol/100 mol</th>\n",
              "      <th>TTOM dig, %</th>\n",
              "      <th>TTGE dig, %</th>\n",
              "      <th>CH4, g/d</th>\n",
              "      <th>CH4 SEM</th>\n",
              "      <th>CH4/DMI, g/kg</th>\n",
              "      <th>CH4, %GEI</th>\n",
              "      <th>CH4, %GEI SEM</th>\n",
              "      <th>CH4/Milk, g/kg</th>\n",
              "    </tr>\n",
              "  </thead>\n",
              "  <tbody>\n",
              "    <tr>\n",
              "      <th>0</th>\n",
              "      <td>1</td>\n",
              "      <td>United States</td>\n",
              "      <td>2</td>\n",
              "      <td></td>\n",
              "      <td>672</td>\n",
              "      <td>Sulfur Hexafluoride (SF6) tracer technique</td>\n",
              "      <td>95</td>\n",
              "      <td></td>\n",
              "      <td>Corn, Canola, Whole Soybeans, Cookie, Cottonse...</td>\n",
              "      <td>26.9</td>\n",
              "      <td>...</td>\n",
              "      <td>24.47</td>\n",
              "      <td>11.05</td>\n",
              "      <td>66.5</td>\n",
              "      <td>69.519632</td>\n",
              "      <td>300.0</td>\n",
              "      <td>33.12</td>\n",
              "      <td>20.113528</td>\n",
              "      <td>6.069369</td>\n",
              "      <td>0.302333</td>\n",
              "      <td></td>\n",
              "    </tr>\n",
              "    <tr>\n",
              "      <th>1</th>\n",
              "      <td>2</td>\n",
              "      <td>United States</td>\n",
              "      <td>2</td>\n",
              "      <td></td>\n",
              "      <td>665</td>\n",
              "      <td>Sulfur Hexafluoride (SF6) tracer technique</td>\n",
              "      <td>95</td>\n",
              "      <td></td>\n",
              "      <td>Corn, Canola, Whole Soybeans, Cookie, Cottonse...</td>\n",
              "      <td>20.0</td>\n",
              "      <td>...</td>\n",
              "      <td>25.91</td>\n",
              "      <td>11.95</td>\n",
              "      <td>68.6</td>\n",
              "      <td>69.519632</td>\n",
              "      <td>290.4</td>\n",
              "      <td>33.12</td>\n",
              "      <td>20.113528</td>\n",
              "      <td>6.069369</td>\n",
              "      <td>0.302333</td>\n",
              "      <td></td>\n",
              "    </tr>\n",
              "    <tr>\n",
              "      <th>2</th>\n",
              "      <td>3</td>\n",
              "      <td>United States</td>\n",
              "      <td>2</td>\n",
              "      <td></td>\n",
              "      <td>661</td>\n",
              "      <td>Sulfur Hexafluoride (SF6) tracer technique</td>\n",
              "      <td>95</td>\n",
              "      <td></td>\n",
              "      <td>Corn, Canola, Whole Soybeans, Cookie, Cottonse...</td>\n",
              "      <td>25.7</td>\n",
              "      <td>...</td>\n",
              "      <td>24.98</td>\n",
              "      <td>11.75</td>\n",
              "      <td>68.4</td>\n",
              "      <td>69.519632</td>\n",
              "      <td>312.0</td>\n",
              "      <td>33.12</td>\n",
              "      <td>20.113528</td>\n",
              "      <td>6.069369</td>\n",
              "      <td>0.302333</td>\n",
              "      <td></td>\n",
              "    </tr>\n",
              "    <tr>\n",
              "      <th>3</th>\n",
              "      <td>4</td>\n",
              "      <td>United States</td>\n",
              "      <td>2</td>\n",
              "      <td>49</td>\n",
              "      <td>640</td>\n",
              "      <td>Sulfur Hexafluoride (SF6) tracer technique</td>\n",
              "      <td>80</td>\n",
              "      <td></td>\n",
              "      <td>corn ground/canola meal/Bakery/Cottonseed Hull...</td>\n",
              "      <td>26.7</td>\n",
              "      <td>...</td>\n",
              "      <td>23.07</td>\n",
              "      <td>10.74</td>\n",
              "      <td>64.0</td>\n",
              "      <td>69.519632</td>\n",
              "      <td>748.8</td>\n",
              "      <td>197.04</td>\n",
              "      <td>20.113528</td>\n",
              "      <td>6.069369</td>\n",
              "      <td>0.302333</td>\n",
              "      <td></td>\n",
              "    </tr>\n",
              "    <tr>\n",
              "      <th>4</th>\n",
              "      <td>5</td>\n",
              "      <td>United States</td>\n",
              "      <td>2</td>\n",
              "      <td>49</td>\n",
              "      <td>640</td>\n",
              "      <td>Sulfur Hexafluoride (SF6) tracer technique</td>\n",
              "      <td>80</td>\n",
              "      <td></td>\n",
              "      <td>corn ground/canola meal/Bakery/Cottonseed Hull...</td>\n",
              "      <td>26.0</td>\n",
              "      <td>...</td>\n",
              "      <td>22.03</td>\n",
              "      <td>11.25</td>\n",
              "      <td>64.0</td>\n",
              "      <td>69.519632</td>\n",
              "      <td>451.2</td>\n",
              "      <td>197.04</td>\n",
              "      <td>20.113528</td>\n",
              "      <td>6.069369</td>\n",
              "      <td>0.302333</td>\n",
              "      <td></td>\n",
              "    </tr>\n",
              "  </tbody>\n",
              "</table>\n",
              "<p>5 rows × 35 columns</p>\n",
              "</div>"
            ],
            "text/plain": [
              "   Animal ID Study Location  Animal sex: 1 = Male; 2= Female  \\\n",
              "0          1  United States                                2   \n",
              "1          2  United States                                2   \n",
              "2          3  United States                                2   \n",
              "3          4  United States                                2   \n",
              "4          5  United States                                2   \n",
              "\n",
              "  Animal Age (months) Animal BW, kg  \\\n",
              "0                               672   \n",
              "1                               665   \n",
              "2                               661   \n",
              "3                  49           640   \n",
              "4                  49           640   \n",
              "\n",
              "                   Methane Measurement Method DIM ADG, kg/d   \\\n",
              "0  Sulfur Hexafluoride (SF6) tracer technique  95              \n",
              "1  Sulfur Hexafluoride (SF6) tracer technique  95              \n",
              "2  Sulfur Hexafluoride (SF6) tracer technique  95              \n",
              "3  Sulfur Hexafluoride (SF6) tracer technique  80              \n",
              "4  Sulfur Hexafluoride (SF6) tracer technique  80              \n",
              "\n",
              "                       Supplemental Feed Ingredients  DMI, kg/d  ...  \\\n",
              "0  Corn, Canola, Whole Soybeans, Cookie, Cottonse...       26.9  ...   \n",
              "1  Corn, Canola, Whole Soybeans, Cookie, Cottonse...       20.0  ...   \n",
              "2  Corn, Canola, Whole Soybeans, Cookie, Cottonse...       25.7  ...   \n",
              "3  corn ground/canola meal/Bakery/Cottonseed Hull...       26.7  ...   \n",
              "4  corn ground/canola meal/Bakery/Cottonseed Hull...       26.0  ...   \n",
              "\n",
              "  Rumen Propionate, mol/100 mol  Rumen Butyrate, mol/100 mol  TTOM dig, %   \\\n",
              "0                         24.47                        11.05          66.5   \n",
              "1                         25.91                        11.95          68.6   \n",
              "2                         24.98                        11.75          68.4   \n",
              "3                         23.07                        10.74          64.0   \n",
              "4                         22.03                        11.25          64.0   \n",
              "\n",
              "   TTGE dig, %  CH4, g/d   CH4 SEM  CH4/DMI, g/kg  CH4, %GEI  CH4, %GEI SEM  \\\n",
              "0    69.519632      300.0    33.12      20.113528   6.069369       0.302333   \n",
              "1    69.519632      290.4    33.12      20.113528   6.069369       0.302333   \n",
              "2    69.519632      312.0    33.12      20.113528   6.069369       0.302333   \n",
              "3    69.519632      748.8   197.04      20.113528   6.069369       0.302333   \n",
              "4    69.519632      451.2   197.04      20.113528   6.069369       0.302333   \n",
              "\n",
              "   CH4/Milk, g/kg  \n",
              "0                  \n",
              "1                  \n",
              "2                  \n",
              "3                  \n",
              "4                  \n",
              "\n",
              "[5 rows x 35 columns]"
            ]
          },
          "execution_count": 57,
          "metadata": {},
          "output_type": "execute_result"
        }
      ],
      "source": [
        "df.head()"
      ]
    },
    {
      "cell_type": "code",
      "execution_count": 58,
      "metadata": {
        "colab": {
          "base_uri": "https://localhost:8080/",
          "height": 603
        },
        "id": "PMAEVXYTMV2q",
        "outputId": "0e70d5cd-8757-4134-e121-5d8f4549e6f2"
      },
      "outputs": [
        {
          "data": {
            "text/html": [
              "<div>\n",
              "<style scoped>\n",
              "    .dataframe tbody tr th:only-of-type {\n",
              "        vertical-align: middle;\n",
              "    }\n",
              "\n",
              "    .dataframe tbody tr th {\n",
              "        vertical-align: top;\n",
              "    }\n",
              "\n",
              "    .dataframe thead th {\n",
              "        text-align: right;\n",
              "    }\n",
              "</style>\n",
              "<table border=\"1\" class=\"dataframe\">\n",
              "  <thead>\n",
              "    <tr style=\"text-align: right;\">\n",
              "      <th></th>\n",
              "      <th>Animal ID</th>\n",
              "      <th>Study Location</th>\n",
              "      <th>Animal sex: 1 = Male; 2= Female</th>\n",
              "      <th>Animal Age (months)</th>\n",
              "      <th>Animal BW, kg</th>\n",
              "      <th>Methane Measurement Method</th>\n",
              "      <th>DIM</th>\n",
              "      <th>ADG, kg/d</th>\n",
              "      <th>Supplemental Feed Ingredients</th>\n",
              "      <th>DMI, kg/d</th>\n",
              "      <th>...</th>\n",
              "      <th>CH4, %GEI</th>\n",
              "      <th>CH4, %GEI SEM</th>\n",
              "      <th>CH4/Milk, g/kg</th>\n",
              "      <th>#</th>\n",
              "      <th>Name</th>\n",
              "      <th>Average Temperature (°C)</th>\n",
              "      <th>Humidity (%)</th>\n",
              "      <th>Wind Speed (km/h)</th>\n",
              "      <th>Rainfall (mm)</th>\n",
              "      <th>Pressure (hPa)</th>\n",
              "    </tr>\n",
              "  </thead>\n",
              "  <tbody>\n",
              "    <tr>\n",
              "      <th>0</th>\n",
              "      <td>1</td>\n",
              "      <td>United States</td>\n",
              "      <td>2</td>\n",
              "      <td></td>\n",
              "      <td>672</td>\n",
              "      <td>Sulfur Hexafluoride (SF6) tracer technique</td>\n",
              "      <td>95</td>\n",
              "      <td></td>\n",
              "      <td>Corn, Canola, Whole Soybeans, Cookie, Cottonse...</td>\n",
              "      <td>26.9</td>\n",
              "      <td>...</td>\n",
              "      <td>6.069369</td>\n",
              "      <td>0.302333</td>\n",
              "      <td></td>\n",
              "      <td>1</td>\n",
              "      <td>United States</td>\n",
              "      <td>12.5</td>\n",
              "      <td>55</td>\n",
              "      <td>20.4</td>\n",
              "      <td>3.6</td>\n",
              "      <td>1015</td>\n",
              "    </tr>\n",
              "    <tr>\n",
              "      <th>1</th>\n",
              "      <td>2</td>\n",
              "      <td>United States</td>\n",
              "      <td>2</td>\n",
              "      <td></td>\n",
              "      <td>665</td>\n",
              "      <td>Sulfur Hexafluoride (SF6) tracer technique</td>\n",
              "      <td>95</td>\n",
              "      <td></td>\n",
              "      <td>Corn, Canola, Whole Soybeans, Cookie, Cottonse...</td>\n",
              "      <td>20.0</td>\n",
              "      <td>...</td>\n",
              "      <td>6.069369</td>\n",
              "      <td>0.302333</td>\n",
              "      <td></td>\n",
              "      <td>1</td>\n",
              "      <td>United States</td>\n",
              "      <td>12.5</td>\n",
              "      <td>55</td>\n",
              "      <td>20.4</td>\n",
              "      <td>3.6</td>\n",
              "      <td>1015</td>\n",
              "    </tr>\n",
              "    <tr>\n",
              "      <th>2</th>\n",
              "      <td>3</td>\n",
              "      <td>United States</td>\n",
              "      <td>2</td>\n",
              "      <td></td>\n",
              "      <td>661</td>\n",
              "      <td>Sulfur Hexafluoride (SF6) tracer technique</td>\n",
              "      <td>95</td>\n",
              "      <td></td>\n",
              "      <td>Corn, Canola, Whole Soybeans, Cookie, Cottonse...</td>\n",
              "      <td>25.7</td>\n",
              "      <td>...</td>\n",
              "      <td>6.069369</td>\n",
              "      <td>0.302333</td>\n",
              "      <td></td>\n",
              "      <td>1</td>\n",
              "      <td>United States</td>\n",
              "      <td>12.5</td>\n",
              "      <td>55</td>\n",
              "      <td>20.4</td>\n",
              "      <td>3.6</td>\n",
              "      <td>1015</td>\n",
              "    </tr>\n",
              "    <tr>\n",
              "      <th>3</th>\n",
              "      <td>4</td>\n",
              "      <td>United States</td>\n",
              "      <td>2</td>\n",
              "      <td>49</td>\n",
              "      <td>640</td>\n",
              "      <td>Sulfur Hexafluoride (SF6) tracer technique</td>\n",
              "      <td>80</td>\n",
              "      <td></td>\n",
              "      <td>corn ground/canola meal/Bakery/Cottonseed Hull...</td>\n",
              "      <td>26.7</td>\n",
              "      <td>...</td>\n",
              "      <td>6.069369</td>\n",
              "      <td>0.302333</td>\n",
              "      <td></td>\n",
              "      <td>1</td>\n",
              "      <td>United States</td>\n",
              "      <td>12.5</td>\n",
              "      <td>55</td>\n",
              "      <td>20.4</td>\n",
              "      <td>3.6</td>\n",
              "      <td>1015</td>\n",
              "    </tr>\n",
              "    <tr>\n",
              "      <th>4</th>\n",
              "      <td>5</td>\n",
              "      <td>United States</td>\n",
              "      <td>2</td>\n",
              "      <td>49</td>\n",
              "      <td>640</td>\n",
              "      <td>Sulfur Hexafluoride (SF6) tracer technique</td>\n",
              "      <td>80</td>\n",
              "      <td></td>\n",
              "      <td>corn ground/canola meal/Bakery/Cottonseed Hull...</td>\n",
              "      <td>26.0</td>\n",
              "      <td>...</td>\n",
              "      <td>6.069369</td>\n",
              "      <td>0.302333</td>\n",
              "      <td></td>\n",
              "      <td>1</td>\n",
              "      <td>United States</td>\n",
              "      <td>12.5</td>\n",
              "      <td>55</td>\n",
              "      <td>20.4</td>\n",
              "      <td>3.6</td>\n",
              "      <td>1015</td>\n",
              "    </tr>\n",
              "  </tbody>\n",
              "</table>\n",
              "<p>5 rows × 42 columns</p>\n",
              "</div>"
            ],
            "text/plain": [
              "   Animal ID Study Location  Animal sex: 1 = Male; 2= Female  \\\n",
              "0          1  United States                                2   \n",
              "1          2  United States                                2   \n",
              "2          3  United States                                2   \n",
              "3          4  United States                                2   \n",
              "4          5  United States                                2   \n",
              "\n",
              "  Animal Age (months) Animal BW, kg  \\\n",
              "0                               672   \n",
              "1                               665   \n",
              "2                               661   \n",
              "3                  49           640   \n",
              "4                  49           640   \n",
              "\n",
              "                   Methane Measurement Method DIM ADG, kg/d   \\\n",
              "0  Sulfur Hexafluoride (SF6) tracer technique  95              \n",
              "1  Sulfur Hexafluoride (SF6) tracer technique  95              \n",
              "2  Sulfur Hexafluoride (SF6) tracer technique  95              \n",
              "3  Sulfur Hexafluoride (SF6) tracer technique  80              \n",
              "4  Sulfur Hexafluoride (SF6) tracer technique  80              \n",
              "\n",
              "                       Supplemental Feed Ingredients  DMI, kg/d  ...  \\\n",
              "0  Corn, Canola, Whole Soybeans, Cookie, Cottonse...       26.9  ...   \n",
              "1  Corn, Canola, Whole Soybeans, Cookie, Cottonse...       20.0  ...   \n",
              "2  Corn, Canola, Whole Soybeans, Cookie, Cottonse...       25.7  ...   \n",
              "3  corn ground/canola meal/Bakery/Cottonseed Hull...       26.7  ...   \n",
              "4  corn ground/canola meal/Bakery/Cottonseed Hull...       26.0  ...   \n",
              "\n",
              "  CH4, %GEI  CH4, %GEI SEM  CH4/Milk, g/kg  #           Name  \\\n",
              "0  6.069369       0.302333                  1  United States   \n",
              "1  6.069369       0.302333                  1  United States   \n",
              "2  6.069369       0.302333                  1  United States   \n",
              "3  6.069369       0.302333                  1  United States   \n",
              "4  6.069369       0.302333                  1  United States   \n",
              "\n",
              "   Average Temperature (°C)  Humidity (%)  Wind Speed (km/h)  Rainfall (mm)  \\\n",
              "0                      12.5            55               20.4            3.6   \n",
              "1                      12.5            55               20.4            3.6   \n",
              "2                      12.5            55               20.4            3.6   \n",
              "3                      12.5            55               20.4            3.6   \n",
              "4                      12.5            55               20.4            3.6   \n",
              "\n",
              "   Pressure (hPa)  \n",
              "0            1015  \n",
              "1            1015  \n",
              "2            1015  \n",
              "3            1015  \n",
              "4            1015  \n",
              "\n",
              "[5 rows x 42 columns]"
            ]
          },
          "execution_count": 58,
          "metadata": {},
          "output_type": "execute_result"
        }
      ],
      "source": [
        "merged_df.head()"
      ]
    },
    {
      "cell_type": "code",
      "execution_count": 61,
      "metadata": {
        "id": "wN8K6_lZMV56"
      },
      "outputs": [],
      "source": [
        "merged_df.drop(['#'], axis=1, inplace=True)"
      ]
    },
    {
      "cell_type": "code",
      "execution_count": 62,
      "metadata": {
        "colab": {
          "base_uri": "https://localhost:8080/"
        },
        "id": "FNhVkjgwNSmw",
        "outputId": "58d6a921-23b5-4701-a064-fa493cd5bee6"
      },
      "outputs": [
        {
          "data": {
            "text/plain": [
              "(695, 41)"
            ]
          },
          "execution_count": 62,
          "metadata": {},
          "output_type": "execute_result"
        }
      ],
      "source": [
        "merged_df.shape"
      ]
    },
    {
      "cell_type": "code",
      "execution_count": 65,
      "metadata": {
        "colab": {
          "base_uri": "https://localhost:8080/"
        },
        "id": "1sjeDgeYPPlw",
        "outputId": "5390a59d-bdc8-4ab1-d3f1-86bda6822e7d"
      },
      "outputs": [
        {
          "name": "stdout",
          "output_type": "stream",
          "text": [
            "Dataset saved successfully!\n"
          ]
        }
      ],
      "source": [
        "merged_df.to_csv('DairyMethane merged Dataset.csv', index=False)\n",
        "\n",
        "print(\"Dataset saved successfully!\")\n"
      ]
    },
    {
      "cell_type": "code",
      "execution_count": 66,
      "metadata": {},
      "outputs": [
        {
          "data": {
            "text/plain": [
              "Animal ID                          0\n",
              "Study Location                     0\n",
              "Animal sex: 1 = Male; 2= Female    0\n",
              "Animal Age (months)                0\n",
              "Animal BW, kg                      0\n",
              "Methane Measurement Method         0\n",
              "DIM                                0\n",
              "ADG, kg/d                          0\n",
              "Supplemental Feed Ingredients      0\n",
              "DMI, kg/d                          0\n",
              "DMI SEM                            0\n",
              "DMI SED                            0\n",
              "DMI SD                             0\n",
              "Diet GE, Mcal/kg DM                0\n",
              "Diet CP, %DM                       0\n",
              "Diet EE, %DM                       0\n",
              "Diet Ash, %DM                      0\n",
              "Diet NDF, %DM                      0\n",
              "Diet ADF, %DM                      0\n",
              "Diet Lignin, %DM                   0\n",
              "Diet Starch, %DM                   0\n",
              "Rumen pH                           0\n",
              "Rumen Ammonia, mM                  0\n",
              "Rumen VFA SED                      0\n",
              "Rumen Acetate, mol/100 mol         0\n",
              "Rumen Propionate, mol/100 mol      0\n",
              "Rumen Butyrate, mol/100 mol        0\n",
              "TTOM dig, %                        0\n",
              "TTGE dig, %                        0\n",
              "CH4, g/d                           0\n",
              "CH4 SEM                            0\n",
              "CH4/DMI, g/kg                      0\n",
              "CH4, %GEI                          0\n",
              "CH4, %GEI SEM                      0\n",
              "CH4/Milk, g/kg                     0\n",
              "Name                               0\n",
              "Average Temperature (°C)           0\n",
              "Humidity (%)                       0\n",
              "Wind Speed (km/h)                  0\n",
              "Rainfall (mm)                      0\n",
              "Pressure (hPa)                     0\n",
              "dtype: int64"
            ]
          },
          "execution_count": 66,
          "metadata": {},
          "output_type": "execute_result"
        }
      ],
      "source": [
        "merged_df.isnull().sum()"
      ]
    },
    {
      "cell_type": "code",
      "execution_count": 67,
      "metadata": {},
      "outputs": [
        {
          "name": "stdout",
          "output_type": "stream",
          "text": [
            "Animal ID                            0\n",
            "Study Location                       0\n",
            "Animal sex: 1 = Male; 2= Female      0\n",
            "Animal Age (months)                583\n",
            "Animal BW, kg                        2\n",
            "Methane Measurement Method           0\n",
            "DIM                                  9\n",
            "ADG, kg/d                          661\n",
            "Supplemental Feed Ingredients        0\n",
            "DMI, kg/d                            0\n",
            "DMI SEM                              2\n",
            "DMI SED                              0\n",
            "DMI SD                               0\n",
            "Diet GE, Mcal/kg DM                  0\n",
            "Diet CP, %DM                         0\n",
            "Diet EE, %DM                         0\n",
            "Diet Ash, %DM                        0\n",
            "Diet NDF, %DM                        0\n",
            "Diet ADF, %DM                        0\n",
            "Diet Lignin, %DM                     0\n",
            "Diet Starch, %DM                     1\n",
            "Rumen pH                             0\n",
            "Rumen Ammonia, mM                    0\n",
            "Rumen VFA SED                        0\n",
            "Rumen Acetate, mol/100 mol           0\n",
            "Rumen Propionate, mol/100 mol        0\n",
            "Rumen Butyrate, mol/100 mol          0\n",
            "TTOM dig, %                          0\n",
            "TTGE dig, %                          0\n",
            "CH4, g/d                             0\n",
            "CH4 SEM                              4\n",
            "CH4/DMI, g/kg                        0\n",
            "CH4, %GEI                            0\n",
            "CH4, %GEI SEM                        0\n",
            "CH4/Milk, g/kg                     379\n",
            "Name                                 0\n",
            "Average Temperature (°C)             0\n",
            "Humidity (%)                         0\n",
            "Wind Speed (km/h)                    0\n",
            "Rainfall (mm)                        0\n",
            "Pressure (hPa)                       0\n",
            "dtype: int64\n"
          ]
        }
      ],
      "source": [
        "hidden_nulls = merged_df.isin(['', 'NA', 'N/A', '-', 'null', ' '])  # Add more as necessary\n",
        "print(hidden_nulls.sum()) "
      ]
    },
    {
      "cell_type": "code",
      "execution_count": 68,
      "metadata": {},
      "outputs": [
        {
          "name": "stdout",
          "output_type": "stream",
          "text": [
            "Animal ID                            0\n",
            "Study Location                       0\n",
            "Animal sex: 1 = Male; 2= Female      0\n",
            "Animal Age (months)                672\n",
            "Animal BW, kg                        2\n",
            "Methane Measurement Method           0\n",
            "DIM                                  9\n",
            "ADG, kg/d                          750\n",
            "Supplemental Feed Ingredients        0\n",
            "DMI, kg/d                            0\n",
            "DMI SEM                              2\n",
            "DMI SED                              0\n",
            "DMI SD                               0\n",
            "Diet GE, Mcal/kg DM                  0\n",
            "Diet CP, %DM                         0\n",
            "Diet EE, %DM                         0\n",
            "Diet Ash, %DM                        0\n",
            "Diet NDF, %DM                        0\n",
            "Diet ADF, %DM                        0\n",
            "Diet Lignin, %DM                     0\n",
            "Diet Starch, %DM                     1\n",
            "Rumen pH                             0\n",
            "Rumen Ammonia, mM                    0\n",
            "Rumen VFA SED                        0\n",
            "Rumen Acetate, mol/100 mol           0\n",
            "Rumen Propionate, mol/100 mol        0\n",
            "Rumen Butyrate, mol/100 mol          0\n",
            "TTOM dig, %                          0\n",
            "TTGE dig, %                          0\n",
            "CH4, g/d                             0\n",
            "CH4 SEM                              4\n",
            "CH4/DMI, g/kg                        0\n",
            "CH4, %GEI                            0\n",
            "CH4, %GEI SEM                        0\n",
            "CH4/Milk, g/kg                     445\n",
            "dtype: int64\n"
          ]
        },
        {
          "name": "stderr",
          "output_type": "stream",
          "text": [
            "C:\\Users\\Admin\\AppData\\Local\\Temp\\ipykernel_3932\\796249.py:2: FutureWarning: DataFrame.applymap has been deprecated. Use DataFrame.map instead.\n",
            "  stripped_df = df.applymap(lambda x: x.strip() if isinstance(x, str) else x)\n"
          ]
        }
      ],
      "source": [
        "# Strip whitespace and check for empty strings\n",
        "stripped_df = df.applymap(lambda x: x.strip() if isinstance(x, str) else x)\n",
        "print(stripped_df.isin(['']).sum())  # Count of empty strings after stripping whitespace\n"
      ]
    },
    {
      "cell_type": "code",
      "execution_count": 69,
      "metadata": {},
      "outputs": [],
      "source": [
        "import numpy as np\n",
        "\n",
        "# Replace common markers of missing values with np.nan\n",
        "merged_df.replace(['', ' ', 'NA', 'N/A', '-', 'null'], np.nan, inplace=True)\n"
      ]
    },
    {
      "cell_type": "code",
      "execution_count": 71,
      "metadata": {},
      "outputs": [
        {
          "data": {
            "text/plain": [
              "Animal ID                            0\n",
              "Study Location                       0\n",
              "Animal sex: 1 = Male; 2= Female      0\n",
              "Animal Age (months)                583\n",
              "Animal BW, kg                        2\n",
              "Methane Measurement Method           0\n",
              "DIM                                  9\n",
              "ADG, kg/d                          661\n",
              "Supplemental Feed Ingredients        0\n",
              "DMI, kg/d                            0\n",
              "DMI SEM                              2\n",
              "DMI SED                              0\n",
              "DMI SD                               0\n",
              "Diet GE, Mcal/kg DM                  0\n",
              "Diet CP, %DM                         0\n",
              "Diet EE, %DM                         0\n",
              "Diet Ash, %DM                        0\n",
              "Diet NDF, %DM                        0\n",
              "Diet ADF, %DM                        0\n",
              "Diet Lignin, %DM                     0\n",
              "Diet Starch, %DM                     1\n",
              "Rumen pH                             0\n",
              "Rumen Ammonia, mM                    0\n",
              "Rumen VFA SED                        0\n",
              "Rumen Acetate, mol/100 mol           0\n",
              "Rumen Propionate, mol/100 mol        0\n",
              "Rumen Butyrate, mol/100 mol          0\n",
              "TTOM dig, %                          0\n",
              "TTGE dig, %                          0\n",
              "CH4, g/d                             0\n",
              "CH4 SEM                              4\n",
              "CH4/DMI, g/kg                        0\n",
              "CH4, %GEI                            0\n",
              "CH4, %GEI SEM                        0\n",
              "CH4/Milk, g/kg                     379\n",
              "Name                                 0\n",
              "Average Temperature (°C)             0\n",
              "Humidity (%)                         0\n",
              "Wind Speed (km/h)                    0\n",
              "Rainfall (mm)                        0\n",
              "Pressure (hPa)                       0\n",
              "dtype: int64"
            ]
          },
          "execution_count": 71,
          "metadata": {},
          "output_type": "execute_result"
        }
      ],
      "source": [
        "merged_df.isnull().sum()"
      ]
    },
    {
      "cell_type": "code",
      "execution_count": 72,
      "metadata": {},
      "outputs": [],
      "source": [
        "merged_df[numerical_cols] = merged_df[numerical_cols].fillna(merged_df[numerical_cols].mean())"
      ]
    },
    {
      "cell_type": "code",
      "execution_count": 73,
      "metadata": {},
      "outputs": [],
      "source": [
        "merged_df[categorical_cols] = merged_df[categorical_cols].fillna(merged_df[categorical_cols].mode().iloc[0])"
      ]
    },
    {
      "cell_type": "code",
      "execution_count": 74,
      "metadata": {},
      "outputs": [
        {
          "data": {
            "text/plain": [
              "Animal ID                          0\n",
              "Study Location                     0\n",
              "Animal sex: 1 = Male; 2= Female    0\n",
              "Animal Age (months)                0\n",
              "Animal BW, kg                      0\n",
              "Methane Measurement Method         0\n",
              "DIM                                0\n",
              "ADG, kg/d                          0\n",
              "Supplemental Feed Ingredients      0\n",
              "DMI, kg/d                          0\n",
              "DMI SEM                            0\n",
              "DMI SED                            0\n",
              "DMI SD                             0\n",
              "Diet GE, Mcal/kg DM                0\n",
              "Diet CP, %DM                       0\n",
              "Diet EE, %DM                       0\n",
              "Diet Ash, %DM                      0\n",
              "Diet NDF, %DM                      0\n",
              "Diet ADF, %DM                      0\n",
              "Diet Lignin, %DM                   0\n",
              "Diet Starch, %DM                   0\n",
              "Rumen pH                           0\n",
              "Rumen Ammonia, mM                  0\n",
              "Rumen VFA SED                      0\n",
              "Rumen Acetate, mol/100 mol         0\n",
              "Rumen Propionate, mol/100 mol      0\n",
              "Rumen Butyrate, mol/100 mol        0\n",
              "TTOM dig, %                        0\n",
              "TTGE dig, %                        0\n",
              "CH4, g/d                           0\n",
              "CH4 SEM                            0\n",
              "CH4/DMI, g/kg                      0\n",
              "CH4, %GEI                          0\n",
              "CH4, %GEI SEM                      0\n",
              "CH4/Milk, g/kg                     0\n",
              "Name                               0\n",
              "Average Temperature (°C)           0\n",
              "Humidity (%)                       0\n",
              "Wind Speed (km/h)                  0\n",
              "Rainfall (mm)                      0\n",
              "Pressure (hPa)                     0\n",
              "dtype: int64"
            ]
          },
          "execution_count": 74,
          "metadata": {},
          "output_type": "execute_result"
        }
      ],
      "source": [
        "merged_df.isnull().sum()"
      ]
    },
    {
      "cell_type": "code",
      "execution_count": null,
      "metadata": {},
      "outputs": [],
      "source": [
        "merged_df.to_csv('methane final.csv', index=False)\n",
        "\n",
        "print(\"Dataset saved successfully!\")\n"
      ]
    }
  ],
  "metadata": {
    "colab": {
      "provenance": []
    },
    "kernelspec": {
      "display_name": "Python 3",
      "name": "python3"
    },
    "language_info": {
      "codemirror_mode": {
        "name": "ipython",
        "version": 3
      },
      "file_extension": ".py",
      "mimetype": "text/x-python",
      "name": "python",
      "nbconvert_exporter": "python",
      "pygments_lexer": "ipython3",
      "version": "3.10.11"
    }
  },
  "nbformat": 4,
  "nbformat_minor": 0
}
